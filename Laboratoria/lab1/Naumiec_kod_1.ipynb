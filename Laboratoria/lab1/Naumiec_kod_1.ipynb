{
 "cells": [
  {
   "cell_type": "markdown",
   "metadata": {
    "pycharm": {
     "name": "#%% md\n"
    }
   },
   "source": [
    "# Laboratorium 1"
   ]
  },
  {
   "cell_type": "markdown",
   "metadata": {
    "pycharm": {
     "name": "#%% md\n"
    }
   },
   "source": [
    "# NARZĘDZIE"
   ]
  },
  {
   "cell_type": "markdown",
   "metadata": {
    "pycharm": {
     "name": "#%% md\n"
    }
   },
   "source": [
    "### Konfiguracja"
   ]
  },
  {
   "cell_type": "code",
   "execution_count": null,
   "metadata": {
    "pycharm": {
     "is_executing": true,
     "name": "#%%\n"
    }
   },
   "outputs": [],
   "source": [
    "import numpy as np\n",
    "import matplotlib.pyplot as plt\n",
    "import matplotlib.collections as mcoll\n",
    "import matplotlib.colors as mcolors\n",
    "from matplotlib.widgets import Button\n",
    "import json as js\n",
    "\n",
    "TOLERANCE = 0.15\n",
    "\n",
    "def dist(point1, point2):\n",
    "    return np.sqrt(np.power(point1[0] - point2[0], 2) + np.power(point1[1] - point2[1], 2))\n",
    "\n",
    "class _Button_callback(object):\n",
    "    def __init__(self, scenes):\n",
    "        self.i = 0\n",
    "        self.scenes = scenes\n",
    "        self.adding_points = False\n",
    "        self.added_points = []\n",
    "        self.adding_lines = False\n",
    "        self.added_lines = []\n",
    "        self.adding_rects = False\n",
    "        self.added_rects = []\n",
    "\n",
    "    def set_axes(self, ax):\n",
    "        self.ax = ax\n",
    "\n",
    "    def next(self, event):\n",
    "        self.i = (self.i + 1) % len(self.scenes)\n",
    "        self.draw(autoscaling = True)\n",
    "\n",
    "    def prev(self, event):\n",
    "        self.i = (self.i - 1) % len(self.scenes)\n",
    "        self.draw(autoscaling = True)\n",
    "\n",
    "    def add_point(self, event):\n",
    "        self.adding_points = not self.adding_points\n",
    "        self.new_line_point = None\n",
    "        if self.adding_points:\n",
    "            self.adding_lines = False\n",
    "            self.adding_rects = False\n",
    "            self.added_points.append(PointsCollection([]))\n",
    "              \n",
    "    def add_line(self, event):   \n",
    "        self.adding_lines = not self.adding_lines\n",
    "        self.new_line_point = None\n",
    "        if self.adding_lines:\n",
    "            self.adding_points = False\n",
    "            self.adding_rects = False\n",
    "            self.added_lines.append(LinesCollection([]))\n",
    "\n",
    "    def add_rect(self, event):\n",
    "        self.adding_rects = not self.adding_rects\n",
    "        self.new_line_point = None\n",
    "        if self.adding_rects:\n",
    "            self.adding_points = False\n",
    "            self.adding_lines = False\n",
    "            self.new_rect()\n",
    "    \n",
    "    def new_rect(self):\n",
    "        self.added_rects.append(LinesCollection([]))\n",
    "        self.rect_points = []\n",
    "        \n",
    "    def on_click(self, event):\n",
    "        if event.inaxes != self.ax:\n",
    "            return\n",
    "        new_point = (event.xdata, event.ydata)\n",
    "        if self.adding_points:\n",
    "            self.added_points[-1].add_points([new_point])\n",
    "            self.draw(autoscaling = False)\n",
    "        elif self.adding_lines:\n",
    "            if self.new_line_point is not None:\n",
    "                self.added_lines[-1].add([self.new_line_point, new_point])\n",
    "                self.new_line_point = None\n",
    "                self.draw(autoscaling = False)\n",
    "            else:\n",
    "                self.new_line_point = new_point\n",
    "        elif self.adding_rects:\n",
    "            if len(self.rect_points) == 0:\n",
    "                self.rect_points.append(new_point)\n",
    "            elif len(self.rect_points) == 1:\n",
    "                self.added_rects[-1].add([self.rect_points[-1], new_point])\n",
    "                self.rect_points.append(new_point)\n",
    "                self.draw(autoscaling = False)\n",
    "            elif len(self.rect_points) > 1:\n",
    "                if dist(self.rect_points[0], new_point) < (np.mean([self.ax.get_xlim(), self.ax.get_ylim()])*TOLERANCE):\n",
    "                    self.added_rects[-1].add([self.rect_points[-1], self.rect_points[0]])\n",
    "                    self.new_rect()\n",
    "                else:    \n",
    "                    self.added_rects[-1].add([self.rect_points[-1], new_point])\n",
    "                    self.rect_points.append(new_point)\n",
    "                self.draw(autoscaling = False)\n",
    "    \n",
    "    def draw(self, autoscaling = True):\n",
    "        if not autoscaling:\n",
    "            xlim = self.ax.get_xlim()\n",
    "            ylim = self.ax.get_ylim()\n",
    "        self.ax.clear()\n",
    "        for collection in (self.scenes[self.i].points + self.added_points):\n",
    "            if len(collection.points) > 0:\n",
    "                self.ax.scatter(*zip(*(np.array(collection.points))), **collection.kwargs)\n",
    "        for collection in (self.scenes[self.i].lines + self.added_lines + self.added_rects):\n",
    "            self.ax.add_collection(collection.get_collection())\n",
    "        self.ax.autoscale(autoscaling)\n",
    "        if not autoscaling:\n",
    "            self.ax.set_xlim(xlim)\n",
    "            self.ax.set_ylim(ylim)\n",
    "        plt.draw()\n"
   ]
  },
  {
   "cell_type": "code",
   "execution_count": null,
   "metadata": {
    "pycharm": {
     "is_executing": true,
     "name": "#%%\n"
    }
   },
   "outputs": [],
   "source": [
    "class Scene:\n",
    "    def __init__(self, points=[], lines=[]):\n",
    "        self.points=points\n",
    "        self.lines=lines\n",
    "\n",
    "class PointsCollection:\n",
    "    def __init__(self, points, **kwargs):\n",
    "        self.points = points\n",
    "        self.kwargs = kwargs\n",
    "    \n",
    "    def add_points(self, points):\n",
    "        self.points = self.points + points\n",
    "\n",
    "class LinesCollection:\n",
    "    def __init__(self, lines, **kwargs):\n",
    "        self.lines = lines\n",
    "        self.kwargs = kwargs\n",
    "        \n",
    "    def add(self, line):\n",
    "        self.lines.append(line)\n",
    "        \n",
    "    def get_collection(self):\n",
    "        return mcoll.LineCollection(self.lines, **self.kwargs)\n",
    "\n",
    "class Plot:\n",
    "    def __init__(self, scenes = [Scene()], points = [], lines = [], json = None):\n",
    "        if json is None:\n",
    "            self.scenes = scenes\n",
    "            if points or lines:\n",
    "                self.scenes[0].points = points\n",
    "                self.scenes[0].lines = lines\n",
    "        else:\n",
    "            self.scenes = [Scene([PointsCollection(pointsCol) for pointsCol in scene[\"points\"]], \n",
    "                                 [LinesCollection(linesCol) for linesCol in scene[\"lines\"]]) \n",
    "                           for scene in js.loads(json)]\n",
    "    \n",
    "    def __configure_buttons(self):\n",
    "        plt.subplots_adjust(bottom=0.2)\n",
    "        ax_prev = plt.axes([0.6, 0.05, 0.15, 0.075])\n",
    "        ax_next = plt.axes([0.76, 0.05, 0.15, 0.075])\n",
    "        ax_add_point = plt.axes([0.44, 0.05, 0.15, 0.075])\n",
    "        ax_add_line = plt.axes([0.28, 0.05, 0.15, 0.075])\n",
    "        ax_add_rect = plt.axes([0.12, 0.05, 0.15, 0.075])\n",
    "        b_next = Button(ax_next, 'Następny')\n",
    "        b_next.on_clicked(self.callback.next)\n",
    "        b_prev = Button(ax_prev, 'Poprzedni')\n",
    "        b_prev.on_clicked(self.callback.prev)\n",
    "        b_add_point = Button(ax_add_point, 'Dodaj punkt')\n",
    "        b_add_point.on_clicked(self.callback.add_point)\n",
    "        b_add_line = Button(ax_add_line, 'Dodaj linię')\n",
    "        b_add_line.on_clicked(self.callback.add_line)\n",
    "        b_add_rect = Button(ax_add_rect, 'Dodaj figurę')\n",
    "        b_add_rect.on_clicked(self.callback.add_rect)\n",
    "        return [b_prev, b_next, b_add_point, b_add_line, b_add_rect]\n",
    "    \n",
    "    def add_scene(self, scene):\n",
    "        self.scenes.append(scene)\n",
    "    \n",
    "    def add_scenes(self, scenes):\n",
    "        self.scenes = self.scenes + scenes\n",
    "        \n",
    "    def toJson(self):\n",
    "        return js.dumps([{\"points\": [np.array(pointCol.points).tolist() for pointCol in scene.points], \n",
    "                          \"lines\":[linesCol.lines for linesCol in scene.lines]} \n",
    "                         for scene in self.scenes])    \n",
    "    \n",
    "    def get_added_points(self):\n",
    "        if self.callback:\n",
    "            return self.callback.added_points\n",
    "        else:\n",
    "            return None\n",
    "    \n",
    "    def get_added_lines(self):\n",
    "        if self.callback:\n",
    "            return self.callback.added_lines\n",
    "        else:\n",
    "            return None\n",
    "        \n",
    "    def get_added_figure(self):\n",
    "        if self.callback:\n",
    "            return self.callback.added_rects\n",
    "        else:\n",
    "            return None\n",
    "    \n",
    "    def get_added_elements(self):\n",
    "        if self.callback:\n",
    "            return Scene(self.callback.added_points, self.callback.added_lines+self.callback.added_rects)\n",
    "        else:\n",
    "            return None\n",
    "    \n",
    "    def draw(self):\n",
    "        plt.close()\n",
    "        fig = plt.figure()\n",
    "        self.callback = _Button_callback(self.scenes)\n",
    "        self.widgets = self.__configure_buttons()\n",
    "        ax = plt.axes(autoscale_on = False)\n",
    "        self.callback.set_axes(ax)\n",
    "        fig.canvas.mpl_connect('button_press_event', self.callback.on_click)\n",
    "        plt.show()\n",
    "        self.callback.draw()\n"
   ]
  },
  {
   "cell_type": "markdown",
   "metadata": {
    "pycharm": {
     "name": "#%% md\n"
    }
   },
   "source": [
    "# ROZWIĄZANIE"
   ]
  },
  {
   "cell_type": "code",
   "execution_count": null,
   "metadata": {
    "pycharm": {
     "is_executing": true,
     "name": "#%%\n"
    }
   },
   "outputs": [],
   "source": [
    "import numpy as np\n",
    "import pandas as pd"
   ]
  },
  {
   "cell_type": "markdown",
   "metadata": {
    "pycharm": {
     "name": "#%% md\n"
    }
   },
   "source": [
    "# Zadanie 1 i Zadanie 2 - przygotowanie zbiorów punktów i ich wizualizacja graficzna."
   ]
  },
  {
   "cell_type": "markdown",
   "metadata": {
    "pycharm": {
     "name": "#%% md\n"
    }
   },
   "source": [
    "## Przygotowano następujące zbiory:"
   ]
  },
  {
   "cell_type": "markdown",
   "metadata": {
    "pycharm": {
     "name": "#%% md\n"
    }
   },
   "source": [
    "+ a) 10^5 losowych punktów o współrzędnych z przedziału [-1000, 1000],\n",
    "+ b) 10^5 losowych punktów o współrzędnych z przedziału [-10^14, 10^14],\n",
    "+ c) 1000 losowych punktów leżących na okręgu o środku (0,0) i promieniu R=100,\n",
    "+ d) 1000 losowych punktów o współrzędnych z przedziału [-1000, 1000] leżących na prostej wyznaczonej przez wektor (a, b), przyjmujemy a = [-1.0, 0.0], b = [1.0, 0.1]."
   ]
  },
  {
   "cell_type": "markdown",
   "metadata": {
    "pycharm": {
     "name": "#%% md\n"
    }
   },
   "source": [
    "## Zbiór A"
   ]
  },
  {
   "cell_type": "code",
   "execution_count": 239,
   "metadata": {
    "pycharm": {
     "is_executing": true,
     "name": "#%%\n"
    }
   },
   "outputs": [
    {
     "data": {
      "application/javascript": [
       "/* Put everything inside the global mpl namespace */\n",
       "/* global mpl */\n",
       "window.mpl = {};\n",
       "\n",
       "mpl.get_websocket_type = function () {\n",
       "    if (typeof WebSocket !== 'undefined') {\n",
       "        return WebSocket;\n",
       "    } else if (typeof MozWebSocket !== 'undefined') {\n",
       "        return MozWebSocket;\n",
       "    } else {\n",
       "        alert(\n",
       "            'Your browser does not have WebSocket support. ' +\n",
       "                'Please try Chrome, Safari or Firefox ≥ 6. ' +\n",
       "                'Firefox 4 and 5 are also supported but you ' +\n",
       "                'have to enable WebSockets in about:config.'\n",
       "        );\n",
       "    }\n",
       "};\n",
       "\n",
       "mpl.figure = function (figure_id, websocket, ondownload, parent_element) {\n",
       "    this.id = figure_id;\n",
       "\n",
       "    this.ws = websocket;\n",
       "\n",
       "    this.supports_binary = this.ws.binaryType !== undefined;\n",
       "\n",
       "    if (!this.supports_binary) {\n",
       "        var warnings = document.getElementById('mpl-warnings');\n",
       "        if (warnings) {\n",
       "            warnings.style.display = 'block';\n",
       "            warnings.textContent =\n",
       "                'This browser does not support binary websocket messages. ' +\n",
       "                'Performance may be slow.';\n",
       "        }\n",
       "    }\n",
       "\n",
       "    this.imageObj = new Image();\n",
       "\n",
       "    this.context = undefined;\n",
       "    this.message = undefined;\n",
       "    this.canvas = undefined;\n",
       "    this.rubberband_canvas = undefined;\n",
       "    this.rubberband_context = undefined;\n",
       "    this.format_dropdown = undefined;\n",
       "\n",
       "    this.image_mode = 'full';\n",
       "\n",
       "    this.root = document.createElement('div');\n",
       "    this.root.setAttribute('style', 'display: inline-block');\n",
       "    this._root_extra_style(this.root);\n",
       "\n",
       "    parent_element.appendChild(this.root);\n",
       "\n",
       "    this._init_header(this);\n",
       "    this._init_canvas(this);\n",
       "    this._init_toolbar(this);\n",
       "\n",
       "    var fig = this;\n",
       "\n",
       "    this.waiting = false;\n",
       "\n",
       "    this.ws.onopen = function () {\n",
       "        fig.send_message('supports_binary', { value: fig.supports_binary });\n",
       "        fig.send_message('send_image_mode', {});\n",
       "        if (fig.ratio !== 1) {\n",
       "            fig.send_message('set_device_pixel_ratio', {\n",
       "                device_pixel_ratio: fig.ratio,\n",
       "            });\n",
       "        }\n",
       "        fig.send_message('refresh', {});\n",
       "    };\n",
       "\n",
       "    this.imageObj.onload = function () {\n",
       "        if (fig.image_mode === 'full') {\n",
       "            // Full images could contain transparency (where diff images\n",
       "            // almost always do), so we need to clear the canvas so that\n",
       "            // there is no ghosting.\n",
       "            fig.context.clearRect(0, 0, fig.canvas.width, fig.canvas.height);\n",
       "        }\n",
       "        fig.context.drawImage(fig.imageObj, 0, 0);\n",
       "    };\n",
       "\n",
       "    this.imageObj.onunload = function () {\n",
       "        fig.ws.close();\n",
       "    };\n",
       "\n",
       "    this.ws.onmessage = this._make_on_message_function(this);\n",
       "\n",
       "    this.ondownload = ondownload;\n",
       "};\n",
       "\n",
       "mpl.figure.prototype._init_header = function () {\n",
       "    var titlebar = document.createElement('div');\n",
       "    titlebar.classList =\n",
       "        'ui-dialog-titlebar ui-widget-header ui-corner-all ui-helper-clearfix';\n",
       "    var titletext = document.createElement('div');\n",
       "    titletext.classList = 'ui-dialog-title';\n",
       "    titletext.setAttribute(\n",
       "        'style',\n",
       "        'width: 100%; text-align: center; padding: 3px;'\n",
       "    );\n",
       "    titlebar.appendChild(titletext);\n",
       "    this.root.appendChild(titlebar);\n",
       "    this.header = titletext;\n",
       "};\n",
       "\n",
       "mpl.figure.prototype._canvas_extra_style = function (_canvas_div) {};\n",
       "\n",
       "mpl.figure.prototype._root_extra_style = function (_canvas_div) {};\n",
       "\n",
       "mpl.figure.prototype._init_canvas = function () {\n",
       "    var fig = this;\n",
       "\n",
       "    var canvas_div = (this.canvas_div = document.createElement('div'));\n",
       "    canvas_div.setAttribute(\n",
       "        'style',\n",
       "        'border: 1px solid #ddd;' +\n",
       "            'box-sizing: content-box;' +\n",
       "            'clear: both;' +\n",
       "            'min-height: 1px;' +\n",
       "            'min-width: 1px;' +\n",
       "            'outline: 0;' +\n",
       "            'overflow: hidden;' +\n",
       "            'position: relative;' +\n",
       "            'resize: both;'\n",
       "    );\n",
       "\n",
       "    function on_keyboard_event_closure(name) {\n",
       "        return function (event) {\n",
       "            return fig.key_event(event, name);\n",
       "        };\n",
       "    }\n",
       "\n",
       "    canvas_div.addEventListener(\n",
       "        'keydown',\n",
       "        on_keyboard_event_closure('key_press')\n",
       "    );\n",
       "    canvas_div.addEventListener(\n",
       "        'keyup',\n",
       "        on_keyboard_event_closure('key_release')\n",
       "    );\n",
       "\n",
       "    this._canvas_extra_style(canvas_div);\n",
       "    this.root.appendChild(canvas_div);\n",
       "\n",
       "    var canvas = (this.canvas = document.createElement('canvas'));\n",
       "    canvas.classList.add('mpl-canvas');\n",
       "    canvas.setAttribute('style', 'box-sizing: content-box;');\n",
       "\n",
       "    this.context = canvas.getContext('2d');\n",
       "\n",
       "    var backingStore =\n",
       "        this.context.backingStorePixelRatio ||\n",
       "        this.context.webkitBackingStorePixelRatio ||\n",
       "        this.context.mozBackingStorePixelRatio ||\n",
       "        this.context.msBackingStorePixelRatio ||\n",
       "        this.context.oBackingStorePixelRatio ||\n",
       "        this.context.backingStorePixelRatio ||\n",
       "        1;\n",
       "\n",
       "    this.ratio = (window.devicePixelRatio || 1) / backingStore;\n",
       "\n",
       "    var rubberband_canvas = (this.rubberband_canvas = document.createElement(\n",
       "        'canvas'\n",
       "    ));\n",
       "    rubberband_canvas.setAttribute(\n",
       "        'style',\n",
       "        'box-sizing: content-box; position: absolute; left: 0; top: 0; z-index: 1;'\n",
       "    );\n",
       "\n",
       "    // Apply a ponyfill if ResizeObserver is not implemented by browser.\n",
       "    if (this.ResizeObserver === undefined) {\n",
       "        if (window.ResizeObserver !== undefined) {\n",
       "            this.ResizeObserver = window.ResizeObserver;\n",
       "        } else {\n",
       "            var obs = _JSXTOOLS_RESIZE_OBSERVER({});\n",
       "            this.ResizeObserver = obs.ResizeObserver;\n",
       "        }\n",
       "    }\n",
       "\n",
       "    this.resizeObserverInstance = new this.ResizeObserver(function (entries) {\n",
       "        var nentries = entries.length;\n",
       "        for (var i = 0; i < nentries; i++) {\n",
       "            var entry = entries[i];\n",
       "            var width, height;\n",
       "            if (entry.contentBoxSize) {\n",
       "                if (entry.contentBoxSize instanceof Array) {\n",
       "                    // Chrome 84 implements new version of spec.\n",
       "                    width = entry.contentBoxSize[0].inlineSize;\n",
       "                    height = entry.contentBoxSize[0].blockSize;\n",
       "                } else {\n",
       "                    // Firefox implements old version of spec.\n",
       "                    width = entry.contentBoxSize.inlineSize;\n",
       "                    height = entry.contentBoxSize.blockSize;\n",
       "                }\n",
       "            } else {\n",
       "                // Chrome <84 implements even older version of spec.\n",
       "                width = entry.contentRect.width;\n",
       "                height = entry.contentRect.height;\n",
       "            }\n",
       "\n",
       "            // Keep the size of the canvas and rubber band canvas in sync with\n",
       "            // the canvas container.\n",
       "            if (entry.devicePixelContentBoxSize) {\n",
       "                // Chrome 84 implements new version of spec.\n",
       "                canvas.setAttribute(\n",
       "                    'width',\n",
       "                    entry.devicePixelContentBoxSize[0].inlineSize\n",
       "                );\n",
       "                canvas.setAttribute(\n",
       "                    'height',\n",
       "                    entry.devicePixelContentBoxSize[0].blockSize\n",
       "                );\n",
       "            } else {\n",
       "                canvas.setAttribute('width', width * fig.ratio);\n",
       "                canvas.setAttribute('height', height * fig.ratio);\n",
       "            }\n",
       "            canvas.setAttribute(\n",
       "                'style',\n",
       "                'width: ' + width + 'px; height: ' + height + 'px;'\n",
       "            );\n",
       "\n",
       "            rubberband_canvas.setAttribute('width', width);\n",
       "            rubberband_canvas.setAttribute('height', height);\n",
       "\n",
       "            // And update the size in Python. We ignore the initial 0/0 size\n",
       "            // that occurs as the element is placed into the DOM, which should\n",
       "            // otherwise not happen due to the minimum size styling.\n",
       "            if (fig.ws.readyState == 1 && width != 0 && height != 0) {\n",
       "                fig.request_resize(width, height);\n",
       "            }\n",
       "        }\n",
       "    });\n",
       "    this.resizeObserverInstance.observe(canvas_div);\n",
       "\n",
       "    function on_mouse_event_closure(name) {\n",
       "        return function (event) {\n",
       "            return fig.mouse_event(event, name);\n",
       "        };\n",
       "    }\n",
       "\n",
       "    rubberband_canvas.addEventListener(\n",
       "        'mousedown',\n",
       "        on_mouse_event_closure('button_press')\n",
       "    );\n",
       "    rubberband_canvas.addEventListener(\n",
       "        'mouseup',\n",
       "        on_mouse_event_closure('button_release')\n",
       "    );\n",
       "    rubberband_canvas.addEventListener(\n",
       "        'dblclick',\n",
       "        on_mouse_event_closure('dblclick')\n",
       "    );\n",
       "    // Throttle sequential mouse events to 1 every 20ms.\n",
       "    rubberband_canvas.addEventListener(\n",
       "        'mousemove',\n",
       "        on_mouse_event_closure('motion_notify')\n",
       "    );\n",
       "\n",
       "    rubberband_canvas.addEventListener(\n",
       "        'mouseenter',\n",
       "        on_mouse_event_closure('figure_enter')\n",
       "    );\n",
       "    rubberband_canvas.addEventListener(\n",
       "        'mouseleave',\n",
       "        on_mouse_event_closure('figure_leave')\n",
       "    );\n",
       "\n",
       "    canvas_div.addEventListener('wheel', function (event) {\n",
       "        if (event.deltaY < 0) {\n",
       "            event.step = 1;\n",
       "        } else {\n",
       "            event.step = -1;\n",
       "        }\n",
       "        on_mouse_event_closure('scroll')(event);\n",
       "    });\n",
       "\n",
       "    canvas_div.appendChild(canvas);\n",
       "    canvas_div.appendChild(rubberband_canvas);\n",
       "\n",
       "    this.rubberband_context = rubberband_canvas.getContext('2d');\n",
       "    this.rubberband_context.strokeStyle = '#000000';\n",
       "\n",
       "    this._resize_canvas = function (width, height, forward) {\n",
       "        if (forward) {\n",
       "            canvas_div.style.width = width + 'px';\n",
       "            canvas_div.style.height = height + 'px';\n",
       "        }\n",
       "    };\n",
       "\n",
       "    // Disable right mouse context menu.\n",
       "    this.rubberband_canvas.addEventListener('contextmenu', function (_e) {\n",
       "        event.preventDefault();\n",
       "        return false;\n",
       "    });\n",
       "\n",
       "    function set_focus() {\n",
       "        canvas.focus();\n",
       "        canvas_div.focus();\n",
       "    }\n",
       "\n",
       "    window.setTimeout(set_focus, 100);\n",
       "};\n",
       "\n",
       "mpl.figure.prototype._init_toolbar = function () {\n",
       "    var fig = this;\n",
       "\n",
       "    var toolbar = document.createElement('div');\n",
       "    toolbar.classList = 'mpl-toolbar';\n",
       "    this.root.appendChild(toolbar);\n",
       "\n",
       "    function on_click_closure(name) {\n",
       "        return function (_event) {\n",
       "            return fig.toolbar_button_onclick(name);\n",
       "        };\n",
       "    }\n",
       "\n",
       "    function on_mouseover_closure(tooltip) {\n",
       "        return function (event) {\n",
       "            if (!event.currentTarget.disabled) {\n",
       "                return fig.toolbar_button_onmouseover(tooltip);\n",
       "            }\n",
       "        };\n",
       "    }\n",
       "\n",
       "    fig.buttons = {};\n",
       "    var buttonGroup = document.createElement('div');\n",
       "    buttonGroup.classList = 'mpl-button-group';\n",
       "    for (var toolbar_ind in mpl.toolbar_items) {\n",
       "        var name = mpl.toolbar_items[toolbar_ind][0];\n",
       "        var tooltip = mpl.toolbar_items[toolbar_ind][1];\n",
       "        var image = mpl.toolbar_items[toolbar_ind][2];\n",
       "        var method_name = mpl.toolbar_items[toolbar_ind][3];\n",
       "\n",
       "        if (!name) {\n",
       "            /* Instead of a spacer, we start a new button group. */\n",
       "            if (buttonGroup.hasChildNodes()) {\n",
       "                toolbar.appendChild(buttonGroup);\n",
       "            }\n",
       "            buttonGroup = document.createElement('div');\n",
       "            buttonGroup.classList = 'mpl-button-group';\n",
       "            continue;\n",
       "        }\n",
       "\n",
       "        var button = (fig.buttons[name] = document.createElement('button'));\n",
       "        button.classList = 'mpl-widget';\n",
       "        button.setAttribute('role', 'button');\n",
       "        button.setAttribute('aria-disabled', 'false');\n",
       "        button.addEventListener('click', on_click_closure(method_name));\n",
       "        button.addEventListener('mouseover', on_mouseover_closure(tooltip));\n",
       "\n",
       "        var icon_img = document.createElement('img');\n",
       "        icon_img.src = '_images/' + image + '.png';\n",
       "        icon_img.srcset = '_images/' + image + '_large.png 2x';\n",
       "        icon_img.alt = tooltip;\n",
       "        button.appendChild(icon_img);\n",
       "\n",
       "        buttonGroup.appendChild(button);\n",
       "    }\n",
       "\n",
       "    if (buttonGroup.hasChildNodes()) {\n",
       "        toolbar.appendChild(buttonGroup);\n",
       "    }\n",
       "\n",
       "    var fmt_picker = document.createElement('select');\n",
       "    fmt_picker.classList = 'mpl-widget';\n",
       "    toolbar.appendChild(fmt_picker);\n",
       "    this.format_dropdown = fmt_picker;\n",
       "\n",
       "    for (var ind in mpl.extensions) {\n",
       "        var fmt = mpl.extensions[ind];\n",
       "        var option = document.createElement('option');\n",
       "        option.selected = fmt === mpl.default_extension;\n",
       "        option.innerHTML = fmt;\n",
       "        fmt_picker.appendChild(option);\n",
       "    }\n",
       "\n",
       "    var status_bar = document.createElement('span');\n",
       "    status_bar.classList = 'mpl-message';\n",
       "    toolbar.appendChild(status_bar);\n",
       "    this.message = status_bar;\n",
       "};\n",
       "\n",
       "mpl.figure.prototype.request_resize = function (x_pixels, y_pixels) {\n",
       "    // Request matplotlib to resize the figure. Matplotlib will then trigger a resize in the client,\n",
       "    // which will in turn request a refresh of the image.\n",
       "    this.send_message('resize', { width: x_pixels, height: y_pixels });\n",
       "};\n",
       "\n",
       "mpl.figure.prototype.send_message = function (type, properties) {\n",
       "    properties['type'] = type;\n",
       "    properties['figure_id'] = this.id;\n",
       "    this.ws.send(JSON.stringify(properties));\n",
       "};\n",
       "\n",
       "mpl.figure.prototype.send_draw_message = function () {\n",
       "    if (!this.waiting) {\n",
       "        this.waiting = true;\n",
       "        this.ws.send(JSON.stringify({ type: 'draw', figure_id: this.id }));\n",
       "    }\n",
       "};\n",
       "\n",
       "mpl.figure.prototype.handle_save = function (fig, _msg) {\n",
       "    var format_dropdown = fig.format_dropdown;\n",
       "    var format = format_dropdown.options[format_dropdown.selectedIndex].value;\n",
       "    fig.ondownload(fig, format);\n",
       "};\n",
       "\n",
       "mpl.figure.prototype.handle_resize = function (fig, msg) {\n",
       "    var size = msg['size'];\n",
       "    if (size[0] !== fig.canvas.width || size[1] !== fig.canvas.height) {\n",
       "        fig._resize_canvas(size[0], size[1], msg['forward']);\n",
       "        fig.send_message('refresh', {});\n",
       "    }\n",
       "};\n",
       "\n",
       "mpl.figure.prototype.handle_rubberband = function (fig, msg) {\n",
       "    var x0 = msg['x0'] / fig.ratio;\n",
       "    var y0 = (fig.canvas.height - msg['y0']) / fig.ratio;\n",
       "    var x1 = msg['x1'] / fig.ratio;\n",
       "    var y1 = (fig.canvas.height - msg['y1']) / fig.ratio;\n",
       "    x0 = Math.floor(x0) + 0.5;\n",
       "    y0 = Math.floor(y0) + 0.5;\n",
       "    x1 = Math.floor(x1) + 0.5;\n",
       "    y1 = Math.floor(y1) + 0.5;\n",
       "    var min_x = Math.min(x0, x1);\n",
       "    var min_y = Math.min(y0, y1);\n",
       "    var width = Math.abs(x1 - x0);\n",
       "    var height = Math.abs(y1 - y0);\n",
       "\n",
       "    fig.rubberband_context.clearRect(\n",
       "        0,\n",
       "        0,\n",
       "        fig.canvas.width / fig.ratio,\n",
       "        fig.canvas.height / fig.ratio\n",
       "    );\n",
       "\n",
       "    fig.rubberband_context.strokeRect(min_x, min_y, width, height);\n",
       "};\n",
       "\n",
       "mpl.figure.prototype.handle_figure_label = function (fig, msg) {\n",
       "    // Updates the figure title.\n",
       "    fig.header.textContent = msg['label'];\n",
       "};\n",
       "\n",
       "mpl.figure.prototype.handle_cursor = function (fig, msg) {\n",
       "    fig.rubberband_canvas.style.cursor = msg['cursor'];\n",
       "};\n",
       "\n",
       "mpl.figure.prototype.handle_message = function (fig, msg) {\n",
       "    fig.message.textContent = msg['message'];\n",
       "};\n",
       "\n",
       "mpl.figure.prototype.handle_draw = function (fig, _msg) {\n",
       "    // Request the server to send over a new figure.\n",
       "    fig.send_draw_message();\n",
       "};\n",
       "\n",
       "mpl.figure.prototype.handle_image_mode = function (fig, msg) {\n",
       "    fig.image_mode = msg['mode'];\n",
       "};\n",
       "\n",
       "mpl.figure.prototype.handle_history_buttons = function (fig, msg) {\n",
       "    for (var key in msg) {\n",
       "        if (!(key in fig.buttons)) {\n",
       "            continue;\n",
       "        }\n",
       "        fig.buttons[key].disabled = !msg[key];\n",
       "        fig.buttons[key].setAttribute('aria-disabled', !msg[key]);\n",
       "    }\n",
       "};\n",
       "\n",
       "mpl.figure.prototype.handle_navigate_mode = function (fig, msg) {\n",
       "    if (msg['mode'] === 'PAN') {\n",
       "        fig.buttons['Pan'].classList.add('active');\n",
       "        fig.buttons['Zoom'].classList.remove('active');\n",
       "    } else if (msg['mode'] === 'ZOOM') {\n",
       "        fig.buttons['Pan'].classList.remove('active');\n",
       "        fig.buttons['Zoom'].classList.add('active');\n",
       "    } else {\n",
       "        fig.buttons['Pan'].classList.remove('active');\n",
       "        fig.buttons['Zoom'].classList.remove('active');\n",
       "    }\n",
       "};\n",
       "\n",
       "mpl.figure.prototype.updated_canvas_event = function () {\n",
       "    // Called whenever the canvas gets updated.\n",
       "    this.send_message('ack', {});\n",
       "};\n",
       "\n",
       "// A function to construct a web socket function for onmessage handling.\n",
       "// Called in the figure constructor.\n",
       "mpl.figure.prototype._make_on_message_function = function (fig) {\n",
       "    return function socket_on_message(evt) {\n",
       "        if (evt.data instanceof Blob) {\n",
       "            var img = evt.data;\n",
       "            if (img.type !== 'image/png') {\n",
       "                /* FIXME: We get \"Resource interpreted as Image but\n",
       "                 * transferred with MIME type text/plain:\" errors on\n",
       "                 * Chrome.  But how to set the MIME type?  It doesn't seem\n",
       "                 * to be part of the websocket stream */\n",
       "                img.type = 'image/png';\n",
       "            }\n",
       "\n",
       "            /* Free the memory for the previous frames */\n",
       "            if (fig.imageObj.src) {\n",
       "                (window.URL || window.webkitURL).revokeObjectURL(\n",
       "                    fig.imageObj.src\n",
       "                );\n",
       "            }\n",
       "\n",
       "            fig.imageObj.src = (window.URL || window.webkitURL).createObjectURL(\n",
       "                img\n",
       "            );\n",
       "            fig.updated_canvas_event();\n",
       "            fig.waiting = false;\n",
       "            return;\n",
       "        } else if (\n",
       "            typeof evt.data === 'string' &&\n",
       "            evt.data.slice(0, 21) === 'data:image/png;base64'\n",
       "        ) {\n",
       "            fig.imageObj.src = evt.data;\n",
       "            fig.updated_canvas_event();\n",
       "            fig.waiting = false;\n",
       "            return;\n",
       "        }\n",
       "\n",
       "        var msg = JSON.parse(evt.data);\n",
       "        var msg_type = msg['type'];\n",
       "\n",
       "        // Call the  \"handle_{type}\" callback, which takes\n",
       "        // the figure and JSON message as its only arguments.\n",
       "        try {\n",
       "            var callback = fig['handle_' + msg_type];\n",
       "        } catch (e) {\n",
       "            console.log(\n",
       "                \"No handler for the '\" + msg_type + \"' message type: \",\n",
       "                msg\n",
       "            );\n",
       "            return;\n",
       "        }\n",
       "\n",
       "        if (callback) {\n",
       "            try {\n",
       "                // console.log(\"Handling '\" + msg_type + \"' message: \", msg);\n",
       "                callback(fig, msg);\n",
       "            } catch (e) {\n",
       "                console.log(\n",
       "                    \"Exception inside the 'handler_\" + msg_type + \"' callback:\",\n",
       "                    e,\n",
       "                    e.stack,\n",
       "                    msg\n",
       "                );\n",
       "            }\n",
       "        }\n",
       "    };\n",
       "};\n",
       "\n",
       "// from https://stackoverflow.com/questions/1114465/getting-mouse-location-in-canvas\n",
       "mpl.findpos = function (e) {\n",
       "    //this section is from http://www.quirksmode.org/js/events_properties.html\n",
       "    var targ;\n",
       "    if (!e) {\n",
       "        e = window.event;\n",
       "    }\n",
       "    if (e.target) {\n",
       "        targ = e.target;\n",
       "    } else if (e.srcElement) {\n",
       "        targ = e.srcElement;\n",
       "    }\n",
       "    if (targ.nodeType === 3) {\n",
       "        // defeat Safari bug\n",
       "        targ = targ.parentNode;\n",
       "    }\n",
       "\n",
       "    // pageX,Y are the mouse positions relative to the document\n",
       "    var boundingRect = targ.getBoundingClientRect();\n",
       "    var x = e.pageX - (boundingRect.left + document.body.scrollLeft);\n",
       "    var y = e.pageY - (boundingRect.top + document.body.scrollTop);\n",
       "\n",
       "    return { x: x, y: y };\n",
       "};\n",
       "\n",
       "/*\n",
       " * return a copy of an object with only non-object keys\n",
       " * we need this to avoid circular references\n",
       " * https://stackoverflow.com/a/24161582/3208463\n",
       " */\n",
       "function simpleKeys(original) {\n",
       "    return Object.keys(original).reduce(function (obj, key) {\n",
       "        if (typeof original[key] !== 'object') {\n",
       "            obj[key] = original[key];\n",
       "        }\n",
       "        return obj;\n",
       "    }, {});\n",
       "}\n",
       "\n",
       "mpl.figure.prototype.mouse_event = function (event, name) {\n",
       "    var canvas_pos = mpl.findpos(event);\n",
       "\n",
       "    if (name === 'button_press') {\n",
       "        this.canvas.focus();\n",
       "        this.canvas_div.focus();\n",
       "    }\n",
       "\n",
       "    var x = canvas_pos.x * this.ratio;\n",
       "    var y = canvas_pos.y * this.ratio;\n",
       "\n",
       "    this.send_message(name, {\n",
       "        x: x,\n",
       "        y: y,\n",
       "        button: event.button,\n",
       "        step: event.step,\n",
       "        guiEvent: simpleKeys(event),\n",
       "    });\n",
       "\n",
       "    /* This prevents the web browser from automatically changing to\n",
       "     * the text insertion cursor when the button is pressed.  We want\n",
       "     * to control all of the cursor setting manually through the\n",
       "     * 'cursor' event from matplotlib */\n",
       "    event.preventDefault();\n",
       "    return false;\n",
       "};\n",
       "\n",
       "mpl.figure.prototype._key_event_extra = function (_event, _name) {\n",
       "    // Handle any extra behaviour associated with a key event\n",
       "};\n",
       "\n",
       "mpl.figure.prototype.key_event = function (event, name) {\n",
       "    // Prevent repeat events\n",
       "    if (name === 'key_press') {\n",
       "        if (event.key === this._key) {\n",
       "            return;\n",
       "        } else {\n",
       "            this._key = event.key;\n",
       "        }\n",
       "    }\n",
       "    if (name === 'key_release') {\n",
       "        this._key = null;\n",
       "    }\n",
       "\n",
       "    var value = '';\n",
       "    if (event.ctrlKey && event.key !== 'Control') {\n",
       "        value += 'ctrl+';\n",
       "    }\n",
       "    else if (event.altKey && event.key !== 'Alt') {\n",
       "        value += 'alt+';\n",
       "    }\n",
       "    else if (event.shiftKey && event.key !== 'Shift') {\n",
       "        value += 'shift+';\n",
       "    }\n",
       "\n",
       "    value += 'k' + event.key;\n",
       "\n",
       "    this._key_event_extra(event, name);\n",
       "\n",
       "    this.send_message(name, { key: value, guiEvent: simpleKeys(event) });\n",
       "    return false;\n",
       "};\n",
       "\n",
       "mpl.figure.prototype.toolbar_button_onclick = function (name) {\n",
       "    if (name === 'download') {\n",
       "        this.handle_save(this, null);\n",
       "    } else {\n",
       "        this.send_message('toolbar_button', { name: name });\n",
       "    }\n",
       "};\n",
       "\n",
       "mpl.figure.prototype.toolbar_button_onmouseover = function (tooltip) {\n",
       "    this.message.textContent = tooltip;\n",
       "};\n",
       "\n",
       "///////////////// REMAINING CONTENT GENERATED BY embed_js.py /////////////////\n",
       "// prettier-ignore\n",
       "var _JSXTOOLS_RESIZE_OBSERVER=function(A){var t,i=new WeakMap,n=new WeakMap,a=new WeakMap,r=new WeakMap,o=new Set;function s(e){if(!(this instanceof s))throw new TypeError(\"Constructor requires 'new' operator\");i.set(this,e)}function h(){throw new TypeError(\"Function is not a constructor\")}function c(e,t,i,n){e=0 in arguments?Number(arguments[0]):0,t=1 in arguments?Number(arguments[1]):0,i=2 in arguments?Number(arguments[2]):0,n=3 in arguments?Number(arguments[3]):0,this.right=(this.x=this.left=e)+(this.width=i),this.bottom=(this.y=this.top=t)+(this.height=n),Object.freeze(this)}function d(){t=requestAnimationFrame(d);var s=new WeakMap,p=new Set;o.forEach((function(t){r.get(t).forEach((function(i){var r=t instanceof window.SVGElement,o=a.get(t),d=r?0:parseFloat(o.paddingTop),f=r?0:parseFloat(o.paddingRight),l=r?0:parseFloat(o.paddingBottom),u=r?0:parseFloat(o.paddingLeft),g=r?0:parseFloat(o.borderTopWidth),m=r?0:parseFloat(o.borderRightWidth),w=r?0:parseFloat(o.borderBottomWidth),b=u+f,F=d+l,v=(r?0:parseFloat(o.borderLeftWidth))+m,W=g+w,y=r?0:t.offsetHeight-W-t.clientHeight,E=r?0:t.offsetWidth-v-t.clientWidth,R=b+v,z=F+W,M=r?t.width:parseFloat(o.width)-R-E,O=r?t.height:parseFloat(o.height)-z-y;if(n.has(t)){var k=n.get(t);if(k[0]===M&&k[1]===O)return}n.set(t,[M,O]);var S=Object.create(h.prototype);S.target=t,S.contentRect=new c(u,d,M,O),s.has(i)||(s.set(i,[]),p.add(i)),s.get(i).push(S)}))})),p.forEach((function(e){i.get(e).call(e,s.get(e),e)}))}return s.prototype.observe=function(i){if(i instanceof window.Element){r.has(i)||(r.set(i,new Set),o.add(i),a.set(i,window.getComputedStyle(i)));var n=r.get(i);n.has(this)||n.add(this),cancelAnimationFrame(t),t=requestAnimationFrame(d)}},s.prototype.unobserve=function(i){if(i instanceof window.Element&&r.has(i)){var n=r.get(i);n.has(this)&&(n.delete(this),n.size||(r.delete(i),o.delete(i))),n.size||r.delete(i),o.size||cancelAnimationFrame(t)}},A.DOMRectReadOnly=c,A.ResizeObserver=s,A.ResizeObserverEntry=h,A}; // eslint-disable-line\n",
       "mpl.toolbar_items = [[\"Home\", \"Reset original view\", \"fa fa-home icon-home\", \"home\"], [\"Back\", \"Back to previous view\", \"fa fa-arrow-left icon-arrow-left\", \"back\"], [\"Forward\", \"Forward to next view\", \"fa fa-arrow-right icon-arrow-right\", \"forward\"], [\"\", \"\", \"\", \"\"], [\"Pan\", \"Left button pans, Right button zooms\\nx/y fixes axis, CTRL fixes aspect\", \"fa fa-arrows icon-move\", \"pan\"], [\"Zoom\", \"Zoom to rectangle\\nx/y fixes axis\", \"fa fa-square-o icon-check-empty\", \"zoom\"], [\"\", \"\", \"\", \"\"], [\"Download\", \"Download plot\", \"fa fa-floppy-o icon-save\", \"download\"]];\n",
       "\n",
       "mpl.extensions = [\"eps\", \"jpeg\", \"pgf\", \"pdf\", \"png\", \"ps\", \"raw\", \"svg\", \"tif\"];\n",
       "\n",
       "mpl.default_extension = \"png\";/* global mpl */\n",
       "\n",
       "var comm_websocket_adapter = function (comm) {\n",
       "    // Create a \"websocket\"-like object which calls the given IPython comm\n",
       "    // object with the appropriate methods. Currently this is a non binary\n",
       "    // socket, so there is still some room for performance tuning.\n",
       "    var ws = {};\n",
       "\n",
       "    ws.binaryType = comm.kernel.ws.binaryType;\n",
       "    ws.readyState = comm.kernel.ws.readyState;\n",
       "    function updateReadyState(_event) {\n",
       "        if (comm.kernel.ws) {\n",
       "            ws.readyState = comm.kernel.ws.readyState;\n",
       "        } else {\n",
       "            ws.readyState = 3; // Closed state.\n",
       "        }\n",
       "    }\n",
       "    comm.kernel.ws.addEventListener('open', updateReadyState);\n",
       "    comm.kernel.ws.addEventListener('close', updateReadyState);\n",
       "    comm.kernel.ws.addEventListener('error', updateReadyState);\n",
       "\n",
       "    ws.close = function () {\n",
       "        comm.close();\n",
       "    };\n",
       "    ws.send = function (m) {\n",
       "        //console.log('sending', m);\n",
       "        comm.send(m);\n",
       "    };\n",
       "    // Register the callback with on_msg.\n",
       "    comm.on_msg(function (msg) {\n",
       "        //console.log('receiving', msg['content']['data'], msg);\n",
       "        var data = msg['content']['data'];\n",
       "        if (data['blob'] !== undefined) {\n",
       "            data = {\n",
       "                data: new Blob(msg['buffers'], { type: data['blob'] }),\n",
       "            };\n",
       "        }\n",
       "        // Pass the mpl event to the overridden (by mpl) onmessage function.\n",
       "        ws.onmessage(data);\n",
       "    });\n",
       "    return ws;\n",
       "};\n",
       "\n",
       "mpl.mpl_figure_comm = function (comm, msg) {\n",
       "    // This is the function which gets called when the mpl process\n",
       "    // starts-up an IPython Comm through the \"matplotlib\" channel.\n",
       "\n",
       "    var id = msg.content.data.id;\n",
       "    // Get hold of the div created by the display call when the Comm\n",
       "    // socket was opened in Python.\n",
       "    var element = document.getElementById(id);\n",
       "    var ws_proxy = comm_websocket_adapter(comm);\n",
       "\n",
       "    function ondownload(figure, _format) {\n",
       "        window.open(figure.canvas.toDataURL());\n",
       "    }\n",
       "\n",
       "    var fig = new mpl.figure(id, ws_proxy, ondownload, element);\n",
       "\n",
       "    // Call onopen now - mpl needs it, as it is assuming we've passed it a real\n",
       "    // web socket which is closed, not our websocket->open comm proxy.\n",
       "    ws_proxy.onopen();\n",
       "\n",
       "    fig.parent_element = element;\n",
       "    fig.cell_info = mpl.find_output_cell(\"<div id='\" + id + \"'></div>\");\n",
       "    if (!fig.cell_info) {\n",
       "        console.error('Failed to find cell for figure', id, fig);\n",
       "        return;\n",
       "    }\n",
       "    fig.cell_info[0].output_area.element.on(\n",
       "        'cleared',\n",
       "        { fig: fig },\n",
       "        fig._remove_fig_handler\n",
       "    );\n",
       "};\n",
       "\n",
       "mpl.figure.prototype.handle_close = function (fig, msg) {\n",
       "    var width = fig.canvas.width / fig.ratio;\n",
       "    fig.cell_info[0].output_area.element.off(\n",
       "        'cleared',\n",
       "        fig._remove_fig_handler\n",
       "    );\n",
       "    fig.resizeObserverInstance.unobserve(fig.canvas_div);\n",
       "\n",
       "    // Update the output cell to use the data from the current canvas.\n",
       "    fig.push_to_output();\n",
       "    var dataURL = fig.canvas.toDataURL();\n",
       "    // Re-enable the keyboard manager in IPython - without this line, in FF,\n",
       "    // the notebook keyboard shortcuts fail.\n",
       "    IPython.keyboard_manager.enable();\n",
       "    fig.parent_element.innerHTML =\n",
       "        '<img src=\"' + dataURL + '\" width=\"' + width + '\">';\n",
       "    fig.close_ws(fig, msg);\n",
       "};\n",
       "\n",
       "mpl.figure.prototype.close_ws = function (fig, msg) {\n",
       "    fig.send_message('closing', msg);\n",
       "    // fig.ws.close()\n",
       "};\n",
       "\n",
       "mpl.figure.prototype.push_to_output = function (_remove_interactive) {\n",
       "    // Turn the data on the canvas into data in the output cell.\n",
       "    var width = this.canvas.width / this.ratio;\n",
       "    var dataURL = this.canvas.toDataURL();\n",
       "    this.cell_info[1]['text/html'] =\n",
       "        '<img src=\"' + dataURL + '\" width=\"' + width + '\">';\n",
       "};\n",
       "\n",
       "mpl.figure.prototype.updated_canvas_event = function () {\n",
       "    // Tell IPython that the notebook contents must change.\n",
       "    IPython.notebook.set_dirty(true);\n",
       "    this.send_message('ack', {});\n",
       "    var fig = this;\n",
       "    // Wait a second, then push the new image to the DOM so\n",
       "    // that it is saved nicely (might be nice to debounce this).\n",
       "    setTimeout(function () {\n",
       "        fig.push_to_output();\n",
       "    }, 1000);\n",
       "};\n",
       "\n",
       "mpl.figure.prototype._init_toolbar = function () {\n",
       "    var fig = this;\n",
       "\n",
       "    var toolbar = document.createElement('div');\n",
       "    toolbar.classList = 'btn-toolbar';\n",
       "    this.root.appendChild(toolbar);\n",
       "\n",
       "    function on_click_closure(name) {\n",
       "        return function (_event) {\n",
       "            return fig.toolbar_button_onclick(name);\n",
       "        };\n",
       "    }\n",
       "\n",
       "    function on_mouseover_closure(tooltip) {\n",
       "        return function (event) {\n",
       "            if (!event.currentTarget.disabled) {\n",
       "                return fig.toolbar_button_onmouseover(tooltip);\n",
       "            }\n",
       "        };\n",
       "    }\n",
       "\n",
       "    fig.buttons = {};\n",
       "    var buttonGroup = document.createElement('div');\n",
       "    buttonGroup.classList = 'btn-group';\n",
       "    var button;\n",
       "    for (var toolbar_ind in mpl.toolbar_items) {\n",
       "        var name = mpl.toolbar_items[toolbar_ind][0];\n",
       "        var tooltip = mpl.toolbar_items[toolbar_ind][1];\n",
       "        var image = mpl.toolbar_items[toolbar_ind][2];\n",
       "        var method_name = mpl.toolbar_items[toolbar_ind][3];\n",
       "\n",
       "        if (!name) {\n",
       "            /* Instead of a spacer, we start a new button group. */\n",
       "            if (buttonGroup.hasChildNodes()) {\n",
       "                toolbar.appendChild(buttonGroup);\n",
       "            }\n",
       "            buttonGroup = document.createElement('div');\n",
       "            buttonGroup.classList = 'btn-group';\n",
       "            continue;\n",
       "        }\n",
       "\n",
       "        button = fig.buttons[name] = document.createElement('button');\n",
       "        button.classList = 'btn btn-default';\n",
       "        button.href = '#';\n",
       "        button.title = name;\n",
       "        button.innerHTML = '<i class=\"fa ' + image + ' fa-lg\"></i>';\n",
       "        button.addEventListener('click', on_click_closure(method_name));\n",
       "        button.addEventListener('mouseover', on_mouseover_closure(tooltip));\n",
       "        buttonGroup.appendChild(button);\n",
       "    }\n",
       "\n",
       "    if (buttonGroup.hasChildNodes()) {\n",
       "        toolbar.appendChild(buttonGroup);\n",
       "    }\n",
       "\n",
       "    // Add the status bar.\n",
       "    var status_bar = document.createElement('span');\n",
       "    status_bar.classList = 'mpl-message pull-right';\n",
       "    toolbar.appendChild(status_bar);\n",
       "    this.message = status_bar;\n",
       "\n",
       "    // Add the close button to the window.\n",
       "    var buttongrp = document.createElement('div');\n",
       "    buttongrp.classList = 'btn-group inline pull-right';\n",
       "    button = document.createElement('button');\n",
       "    button.classList = 'btn btn-mini btn-primary';\n",
       "    button.href = '#';\n",
       "    button.title = 'Stop Interaction';\n",
       "    button.innerHTML = '<i class=\"fa fa-power-off icon-remove icon-large\"></i>';\n",
       "    button.addEventListener('click', function (_evt) {\n",
       "        fig.handle_close(fig, {});\n",
       "    });\n",
       "    button.addEventListener(\n",
       "        'mouseover',\n",
       "        on_mouseover_closure('Stop Interaction')\n",
       "    );\n",
       "    buttongrp.appendChild(button);\n",
       "    var titlebar = this.root.querySelector('.ui-dialog-titlebar');\n",
       "    titlebar.insertBefore(buttongrp, titlebar.firstChild);\n",
       "};\n",
       "\n",
       "mpl.figure.prototype._remove_fig_handler = function (event) {\n",
       "    var fig = event.data.fig;\n",
       "    if (event.target !== this) {\n",
       "        // Ignore bubbled events from children.\n",
       "        return;\n",
       "    }\n",
       "    fig.close_ws(fig, {});\n",
       "};\n",
       "\n",
       "mpl.figure.prototype._root_extra_style = function (el) {\n",
       "    el.style.boxSizing = 'content-box'; // override notebook setting of border-box.\n",
       "};\n",
       "\n",
       "mpl.figure.prototype._canvas_extra_style = function (el) {\n",
       "    // this is important to make the div 'focusable\n",
       "    el.setAttribute('tabindex', 0);\n",
       "    // reach out to IPython and tell the keyboard manager to turn it's self\n",
       "    // off when our div gets focus\n",
       "\n",
       "    // location in version 3\n",
       "    if (IPython.notebook.keyboard_manager) {\n",
       "        IPython.notebook.keyboard_manager.register_events(el);\n",
       "    } else {\n",
       "        // location in version 2\n",
       "        IPython.keyboard_manager.register_events(el);\n",
       "    }\n",
       "};\n",
       "\n",
       "mpl.figure.prototype._key_event_extra = function (event, _name) {\n",
       "    // Check for shift+enter\n",
       "    if (event.shiftKey && event.which === 13) {\n",
       "        this.canvas_div.blur();\n",
       "        // select the cell after this one\n",
       "        var index = IPython.notebook.find_cell_index(this.cell_info[0]);\n",
       "        IPython.notebook.select(index + 1);\n",
       "    }\n",
       "};\n",
       "\n",
       "mpl.figure.prototype.handle_save = function (fig, _msg) {\n",
       "    fig.ondownload(fig, null);\n",
       "};\n",
       "\n",
       "mpl.find_output_cell = function (html_output) {\n",
       "    // Return the cell and output element which can be found *uniquely* in the notebook.\n",
       "    // Note - this is a bit hacky, but it is done because the \"notebook_saving.Notebook\"\n",
       "    // IPython event is triggered only after the cells have been serialised, which for\n",
       "    // our purposes (turning an active figure into a static one), is too late.\n",
       "    var cells = IPython.notebook.get_cells();\n",
       "    var ncells = cells.length;\n",
       "    for (var i = 0; i < ncells; i++) {\n",
       "        var cell = cells[i];\n",
       "        if (cell.cell_type === 'code') {\n",
       "            for (var j = 0; j < cell.output_area.outputs.length; j++) {\n",
       "                var data = cell.output_area.outputs[j];\n",
       "                if (data.data) {\n",
       "                    // IPython >= 3 moved mimebundle to data attribute of output\n",
       "                    data = data.data;\n",
       "                }\n",
       "                if (data['text/html'] === html_output) {\n",
       "                    return [cell, data, j];\n",
       "                }\n",
       "            }\n",
       "        }\n",
       "    }\n",
       "};\n",
       "\n",
       "// Register the function which deals with the matplotlib target/channel.\n",
       "// The kernel may be null if the page has been refreshed.\n",
       "if (IPython.notebook.kernel !== null) {\n",
       "    IPython.notebook.kernel.comm_manager.register_target(\n",
       "        'matplotlib',\n",
       "        mpl.mpl_figure_comm\n",
       "    );\n",
       "}\n"
      ],
      "text/plain": [
       "<IPython.core.display.Javascript object>"
      ]
     },
     "metadata": {},
     "output_type": "display_data"
    },
    {
     "data": {
      "text/html": [
       "<img src=\"data:image/png;base64,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\" width=\"640\">"
      ],
      "text/plain": [
       "<IPython.core.display.HTML object>"
      ]
     },
     "metadata": {},
     "output_type": "display_data"
    }
   ],
   "source": [
    "%matplotlib notebook\n",
    "import random\n",
    "\n",
    "random_points_a = [(random.uniform(-1000,1000), random.uniform(-1000,1000)) for _ in range(10**5)]\n",
    "\n",
    "plot = Plot(points=[PointsCollection(random_points_a)])\n",
    "plot.draw()"
   ]
  },
  {
   "cell_type": "markdown",
   "metadata": {
    "pycharm": {
     "name": "#%% md\n"
    }
   },
   "source": [
    "## Zbiór B"
   ]
  },
  {
   "cell_type": "code",
   "execution_count": null,
   "metadata": {
    "pycharm": {
     "name": "#%%\n"
    }
   },
   "outputs": [],
   "source": [
    "%matplotlib notebook\n",
    "import random\n",
    "\n",
    "random_points_b = [(random.uniform(-10**14,10**14), random.uniform(-10**14,10**14)) for _ in range(10**5)]\n",
    "\n",
    "plot = Plot(points=[PointsCollection(random_points_b)])\n",
    "plot.draw()"
   ]
  },
  {
   "cell_type": "markdown",
   "metadata": {
    "pycharm": {
     "name": "#%% md\n"
    }
   },
   "source": [
    "## Zbiór C"
   ]
  },
  {
   "cell_type": "code",
   "execution_count": null,
   "metadata": {
    "pycharm": {
     "name": "#%%\n"
    }
   },
   "outputs": [],
   "source": [
    "%matplotlib notebook\n",
    "from math import sin, cos, pi\n",
    "from random import random\n",
    "\n",
    "random_points_c = []\n",
    "\n",
    "for _ in range(1000):\n",
    "    t = random() * (2*pi)\n",
    "    radius = 100\n",
    "    \n",
    "    random_points_c.append((radius * sin(t), radius * cos(t)))\n",
    "\n",
    "plot = Plot(points=[PointsCollection(random_points_c)])\n",
    "plot.draw()"
   ]
  },
  {
   "cell_type": "markdown",
   "metadata": {
    "pycharm": {
     "name": "#%% md\n"
    }
   },
   "source": [
    "## Zbiór D"
   ]
  },
  {
   "cell_type": "code",
   "execution_count": null,
   "metadata": {
    "pycharm": {
     "name": "#%%\n"
    }
   },
   "outputs": [],
   "source": [
    "%matplotlib notebook\n",
    "import random\n",
    "\n",
    "point_a = [-1.0, 0.0]\n",
    "point_b = [1.0, 0.1]\n",
    "\n",
    "random_points_d = []\n",
    "\n",
    "coefficient_a = ( (point_b[1] - point_a[1]) / (point_b[0] - point_a[0]) )\n",
    "coefficient_b = ( point_a[1] - coefficient_a * point_a[0] )\n",
    "\n",
    "for _ in range(1000):\n",
    "    x = random.uniform(-1000,1000)\n",
    "    y = coefficient_a*x + coefficient_b\n",
    "    random_points_d.append((x,y))\n",
    "    \n",
    "plot = Plot(points=[PointsCollection(random_points_d)])\n",
    "plot.draw()"
   ]
  },
  {
   "cell_type": "markdown",
   "metadata": {
    "pycharm": {
     "name": "#%% md\n"
    }
   },
   "source": [
    "# Zadanie 3a - przygotowanie narzędzi"
   ]
  },
  {
   "cell_type": "markdown",
   "metadata": {
    "pycharm": {
     "name": "#%% md\n"
    }
   },
   "source": [
    "## Przygotowanie funkcji obliczających wyznaczniki 2x2 i 3x3"
   ]
  },
  {
   "cell_type": "markdown",
   "metadata": {
    "pycharm": {
     "name": "#%% md\n"
    }
   },
   "source": [
    "### Wyznacznik 3x3"
   ]
  },
  {
   "cell_type": "code",
   "execution_count": null,
   "metadata": {
    "pycharm": {
     "name": "#%%\n"
    }
   },
   "outputs": [],
   "source": [
    "%matplotlib notebook\n",
    "\n",
    "def det_3x3(a, b, c):\n",
    "    return (a[0]*b[1] + b[0]*c[1] + c[0]*a[1] - b[1]*c[0] - c[1]*a[0] - a[1]*b[0])\n",
    "\n",
    "    #a_x = a[0]\n",
    "    #a_y = a[1]\n",
    "    #b_x = b[0]\n",
    "    #b_y = b[1]\n",
    "    #c_x = c[0]\n",
    "    #c_y = c[1]\n",
    "    #\n",
    "    #return (a_x*b_y + b_x*c_y + c_x*a_y - b_y*c_x - c_y*a_x - a_y*b_x)"
   ]
  },
  {
   "cell_type": "markdown",
   "metadata": {
    "pycharm": {
     "name": "#%% md\n"
    }
   },
   "source": [
    "### Wyznacznik 2x2"
   ]
  },
  {
   "cell_type": "code",
   "execution_count": null,
   "metadata": {
    "pycharm": {
     "name": "#%%\n"
    }
   },
   "outputs": [],
   "source": [
    "%matplotlib notebook\n",
    "\n",
    "def det_2x2(a, b, c):\n",
    "    return ( ((a[0]-c[0]) * (b[1]-c[1])) - ((b[0]-c[0]) * (a[1]-c[1])) )\n",
    "\n",
    "    #a_x = a[0]\n",
    "    #a_y = a[1]\n",
    "    #b_x = b[0]\n",
    "    #b_y = b[1]\n",
    "    #c_x = c[0]\n",
    "    #c_y = c[1]\n",
    "    #\n",
    "    #return ( (a_x-c_x) * (b_y-c_y) - (b_x-c_x) * (a_y-c_y) )"
   ]
  },
  {
   "cell_type": "markdown",
   "metadata": {
    "pycharm": {
     "name": "#%% md\n"
    }
   },
   "source": [
    "### Biblioteczny wyznacznik 3x3"
   ]
  },
  {
   "cell_type": "code",
   "execution_count": null,
   "metadata": {
    "pycharm": {
     "name": "#%%\n"
    }
   },
   "outputs": [],
   "source": [
    "%matplotlib notebook\n",
    "\n",
    "import numpy as np\n",
    "\n",
    "def det_3x3_lib(a, b, c):\n",
    "    matrix_3x3 = np.array([[a[0], a[1], 1], \n",
    "                           [b[0], b[1], 1],\n",
    "                           [c[0], c[1], 1]])\n",
    "    \n",
    "    return np.linalg.det(matrix_3x3)"
   ]
  },
  {
   "cell_type": "markdown",
   "metadata": {
    "pycharm": {
     "name": "#%% md\n"
    }
   },
   "source": [
    "### Biblioteczny wyznacznik 2x2"
   ]
  },
  {
   "cell_type": "code",
   "execution_count": null,
   "metadata": {
    "pycharm": {
     "name": "#%%\n"
    }
   },
   "outputs": [],
   "source": [
    "%matplotlib notebook\n",
    "\n",
    "import numpy as np\n",
    "\n",
    "def det_2x2_lib(a, b, c):\n",
    "    matrix_2x2 = np.array([[a[0]-c[0], a[1]-c[1]],\n",
    "                           [b[0]-c[0], b[1]-c[1]]])\n",
    "    \n",
    "    return np.linalg.det(matrix_2x2)"
   ]
  },
  {
   "cell_type": "markdown",
   "metadata": {
    "pycharm": {
     "name": "#%% md\n"
    }
   },
   "source": [
    "## Przygotowanie programu, który dla każdego ze zbioru danych dokona podziału punktów względem ich orientacji w stosunku do odcinka ab \n",
    "Odcinek ab: ( a = [-1.0, 0.0], b = [1.0, 0.1] ).\n",
    "Podział punktów na punkty znajdujące się po lewej stronie, po prawej stronie oraz współliniowe."
   ]
  },
  {
   "cell_type": "markdown",
   "metadata": {
    "pycharm": {
     "name": "#%% md\n"
    }
   },
   "source": [
    "### Funkcja klasyfikująca punkty w zbiorze"
   ]
  },
  {
   "cell_type": "code",
   "execution_count": null,
   "metadata": {
    "pycharm": {
     "name": "#%%\n"
    }
   },
   "outputs": [],
   "source": [
    "%matplotlib notebook\n",
    "\n",
    "def classify_orient(points, det_func, epsilon):\n",
    "    #LEFT - CCW => DET>0\n",
    "    #RIGHT - CW => DET<0\n",
    "    #COLLINEAR => DET=0\n",
    "    \n",
    "    a = (-1.0, 0.0)\n",
    "    b = (1.0, 0.1)\n",
    "    \n",
    "    answear = {\n",
    "        'left'     :[],\n",
    "        'right'    :[],\n",
    "        'collinear':[]\n",
    "    }\n",
    "\n",
    "    for point in points:\n",
    "        det = det_func(a, b, point)\n",
    "        \n",
    "        if det < -epsilon:\n",
    "            answear['right'].append(point)\n",
    "        elif det > epsilon:\n",
    "            answear['left'].append(point)\n",
    "        else:\n",
    "            answear['collinear'].append(point)\n",
    "            \n",
    "    return answear"
   ]
  },
  {
   "cell_type": "markdown",
   "metadata": {
    "pycharm": {
     "name": "#%% md\n"
    }
   },
   "source": [
    "### Funkcja prezentująca rozwiązanie rozwiązanie"
   ]
  },
  {
   "cell_type": "code",
   "execution_count": 632,
   "metadata": {
    "pycharm": {
     "name": "#%%\n"
    }
   },
   "outputs": [],
   "source": [
    "%matplotlib notebook\n",
    "\n",
    "def result(points, det_func, epsilon):\n",
    "    classified = classify_orient(points, det_func, epsilon)\n",
    "\n",
    "    plot = Plot(points=[\n",
    "        PointsCollection(classified['left'], color='orange', marker=\"o\"),\n",
    "        PointsCollection(classified['right'], color='deepskyblue', marker=\"o\"),\n",
    "        PointsCollection(classified['collinear'], color='red', marker='o')]) #marker='.'\n",
    "    \n",
    "    plot.draw()\n",
    "    \n",
    "    for key, val in classified.items():\n",
    "        print(key.capitalize(), \": \", len(classified[key]), sep=\"\")  "
   ]
  },
  {
   "cell_type": "markdown",
   "metadata": {
    "pycharm": {
     "name": "#%% md\n"
    }
   },
   "source": [
    "# Zadanie 3b - podział punktów w zbiorach za pomocą przygotowanych narzędzi dla różnych tolerancji"
   ]
  },
  {
   "cell_type": "markdown",
   "metadata": {
    "pycharm": {
     "name": "#%% md\n"
    }
   },
   "source": [
    "## Przygotowanie różnych wartości epsilon"
   ]
  },
  {
   "cell_type": "code",
   "execution_count": null,
   "metadata": {
    "pycharm": {
     "name": "#%%\n"
    }
   },
   "outputs": [],
   "source": [
    "epsilon0 = 0\n",
    "epsilon1 = 10**-10\n",
    "epsilon2 = 10**-12\n",
    "epsilon3 = 10**-14\n",
    "epsilon4 = 10**-16"
   ]
  },
  {
   "cell_type": "markdown",
   "metadata": {
    "pycharm": {
     "name": "#%% md\n"
    }
   },
   "source": [
    "## Zbiór A"
   ]
  },
  {
   "cell_type": "markdown",
   "metadata": {
    "pycharm": {
     "name": "#%% md\n"
    }
   },
   "source": [
    "### epsilon = 10^-10"
   ]
  },
  {
   "cell_type": "markdown",
   "metadata": {
    "pycharm": {
     "name": "#%% md\n"
    }
   },
   "source": [
    "#### Obliczenia wykonane za pomocą przygotowanego wyznacznika 2x2"
   ]
  },
  {
   "cell_type": "code",
   "execution_count": null,
   "metadata": {
    "pycharm": {
     "name": "#%%\n"
    }
   },
   "outputs": [],
   "source": [
    "%matplotlib notebook\n",
    "\n",
    "result(random_points_a, det_2x2, epsilon1)"
   ]
  },
  {
   "cell_type": "markdown",
   "metadata": {
    "pycharm": {
     "name": "#%% md\n"
    }
   },
   "source": [
    "#### Obliczenia wykonane za pomocą przygotowanego wyznacznika 3x3"
   ]
  },
  {
   "cell_type": "code",
   "execution_count": null,
   "metadata": {
    "pycharm": {
     "name": "#%%\n"
    }
   },
   "outputs": [],
   "source": [
    "%matplotlib notebook\n",
    "\n",
    "result(random_points_a, det_3x3, epsilon1)"
   ]
  },
  {
   "cell_type": "markdown",
   "metadata": {
    "pycharm": {
     "name": "#%% md\n"
    }
   },
   "source": [
    "#### Obliczenia wykonane za pomocą bibliotecznego wyznacznika 2x2"
   ]
  },
  {
   "cell_type": "code",
   "execution_count": null,
   "metadata": {
    "pycharm": {
     "name": "#%%\n"
    }
   },
   "outputs": [],
   "source": [
    "%matplotlib notebook\n",
    "\n",
    "result(random_points_a, det_2x2_lib, epsilon1)"
   ]
  },
  {
   "cell_type": "markdown",
   "metadata": {
    "pycharm": {
     "name": "#%% md\n"
    }
   },
   "source": [
    "#### Obliczenia wykonane za pomocą bibliotecznego wyznacznika 3x3"
   ]
  },
  {
   "cell_type": "code",
   "execution_count": null,
   "metadata": {
    "pycharm": {
     "name": "#%%\n"
    }
   },
   "outputs": [],
   "source": [
    "%matplotlib notebook\n",
    "\n",
    "result(random_points_a, det_3x3_lib, epsilon1)"
   ]
  },
  {
   "cell_type": "markdown",
   "metadata": {
    "pycharm": {
     "name": "#%% md\n"
    }
   },
   "source": [
    "### epsilon = 10^-12"
   ]
  },
  {
   "cell_type": "markdown",
   "metadata": {
    "pycharm": {
     "name": "#%% md\n"
    }
   },
   "source": [
    "#### Obliczenia wykonane za pomocą przygotowanego wyznacznika 2x2"
   ]
  },
  {
   "cell_type": "code",
   "execution_count": null,
   "metadata": {
    "pycharm": {
     "name": "#%%\n"
    }
   },
   "outputs": [],
   "source": [
    "%matplotlib notebook\n",
    "\n",
    "result(random_points_a, det_2x2, epsilon2)"
   ]
  },
  {
   "cell_type": "markdown",
   "metadata": {
    "pycharm": {
     "name": "#%% md\n"
    }
   },
   "source": [
    "#### Obliczenia wykonane za pomocą przygotowanego wyznacznika 3x3"
   ]
  },
  {
   "cell_type": "code",
   "execution_count": null,
   "metadata": {
    "pycharm": {
     "name": "#%%\n"
    }
   },
   "outputs": [],
   "source": [
    "%matplotlib notebook\n",
    "\n",
    "result(random_points_a, det_3x3, epsilon2)"
   ]
  },
  {
   "cell_type": "markdown",
   "metadata": {
    "pycharm": {
     "name": "#%% md\n"
    }
   },
   "source": [
    "#### Obliczenia wykonane za pomocą bibliotecznego wyznacznika 2x2¶"
   ]
  },
  {
   "cell_type": "code",
   "execution_count": null,
   "metadata": {
    "pycharm": {
     "name": "#%%\n"
    }
   },
   "outputs": [],
   "source": [
    "%matplotlib notebook\n",
    "\n",
    "result(random_points_a, det_2x2_lib, epsilon2)"
   ]
  },
  {
   "cell_type": "markdown",
   "metadata": {
    "pycharm": {
     "name": "#%% md\n"
    }
   },
   "source": [
    "#### Obliczenia wykonane za pomocą bibliotecznego wyznacznika 3x3"
   ]
  },
  {
   "cell_type": "code",
   "execution_count": null,
   "metadata": {
    "pycharm": {
     "name": "#%%\n"
    }
   },
   "outputs": [],
   "source": [
    "%matplotlib notebook\n",
    "\n",
    "result(random_points_a, det_3x3_lib, epsilon2)"
   ]
  },
  {
   "cell_type": "markdown",
   "metadata": {
    "pycharm": {
     "name": "#%% md\n"
    }
   },
   "source": [
    "### epsilon = 10^-14"
   ]
  },
  {
   "cell_type": "markdown",
   "metadata": {
    "pycharm": {
     "name": "#%% md\n"
    }
   },
   "source": [
    "#### Obliczenia wykonane za pomocą przygotowanego wyznacznika 2x2"
   ]
  },
  {
   "cell_type": "code",
   "execution_count": null,
   "metadata": {
    "pycharm": {
     "name": "#%%\n"
    }
   },
   "outputs": [],
   "source": [
    "%matplotlib notebook\n",
    "\n",
    "result(random_points_a, det_2x2, epsilon3)"
   ]
  },
  {
   "cell_type": "markdown",
   "metadata": {
    "pycharm": {
     "name": "#%% md\n"
    }
   },
   "source": [
    "#### Obliczenia wykonane za pomocą przygotowanego wyznacznika 3x3"
   ]
  },
  {
   "cell_type": "code",
   "execution_count": null,
   "metadata": {
    "pycharm": {
     "name": "#%%\n"
    }
   },
   "outputs": [],
   "source": [
    "%matplotlib notebook\n",
    "\n",
    "result(random_points_a, det_3x3, epsilon3)"
   ]
  },
  {
   "cell_type": "markdown",
   "metadata": {
    "pycharm": {
     "name": "#%% md\n"
    }
   },
   "source": [
    "#### Obliczenia wykonane za pomocą bibliotecznego wyznacznika 2x2¶"
   ]
  },
  {
   "cell_type": "code",
   "execution_count": null,
   "metadata": {
    "pycharm": {
     "name": "#%%\n"
    }
   },
   "outputs": [],
   "source": [
    "%matplotlib notebook\n",
    "\n",
    "result(random_points_a, det_2x2_lib, epsilon3)"
   ]
  },
  {
   "cell_type": "markdown",
   "metadata": {
    "pycharm": {
     "name": "#%% md\n"
    }
   },
   "source": [
    "#### Obliczenia wykonane za pomocą bibliotecznego wyznacznika 3x3"
   ]
  },
  {
   "cell_type": "code",
   "execution_count": null,
   "metadata": {
    "pycharm": {
     "name": "#%%\n"
    }
   },
   "outputs": [],
   "source": [
    "%matplotlib notebook\n",
    "\n",
    "result(random_points_a, det_3x3_lib, epsilon3)"
   ]
  },
  {
   "cell_type": "markdown",
   "metadata": {
    "pycharm": {
     "name": "#%% md\n"
    }
   },
   "source": [
    "### epsilon = 10^-16"
   ]
  },
  {
   "cell_type": "markdown",
   "metadata": {
    "pycharm": {
     "name": "#%% md\n"
    }
   },
   "source": [
    "#### Obliczenia wykonane za pomocą przygotowanego wyznacznika 2x2"
   ]
  },
  {
   "cell_type": "code",
   "execution_count": null,
   "metadata": {
    "pycharm": {
     "name": "#%%\n"
    }
   },
   "outputs": [],
   "source": [
    "%matplotlib notebook\n",
    "\n",
    "result(random_points_a, det_2x2, epsilon4)"
   ]
  },
  {
   "cell_type": "markdown",
   "metadata": {
    "pycharm": {
     "name": "#%% md\n"
    }
   },
   "source": [
    "#### Obliczenia wykonane za pomocą przygotowanego wyznacznika 3x3"
   ]
  },
  {
   "cell_type": "code",
   "execution_count": null,
   "metadata": {
    "pycharm": {
     "name": "#%%\n"
    }
   },
   "outputs": [],
   "source": [
    "%matplotlib notebook\n",
    "\n",
    "result(random_points_a, det_3x3, epsilon4)"
   ]
  },
  {
   "cell_type": "markdown",
   "metadata": {
    "pycharm": {
     "name": "#%% md\n"
    }
   },
   "source": [
    "#### Obliczenia wykonane za pomocą bibliotecznego wyznacznika 2x2¶"
   ]
  },
  {
   "cell_type": "code",
   "execution_count": null,
   "metadata": {
    "pycharm": {
     "name": "#%%\n"
    }
   },
   "outputs": [],
   "source": [
    "%matplotlib notebook\n",
    "\n",
    "result(random_points_a, det_2x2_lib, epsilon4)"
   ]
  },
  {
   "cell_type": "markdown",
   "metadata": {
    "pycharm": {
     "name": "#%% md\n"
    }
   },
   "source": [
    "#### Obliczenia wykonane za pomocą bibliotecznego wyznacznika 3x3"
   ]
  },
  {
   "cell_type": "code",
   "execution_count": null,
   "metadata": {
    "pycharm": {
     "name": "#%%\n"
    }
   },
   "outputs": [],
   "source": [
    "%matplotlib notebook\n",
    "\n",
    "result(random_points_a, det_3x3_lib, epsilon4)"
   ]
  },
  {
   "cell_type": "markdown",
   "metadata": {
    "pycharm": {
     "name": "#%% md\n"
    }
   },
   "source": [
    "## Zbiór B"
   ]
  },
  {
   "cell_type": "markdown",
   "metadata": {
    "pycharm": {
     "name": "#%% md\n"
    }
   },
   "source": [
    "### epsilon = 10^-10"
   ]
  },
  {
   "cell_type": "markdown",
   "metadata": {
    "pycharm": {
     "name": "#%% md\n"
    }
   },
   "source": [
    "#### Obliczenia wykonane za pomocą przygotowanego wyznacznika 2x2"
   ]
  },
  {
   "cell_type": "code",
   "execution_count": 633,
   "metadata": {
    "pycharm": {
     "name": "#%%\n"
    }
   },
   "outputs": [
    {
     "data": {
      "application/javascript": [
       "/* Put everything inside the global mpl namespace */\n",
       "/* global mpl */\n",
       "window.mpl = {};\n",
       "\n",
       "mpl.get_websocket_type = function () {\n",
       "    if (typeof WebSocket !== 'undefined') {\n",
       "        return WebSocket;\n",
       "    } else if (typeof MozWebSocket !== 'undefined') {\n",
       "        return MozWebSocket;\n",
       "    } else {\n",
       "        alert(\n",
       "            'Your browser does not have WebSocket support. ' +\n",
       "                'Please try Chrome, Safari or Firefox ≥ 6. ' +\n",
       "                'Firefox 4 and 5 are also supported but you ' +\n",
       "                'have to enable WebSockets in about:config.'\n",
       "        );\n",
       "    }\n",
       "};\n",
       "\n",
       "mpl.figure = function (figure_id, websocket, ondownload, parent_element) {\n",
       "    this.id = figure_id;\n",
       "\n",
       "    this.ws = websocket;\n",
       "\n",
       "    this.supports_binary = this.ws.binaryType !== undefined;\n",
       "\n",
       "    if (!this.supports_binary) {\n",
       "        var warnings = document.getElementById('mpl-warnings');\n",
       "        if (warnings) {\n",
       "            warnings.style.display = 'block';\n",
       "            warnings.textContent =\n",
       "                'This browser does not support binary websocket messages. ' +\n",
       "                'Performance may be slow.';\n",
       "        }\n",
       "    }\n",
       "\n",
       "    this.imageObj = new Image();\n",
       "\n",
       "    this.context = undefined;\n",
       "    this.message = undefined;\n",
       "    this.canvas = undefined;\n",
       "    this.rubberband_canvas = undefined;\n",
       "    this.rubberband_context = undefined;\n",
       "    this.format_dropdown = undefined;\n",
       "\n",
       "    this.image_mode = 'full';\n",
       "\n",
       "    this.root = document.createElement('div');\n",
       "    this.root.setAttribute('style', 'display: inline-block');\n",
       "    this._root_extra_style(this.root);\n",
       "\n",
       "    parent_element.appendChild(this.root);\n",
       "\n",
       "    this._init_header(this);\n",
       "    this._init_canvas(this);\n",
       "    this._init_toolbar(this);\n",
       "\n",
       "    var fig = this;\n",
       "\n",
       "    this.waiting = false;\n",
       "\n",
       "    this.ws.onopen = function () {\n",
       "        fig.send_message('supports_binary', { value: fig.supports_binary });\n",
       "        fig.send_message('send_image_mode', {});\n",
       "        if (fig.ratio !== 1) {\n",
       "            fig.send_message('set_device_pixel_ratio', {\n",
       "                device_pixel_ratio: fig.ratio,\n",
       "            });\n",
       "        }\n",
       "        fig.send_message('refresh', {});\n",
       "    };\n",
       "\n",
       "    this.imageObj.onload = function () {\n",
       "        if (fig.image_mode === 'full') {\n",
       "            // Full images could contain transparency (where diff images\n",
       "            // almost always do), so we need to clear the canvas so that\n",
       "            // there is no ghosting.\n",
       "            fig.context.clearRect(0, 0, fig.canvas.width, fig.canvas.height);\n",
       "        }\n",
       "        fig.context.drawImage(fig.imageObj, 0, 0);\n",
       "    };\n",
       "\n",
       "    this.imageObj.onunload = function () {\n",
       "        fig.ws.close();\n",
       "    };\n",
       "\n",
       "    this.ws.onmessage = this._make_on_message_function(this);\n",
       "\n",
       "    this.ondownload = ondownload;\n",
       "};\n",
       "\n",
       "mpl.figure.prototype._init_header = function () {\n",
       "    var titlebar = document.createElement('div');\n",
       "    titlebar.classList =\n",
       "        'ui-dialog-titlebar ui-widget-header ui-corner-all ui-helper-clearfix';\n",
       "    var titletext = document.createElement('div');\n",
       "    titletext.classList = 'ui-dialog-title';\n",
       "    titletext.setAttribute(\n",
       "        'style',\n",
       "        'width: 100%; text-align: center; padding: 3px;'\n",
       "    );\n",
       "    titlebar.appendChild(titletext);\n",
       "    this.root.appendChild(titlebar);\n",
       "    this.header = titletext;\n",
       "};\n",
       "\n",
       "mpl.figure.prototype._canvas_extra_style = function (_canvas_div) {};\n",
       "\n",
       "mpl.figure.prototype._root_extra_style = function (_canvas_div) {};\n",
       "\n",
       "mpl.figure.prototype._init_canvas = function () {\n",
       "    var fig = this;\n",
       "\n",
       "    var canvas_div = (this.canvas_div = document.createElement('div'));\n",
       "    canvas_div.setAttribute(\n",
       "        'style',\n",
       "        'border: 1px solid #ddd;' +\n",
       "            'box-sizing: content-box;' +\n",
       "            'clear: both;' +\n",
       "            'min-height: 1px;' +\n",
       "            'min-width: 1px;' +\n",
       "            'outline: 0;' +\n",
       "            'overflow: hidden;' +\n",
       "            'position: relative;' +\n",
       "            'resize: both;'\n",
       "    );\n",
       "\n",
       "    function on_keyboard_event_closure(name) {\n",
       "        return function (event) {\n",
       "            return fig.key_event(event, name);\n",
       "        };\n",
       "    }\n",
       "\n",
       "    canvas_div.addEventListener(\n",
       "        'keydown',\n",
       "        on_keyboard_event_closure('key_press')\n",
       "    );\n",
       "    canvas_div.addEventListener(\n",
       "        'keyup',\n",
       "        on_keyboard_event_closure('key_release')\n",
       "    );\n",
       "\n",
       "    this._canvas_extra_style(canvas_div);\n",
       "    this.root.appendChild(canvas_div);\n",
       "\n",
       "    var canvas = (this.canvas = document.createElement('canvas'));\n",
       "    canvas.classList.add('mpl-canvas');\n",
       "    canvas.setAttribute('style', 'box-sizing: content-box;');\n",
       "\n",
       "    this.context = canvas.getContext('2d');\n",
       "\n",
       "    var backingStore =\n",
       "        this.context.backingStorePixelRatio ||\n",
       "        this.context.webkitBackingStorePixelRatio ||\n",
       "        this.context.mozBackingStorePixelRatio ||\n",
       "        this.context.msBackingStorePixelRatio ||\n",
       "        this.context.oBackingStorePixelRatio ||\n",
       "        this.context.backingStorePixelRatio ||\n",
       "        1;\n",
       "\n",
       "    this.ratio = (window.devicePixelRatio || 1) / backingStore;\n",
       "\n",
       "    var rubberband_canvas = (this.rubberband_canvas = document.createElement(\n",
       "        'canvas'\n",
       "    ));\n",
       "    rubberband_canvas.setAttribute(\n",
       "        'style',\n",
       "        'box-sizing: content-box; position: absolute; left: 0; top: 0; z-index: 1;'\n",
       "    );\n",
       "\n",
       "    // Apply a ponyfill if ResizeObserver is not implemented by browser.\n",
       "    if (this.ResizeObserver === undefined) {\n",
       "        if (window.ResizeObserver !== undefined) {\n",
       "            this.ResizeObserver = window.ResizeObserver;\n",
       "        } else {\n",
       "            var obs = _JSXTOOLS_RESIZE_OBSERVER({});\n",
       "            this.ResizeObserver = obs.ResizeObserver;\n",
       "        }\n",
       "    }\n",
       "\n",
       "    this.resizeObserverInstance = new this.ResizeObserver(function (entries) {\n",
       "        var nentries = entries.length;\n",
       "        for (var i = 0; i < nentries; i++) {\n",
       "            var entry = entries[i];\n",
       "            var width, height;\n",
       "            if (entry.contentBoxSize) {\n",
       "                if (entry.contentBoxSize instanceof Array) {\n",
       "                    // Chrome 84 implements new version of spec.\n",
       "                    width = entry.contentBoxSize[0].inlineSize;\n",
       "                    height = entry.contentBoxSize[0].blockSize;\n",
       "                } else {\n",
       "                    // Firefox implements old version of spec.\n",
       "                    width = entry.contentBoxSize.inlineSize;\n",
       "                    height = entry.contentBoxSize.blockSize;\n",
       "                }\n",
       "            } else {\n",
       "                // Chrome <84 implements even older version of spec.\n",
       "                width = entry.contentRect.width;\n",
       "                height = entry.contentRect.height;\n",
       "            }\n",
       "\n",
       "            // Keep the size of the canvas and rubber band canvas in sync with\n",
       "            // the canvas container.\n",
       "            if (entry.devicePixelContentBoxSize) {\n",
       "                // Chrome 84 implements new version of spec.\n",
       "                canvas.setAttribute(\n",
       "                    'width',\n",
       "                    entry.devicePixelContentBoxSize[0].inlineSize\n",
       "                );\n",
       "                canvas.setAttribute(\n",
       "                    'height',\n",
       "                    entry.devicePixelContentBoxSize[0].blockSize\n",
       "                );\n",
       "            } else {\n",
       "                canvas.setAttribute('width', width * fig.ratio);\n",
       "                canvas.setAttribute('height', height * fig.ratio);\n",
       "            }\n",
       "            canvas.setAttribute(\n",
       "                'style',\n",
       "                'width: ' + width + 'px; height: ' + height + 'px;'\n",
       "            );\n",
       "\n",
       "            rubberband_canvas.setAttribute('width', width);\n",
       "            rubberband_canvas.setAttribute('height', height);\n",
       "\n",
       "            // And update the size in Python. We ignore the initial 0/0 size\n",
       "            // that occurs as the element is placed into the DOM, which should\n",
       "            // otherwise not happen due to the minimum size styling.\n",
       "            if (fig.ws.readyState == 1 && width != 0 && height != 0) {\n",
       "                fig.request_resize(width, height);\n",
       "            }\n",
       "        }\n",
       "    });\n",
       "    this.resizeObserverInstance.observe(canvas_div);\n",
       "\n",
       "    function on_mouse_event_closure(name) {\n",
       "        return function (event) {\n",
       "            return fig.mouse_event(event, name);\n",
       "        };\n",
       "    }\n",
       "\n",
       "    rubberband_canvas.addEventListener(\n",
       "        'mousedown',\n",
       "        on_mouse_event_closure('button_press')\n",
       "    );\n",
       "    rubberband_canvas.addEventListener(\n",
       "        'mouseup',\n",
       "        on_mouse_event_closure('button_release')\n",
       "    );\n",
       "    rubberband_canvas.addEventListener(\n",
       "        'dblclick',\n",
       "        on_mouse_event_closure('dblclick')\n",
       "    );\n",
       "    // Throttle sequential mouse events to 1 every 20ms.\n",
       "    rubberband_canvas.addEventListener(\n",
       "        'mousemove',\n",
       "        on_mouse_event_closure('motion_notify')\n",
       "    );\n",
       "\n",
       "    rubberband_canvas.addEventListener(\n",
       "        'mouseenter',\n",
       "        on_mouse_event_closure('figure_enter')\n",
       "    );\n",
       "    rubberband_canvas.addEventListener(\n",
       "        'mouseleave',\n",
       "        on_mouse_event_closure('figure_leave')\n",
       "    );\n",
       "\n",
       "    canvas_div.addEventListener('wheel', function (event) {\n",
       "        if (event.deltaY < 0) {\n",
       "            event.step = 1;\n",
       "        } else {\n",
       "            event.step = -1;\n",
       "        }\n",
       "        on_mouse_event_closure('scroll')(event);\n",
       "    });\n",
       "\n",
       "    canvas_div.appendChild(canvas);\n",
       "    canvas_div.appendChild(rubberband_canvas);\n",
       "\n",
       "    this.rubberband_context = rubberband_canvas.getContext('2d');\n",
       "    this.rubberband_context.strokeStyle = '#000000';\n",
       "\n",
       "    this._resize_canvas = function (width, height, forward) {\n",
       "        if (forward) {\n",
       "            canvas_div.style.width = width + 'px';\n",
       "            canvas_div.style.height = height + 'px';\n",
       "        }\n",
       "    };\n",
       "\n",
       "    // Disable right mouse context menu.\n",
       "    this.rubberband_canvas.addEventListener('contextmenu', function (_e) {\n",
       "        event.preventDefault();\n",
       "        return false;\n",
       "    });\n",
       "\n",
       "    function set_focus() {\n",
       "        canvas.focus();\n",
       "        canvas_div.focus();\n",
       "    }\n",
       "\n",
       "    window.setTimeout(set_focus, 100);\n",
       "};\n",
       "\n",
       "mpl.figure.prototype._init_toolbar = function () {\n",
       "    var fig = this;\n",
       "\n",
       "    var toolbar = document.createElement('div');\n",
       "    toolbar.classList = 'mpl-toolbar';\n",
       "    this.root.appendChild(toolbar);\n",
       "\n",
       "    function on_click_closure(name) {\n",
       "        return function (_event) {\n",
       "            return fig.toolbar_button_onclick(name);\n",
       "        };\n",
       "    }\n",
       "\n",
       "    function on_mouseover_closure(tooltip) {\n",
       "        return function (event) {\n",
       "            if (!event.currentTarget.disabled) {\n",
       "                return fig.toolbar_button_onmouseover(tooltip);\n",
       "            }\n",
       "        };\n",
       "    }\n",
       "\n",
       "    fig.buttons = {};\n",
       "    var buttonGroup = document.createElement('div');\n",
       "    buttonGroup.classList = 'mpl-button-group';\n",
       "    for (var toolbar_ind in mpl.toolbar_items) {\n",
       "        var name = mpl.toolbar_items[toolbar_ind][0];\n",
       "        var tooltip = mpl.toolbar_items[toolbar_ind][1];\n",
       "        var image = mpl.toolbar_items[toolbar_ind][2];\n",
       "        var method_name = mpl.toolbar_items[toolbar_ind][3];\n",
       "\n",
       "        if (!name) {\n",
       "            /* Instead of a spacer, we start a new button group. */\n",
       "            if (buttonGroup.hasChildNodes()) {\n",
       "                toolbar.appendChild(buttonGroup);\n",
       "            }\n",
       "            buttonGroup = document.createElement('div');\n",
       "            buttonGroup.classList = 'mpl-button-group';\n",
       "            continue;\n",
       "        }\n",
       "\n",
       "        var button = (fig.buttons[name] = document.createElement('button'));\n",
       "        button.classList = 'mpl-widget';\n",
       "        button.setAttribute('role', 'button');\n",
       "        button.setAttribute('aria-disabled', 'false');\n",
       "        button.addEventListener('click', on_click_closure(method_name));\n",
       "        button.addEventListener('mouseover', on_mouseover_closure(tooltip));\n",
       "\n",
       "        var icon_img = document.createElement('img');\n",
       "        icon_img.src = '_images/' + image + '.png';\n",
       "        icon_img.srcset = '_images/' + image + '_large.png 2x';\n",
       "        icon_img.alt = tooltip;\n",
       "        button.appendChild(icon_img);\n",
       "\n",
       "        buttonGroup.appendChild(button);\n",
       "    }\n",
       "\n",
       "    if (buttonGroup.hasChildNodes()) {\n",
       "        toolbar.appendChild(buttonGroup);\n",
       "    }\n",
       "\n",
       "    var fmt_picker = document.createElement('select');\n",
       "    fmt_picker.classList = 'mpl-widget';\n",
       "    toolbar.appendChild(fmt_picker);\n",
       "    this.format_dropdown = fmt_picker;\n",
       "\n",
       "    for (var ind in mpl.extensions) {\n",
       "        var fmt = mpl.extensions[ind];\n",
       "        var option = document.createElement('option');\n",
       "        option.selected = fmt === mpl.default_extension;\n",
       "        option.innerHTML = fmt;\n",
       "        fmt_picker.appendChild(option);\n",
       "    }\n",
       "\n",
       "    var status_bar = document.createElement('span');\n",
       "    status_bar.classList = 'mpl-message';\n",
       "    toolbar.appendChild(status_bar);\n",
       "    this.message = status_bar;\n",
       "};\n",
       "\n",
       "mpl.figure.prototype.request_resize = function (x_pixels, y_pixels) {\n",
       "    // Request matplotlib to resize the figure. Matplotlib will then trigger a resize in the client,\n",
       "    // which will in turn request a refresh of the image.\n",
       "    this.send_message('resize', { width: x_pixels, height: y_pixels });\n",
       "};\n",
       "\n",
       "mpl.figure.prototype.send_message = function (type, properties) {\n",
       "    properties['type'] = type;\n",
       "    properties['figure_id'] = this.id;\n",
       "    this.ws.send(JSON.stringify(properties));\n",
       "};\n",
       "\n",
       "mpl.figure.prototype.send_draw_message = function () {\n",
       "    if (!this.waiting) {\n",
       "        this.waiting = true;\n",
       "        this.ws.send(JSON.stringify({ type: 'draw', figure_id: this.id }));\n",
       "    }\n",
       "};\n",
       "\n",
       "mpl.figure.prototype.handle_save = function (fig, _msg) {\n",
       "    var format_dropdown = fig.format_dropdown;\n",
       "    var format = format_dropdown.options[format_dropdown.selectedIndex].value;\n",
       "    fig.ondownload(fig, format);\n",
       "};\n",
       "\n",
       "mpl.figure.prototype.handle_resize = function (fig, msg) {\n",
       "    var size = msg['size'];\n",
       "    if (size[0] !== fig.canvas.width || size[1] !== fig.canvas.height) {\n",
       "        fig._resize_canvas(size[0], size[1], msg['forward']);\n",
       "        fig.send_message('refresh', {});\n",
       "    }\n",
       "};\n",
       "\n",
       "mpl.figure.prototype.handle_rubberband = function (fig, msg) {\n",
       "    var x0 = msg['x0'] / fig.ratio;\n",
       "    var y0 = (fig.canvas.height - msg['y0']) / fig.ratio;\n",
       "    var x1 = msg['x1'] / fig.ratio;\n",
       "    var y1 = (fig.canvas.height - msg['y1']) / fig.ratio;\n",
       "    x0 = Math.floor(x0) + 0.5;\n",
       "    y0 = Math.floor(y0) + 0.5;\n",
       "    x1 = Math.floor(x1) + 0.5;\n",
       "    y1 = Math.floor(y1) + 0.5;\n",
       "    var min_x = Math.min(x0, x1);\n",
       "    var min_y = Math.min(y0, y1);\n",
       "    var width = Math.abs(x1 - x0);\n",
       "    var height = Math.abs(y1 - y0);\n",
       "\n",
       "    fig.rubberband_context.clearRect(\n",
       "        0,\n",
       "        0,\n",
       "        fig.canvas.width / fig.ratio,\n",
       "        fig.canvas.height / fig.ratio\n",
       "    );\n",
       "\n",
       "    fig.rubberband_context.strokeRect(min_x, min_y, width, height);\n",
       "};\n",
       "\n",
       "mpl.figure.prototype.handle_figure_label = function (fig, msg) {\n",
       "    // Updates the figure title.\n",
       "    fig.header.textContent = msg['label'];\n",
       "};\n",
       "\n",
       "mpl.figure.prototype.handle_cursor = function (fig, msg) {\n",
       "    fig.rubberband_canvas.style.cursor = msg['cursor'];\n",
       "};\n",
       "\n",
       "mpl.figure.prototype.handle_message = function (fig, msg) {\n",
       "    fig.message.textContent = msg['message'];\n",
       "};\n",
       "\n",
       "mpl.figure.prototype.handle_draw = function (fig, _msg) {\n",
       "    // Request the server to send over a new figure.\n",
       "    fig.send_draw_message();\n",
       "};\n",
       "\n",
       "mpl.figure.prototype.handle_image_mode = function (fig, msg) {\n",
       "    fig.image_mode = msg['mode'];\n",
       "};\n",
       "\n",
       "mpl.figure.prototype.handle_history_buttons = function (fig, msg) {\n",
       "    for (var key in msg) {\n",
       "        if (!(key in fig.buttons)) {\n",
       "            continue;\n",
       "        }\n",
       "        fig.buttons[key].disabled = !msg[key];\n",
       "        fig.buttons[key].setAttribute('aria-disabled', !msg[key]);\n",
       "    }\n",
       "};\n",
       "\n",
       "mpl.figure.prototype.handle_navigate_mode = function (fig, msg) {\n",
       "    if (msg['mode'] === 'PAN') {\n",
       "        fig.buttons['Pan'].classList.add('active');\n",
       "        fig.buttons['Zoom'].classList.remove('active');\n",
       "    } else if (msg['mode'] === 'ZOOM') {\n",
       "        fig.buttons['Pan'].classList.remove('active');\n",
       "        fig.buttons['Zoom'].classList.add('active');\n",
       "    } else {\n",
       "        fig.buttons['Pan'].classList.remove('active');\n",
       "        fig.buttons['Zoom'].classList.remove('active');\n",
       "    }\n",
       "};\n",
       "\n",
       "mpl.figure.prototype.updated_canvas_event = function () {\n",
       "    // Called whenever the canvas gets updated.\n",
       "    this.send_message('ack', {});\n",
       "};\n",
       "\n",
       "// A function to construct a web socket function for onmessage handling.\n",
       "// Called in the figure constructor.\n",
       "mpl.figure.prototype._make_on_message_function = function (fig) {\n",
       "    return function socket_on_message(evt) {\n",
       "        if (evt.data instanceof Blob) {\n",
       "            var img = evt.data;\n",
       "            if (img.type !== 'image/png') {\n",
       "                /* FIXME: We get \"Resource interpreted as Image but\n",
       "                 * transferred with MIME type text/plain:\" errors on\n",
       "                 * Chrome.  But how to set the MIME type?  It doesn't seem\n",
       "                 * to be part of the websocket stream */\n",
       "                img.type = 'image/png';\n",
       "            }\n",
       "\n",
       "            /* Free the memory for the previous frames */\n",
       "            if (fig.imageObj.src) {\n",
       "                (window.URL || window.webkitURL).revokeObjectURL(\n",
       "                    fig.imageObj.src\n",
       "                );\n",
       "            }\n",
       "\n",
       "            fig.imageObj.src = (window.URL || window.webkitURL).createObjectURL(\n",
       "                img\n",
       "            );\n",
       "            fig.updated_canvas_event();\n",
       "            fig.waiting = false;\n",
       "            return;\n",
       "        } else if (\n",
       "            typeof evt.data === 'string' &&\n",
       "            evt.data.slice(0, 21) === 'data:image/png;base64'\n",
       "        ) {\n",
       "            fig.imageObj.src = evt.data;\n",
       "            fig.updated_canvas_event();\n",
       "            fig.waiting = false;\n",
       "            return;\n",
       "        }\n",
       "\n",
       "        var msg = JSON.parse(evt.data);\n",
       "        var msg_type = msg['type'];\n",
       "\n",
       "        // Call the  \"handle_{type}\" callback, which takes\n",
       "        // the figure and JSON message as its only arguments.\n",
       "        try {\n",
       "            var callback = fig['handle_' + msg_type];\n",
       "        } catch (e) {\n",
       "            console.log(\n",
       "                \"No handler for the '\" + msg_type + \"' message type: \",\n",
       "                msg\n",
       "            );\n",
       "            return;\n",
       "        }\n",
       "\n",
       "        if (callback) {\n",
       "            try {\n",
       "                // console.log(\"Handling '\" + msg_type + \"' message: \", msg);\n",
       "                callback(fig, msg);\n",
       "            } catch (e) {\n",
       "                console.log(\n",
       "                    \"Exception inside the 'handler_\" + msg_type + \"' callback:\",\n",
       "                    e,\n",
       "                    e.stack,\n",
       "                    msg\n",
       "                );\n",
       "            }\n",
       "        }\n",
       "    };\n",
       "};\n",
       "\n",
       "// from https://stackoverflow.com/questions/1114465/getting-mouse-location-in-canvas\n",
       "mpl.findpos = function (e) {\n",
       "    //this section is from http://www.quirksmode.org/js/events_properties.html\n",
       "    var targ;\n",
       "    if (!e) {\n",
       "        e = window.event;\n",
       "    }\n",
       "    if (e.target) {\n",
       "        targ = e.target;\n",
       "    } else if (e.srcElement) {\n",
       "        targ = e.srcElement;\n",
       "    }\n",
       "    if (targ.nodeType === 3) {\n",
       "        // defeat Safari bug\n",
       "        targ = targ.parentNode;\n",
       "    }\n",
       "\n",
       "    // pageX,Y are the mouse positions relative to the document\n",
       "    var boundingRect = targ.getBoundingClientRect();\n",
       "    var x = e.pageX - (boundingRect.left + document.body.scrollLeft);\n",
       "    var y = e.pageY - (boundingRect.top + document.body.scrollTop);\n",
       "\n",
       "    return { x: x, y: y };\n",
       "};\n",
       "\n",
       "/*\n",
       " * return a copy of an object with only non-object keys\n",
       " * we need this to avoid circular references\n",
       " * https://stackoverflow.com/a/24161582/3208463\n",
       " */\n",
       "function simpleKeys(original) {\n",
       "    return Object.keys(original).reduce(function (obj, key) {\n",
       "        if (typeof original[key] !== 'object') {\n",
       "            obj[key] = original[key];\n",
       "        }\n",
       "        return obj;\n",
       "    }, {});\n",
       "}\n",
       "\n",
       "mpl.figure.prototype.mouse_event = function (event, name) {\n",
       "    var canvas_pos = mpl.findpos(event);\n",
       "\n",
       "    if (name === 'button_press') {\n",
       "        this.canvas.focus();\n",
       "        this.canvas_div.focus();\n",
       "    }\n",
       "\n",
       "    var x = canvas_pos.x * this.ratio;\n",
       "    var y = canvas_pos.y * this.ratio;\n",
       "\n",
       "    this.send_message(name, {\n",
       "        x: x,\n",
       "        y: y,\n",
       "        button: event.button,\n",
       "        step: event.step,\n",
       "        guiEvent: simpleKeys(event),\n",
       "    });\n",
       "\n",
       "    /* This prevents the web browser from automatically changing to\n",
       "     * the text insertion cursor when the button is pressed.  We want\n",
       "     * to control all of the cursor setting manually through the\n",
       "     * 'cursor' event from matplotlib */\n",
       "    event.preventDefault();\n",
       "    return false;\n",
       "};\n",
       "\n",
       "mpl.figure.prototype._key_event_extra = function (_event, _name) {\n",
       "    // Handle any extra behaviour associated with a key event\n",
       "};\n",
       "\n",
       "mpl.figure.prototype.key_event = function (event, name) {\n",
       "    // Prevent repeat events\n",
       "    if (name === 'key_press') {\n",
       "        if (event.key === this._key) {\n",
       "            return;\n",
       "        } else {\n",
       "            this._key = event.key;\n",
       "        }\n",
       "    }\n",
       "    if (name === 'key_release') {\n",
       "        this._key = null;\n",
       "    }\n",
       "\n",
       "    var value = '';\n",
       "    if (event.ctrlKey && event.key !== 'Control') {\n",
       "        value += 'ctrl+';\n",
       "    }\n",
       "    else if (event.altKey && event.key !== 'Alt') {\n",
       "        value += 'alt+';\n",
       "    }\n",
       "    else if (event.shiftKey && event.key !== 'Shift') {\n",
       "        value += 'shift+';\n",
       "    }\n",
       "\n",
       "    value += 'k' + event.key;\n",
       "\n",
       "    this._key_event_extra(event, name);\n",
       "\n",
       "    this.send_message(name, { key: value, guiEvent: simpleKeys(event) });\n",
       "    return false;\n",
       "};\n",
       "\n",
       "mpl.figure.prototype.toolbar_button_onclick = function (name) {\n",
       "    if (name === 'download') {\n",
       "        this.handle_save(this, null);\n",
       "    } else {\n",
       "        this.send_message('toolbar_button', { name: name });\n",
       "    }\n",
       "};\n",
       "\n",
       "mpl.figure.prototype.toolbar_button_onmouseover = function (tooltip) {\n",
       "    this.message.textContent = tooltip;\n",
       "};\n",
       "\n",
       "///////////////// REMAINING CONTENT GENERATED BY embed_js.py /////////////////\n",
       "// prettier-ignore\n",
       "var _JSXTOOLS_RESIZE_OBSERVER=function(A){var t,i=new WeakMap,n=new WeakMap,a=new WeakMap,r=new WeakMap,o=new Set;function s(e){if(!(this instanceof s))throw new TypeError(\"Constructor requires 'new' operator\");i.set(this,e)}function h(){throw new TypeError(\"Function is not a constructor\")}function c(e,t,i,n){e=0 in arguments?Number(arguments[0]):0,t=1 in arguments?Number(arguments[1]):0,i=2 in arguments?Number(arguments[2]):0,n=3 in arguments?Number(arguments[3]):0,this.right=(this.x=this.left=e)+(this.width=i),this.bottom=(this.y=this.top=t)+(this.height=n),Object.freeze(this)}function d(){t=requestAnimationFrame(d);var s=new WeakMap,p=new Set;o.forEach((function(t){r.get(t).forEach((function(i){var r=t instanceof window.SVGElement,o=a.get(t),d=r?0:parseFloat(o.paddingTop),f=r?0:parseFloat(o.paddingRight),l=r?0:parseFloat(o.paddingBottom),u=r?0:parseFloat(o.paddingLeft),g=r?0:parseFloat(o.borderTopWidth),m=r?0:parseFloat(o.borderRightWidth),w=r?0:parseFloat(o.borderBottomWidth),b=u+f,F=d+l,v=(r?0:parseFloat(o.borderLeftWidth))+m,W=g+w,y=r?0:t.offsetHeight-W-t.clientHeight,E=r?0:t.offsetWidth-v-t.clientWidth,R=b+v,z=F+W,M=r?t.width:parseFloat(o.width)-R-E,O=r?t.height:parseFloat(o.height)-z-y;if(n.has(t)){var k=n.get(t);if(k[0]===M&&k[1]===O)return}n.set(t,[M,O]);var S=Object.create(h.prototype);S.target=t,S.contentRect=new c(u,d,M,O),s.has(i)||(s.set(i,[]),p.add(i)),s.get(i).push(S)}))})),p.forEach((function(e){i.get(e).call(e,s.get(e),e)}))}return s.prototype.observe=function(i){if(i instanceof window.Element){r.has(i)||(r.set(i,new Set),o.add(i),a.set(i,window.getComputedStyle(i)));var n=r.get(i);n.has(this)||n.add(this),cancelAnimationFrame(t),t=requestAnimationFrame(d)}},s.prototype.unobserve=function(i){if(i instanceof window.Element&&r.has(i)){var n=r.get(i);n.has(this)&&(n.delete(this),n.size||(r.delete(i),o.delete(i))),n.size||r.delete(i),o.size||cancelAnimationFrame(t)}},A.DOMRectReadOnly=c,A.ResizeObserver=s,A.ResizeObserverEntry=h,A}; // eslint-disable-line\n",
       "mpl.toolbar_items = [[\"Home\", \"Reset original view\", \"fa fa-home icon-home\", \"home\"], [\"Back\", \"Back to previous view\", \"fa fa-arrow-left icon-arrow-left\", \"back\"], [\"Forward\", \"Forward to next view\", \"fa fa-arrow-right icon-arrow-right\", \"forward\"], [\"\", \"\", \"\", \"\"], [\"Pan\", \"Left button pans, Right button zooms\\nx/y fixes axis, CTRL fixes aspect\", \"fa fa-arrows icon-move\", \"pan\"], [\"Zoom\", \"Zoom to rectangle\\nx/y fixes axis\", \"fa fa-square-o icon-check-empty\", \"zoom\"], [\"\", \"\", \"\", \"\"], [\"Download\", \"Download plot\", \"fa fa-floppy-o icon-save\", \"download\"]];\n",
       "\n",
       "mpl.extensions = [\"eps\", \"jpeg\", \"pgf\", \"pdf\", \"png\", \"ps\", \"raw\", \"svg\", \"tif\"];\n",
       "\n",
       "mpl.default_extension = \"png\";/* global mpl */\n",
       "\n",
       "var comm_websocket_adapter = function (comm) {\n",
       "    // Create a \"websocket\"-like object which calls the given IPython comm\n",
       "    // object with the appropriate methods. Currently this is a non binary\n",
       "    // socket, so there is still some room for performance tuning.\n",
       "    var ws = {};\n",
       "\n",
       "    ws.binaryType = comm.kernel.ws.binaryType;\n",
       "    ws.readyState = comm.kernel.ws.readyState;\n",
       "    function updateReadyState(_event) {\n",
       "        if (comm.kernel.ws) {\n",
       "            ws.readyState = comm.kernel.ws.readyState;\n",
       "        } else {\n",
       "            ws.readyState = 3; // Closed state.\n",
       "        }\n",
       "    }\n",
       "    comm.kernel.ws.addEventListener('open', updateReadyState);\n",
       "    comm.kernel.ws.addEventListener('close', updateReadyState);\n",
       "    comm.kernel.ws.addEventListener('error', updateReadyState);\n",
       "\n",
       "    ws.close = function () {\n",
       "        comm.close();\n",
       "    };\n",
       "    ws.send = function (m) {\n",
       "        //console.log('sending', m);\n",
       "        comm.send(m);\n",
       "    };\n",
       "    // Register the callback with on_msg.\n",
       "    comm.on_msg(function (msg) {\n",
       "        //console.log('receiving', msg['content']['data'], msg);\n",
       "        var data = msg['content']['data'];\n",
       "        if (data['blob'] !== undefined) {\n",
       "            data = {\n",
       "                data: new Blob(msg['buffers'], { type: data['blob'] }),\n",
       "            };\n",
       "        }\n",
       "        // Pass the mpl event to the overridden (by mpl) onmessage function.\n",
       "        ws.onmessage(data);\n",
       "    });\n",
       "    return ws;\n",
       "};\n",
       "\n",
       "mpl.mpl_figure_comm = function (comm, msg) {\n",
       "    // This is the function which gets called when the mpl process\n",
       "    // starts-up an IPython Comm through the \"matplotlib\" channel.\n",
       "\n",
       "    var id = msg.content.data.id;\n",
       "    // Get hold of the div created by the display call when the Comm\n",
       "    // socket was opened in Python.\n",
       "    var element = document.getElementById(id);\n",
       "    var ws_proxy = comm_websocket_adapter(comm);\n",
       "\n",
       "    function ondownload(figure, _format) {\n",
       "        window.open(figure.canvas.toDataURL());\n",
       "    }\n",
       "\n",
       "    var fig = new mpl.figure(id, ws_proxy, ondownload, element);\n",
       "\n",
       "    // Call onopen now - mpl needs it, as it is assuming we've passed it a real\n",
       "    // web socket which is closed, not our websocket->open comm proxy.\n",
       "    ws_proxy.onopen();\n",
       "\n",
       "    fig.parent_element = element;\n",
       "    fig.cell_info = mpl.find_output_cell(\"<div id='\" + id + \"'></div>\");\n",
       "    if (!fig.cell_info) {\n",
       "        console.error('Failed to find cell for figure', id, fig);\n",
       "        return;\n",
       "    }\n",
       "    fig.cell_info[0].output_area.element.on(\n",
       "        'cleared',\n",
       "        { fig: fig },\n",
       "        fig._remove_fig_handler\n",
       "    );\n",
       "};\n",
       "\n",
       "mpl.figure.prototype.handle_close = function (fig, msg) {\n",
       "    var width = fig.canvas.width / fig.ratio;\n",
       "    fig.cell_info[0].output_area.element.off(\n",
       "        'cleared',\n",
       "        fig._remove_fig_handler\n",
       "    );\n",
       "    fig.resizeObserverInstance.unobserve(fig.canvas_div);\n",
       "\n",
       "    // Update the output cell to use the data from the current canvas.\n",
       "    fig.push_to_output();\n",
       "    var dataURL = fig.canvas.toDataURL();\n",
       "    // Re-enable the keyboard manager in IPython - without this line, in FF,\n",
       "    // the notebook keyboard shortcuts fail.\n",
       "    IPython.keyboard_manager.enable();\n",
       "    fig.parent_element.innerHTML =\n",
       "        '<img src=\"' + dataURL + '\" width=\"' + width + '\">';\n",
       "    fig.close_ws(fig, msg);\n",
       "};\n",
       "\n",
       "mpl.figure.prototype.close_ws = function (fig, msg) {\n",
       "    fig.send_message('closing', msg);\n",
       "    // fig.ws.close()\n",
       "};\n",
       "\n",
       "mpl.figure.prototype.push_to_output = function (_remove_interactive) {\n",
       "    // Turn the data on the canvas into data in the output cell.\n",
       "    var width = this.canvas.width / this.ratio;\n",
       "    var dataURL = this.canvas.toDataURL();\n",
       "    this.cell_info[1]['text/html'] =\n",
       "        '<img src=\"' + dataURL + '\" width=\"' + width + '\">';\n",
       "};\n",
       "\n",
       "mpl.figure.prototype.updated_canvas_event = function () {\n",
       "    // Tell IPython that the notebook contents must change.\n",
       "    IPython.notebook.set_dirty(true);\n",
       "    this.send_message('ack', {});\n",
       "    var fig = this;\n",
       "    // Wait a second, then push the new image to the DOM so\n",
       "    // that it is saved nicely (might be nice to debounce this).\n",
       "    setTimeout(function () {\n",
       "        fig.push_to_output();\n",
       "    }, 1000);\n",
       "};\n",
       "\n",
       "mpl.figure.prototype._init_toolbar = function () {\n",
       "    var fig = this;\n",
       "\n",
       "    var toolbar = document.createElement('div');\n",
       "    toolbar.classList = 'btn-toolbar';\n",
       "    this.root.appendChild(toolbar);\n",
       "\n",
       "    function on_click_closure(name) {\n",
       "        return function (_event) {\n",
       "            return fig.toolbar_button_onclick(name);\n",
       "        };\n",
       "    }\n",
       "\n",
       "    function on_mouseover_closure(tooltip) {\n",
       "        return function (event) {\n",
       "            if (!event.currentTarget.disabled) {\n",
       "                return fig.toolbar_button_onmouseover(tooltip);\n",
       "            }\n",
       "        };\n",
       "    }\n",
       "\n",
       "    fig.buttons = {};\n",
       "    var buttonGroup = document.createElement('div');\n",
       "    buttonGroup.classList = 'btn-group';\n",
       "    var button;\n",
       "    for (var toolbar_ind in mpl.toolbar_items) {\n",
       "        var name = mpl.toolbar_items[toolbar_ind][0];\n",
       "        var tooltip = mpl.toolbar_items[toolbar_ind][1];\n",
       "        var image = mpl.toolbar_items[toolbar_ind][2];\n",
       "        var method_name = mpl.toolbar_items[toolbar_ind][3];\n",
       "\n",
       "        if (!name) {\n",
       "            /* Instead of a spacer, we start a new button group. */\n",
       "            if (buttonGroup.hasChildNodes()) {\n",
       "                toolbar.appendChild(buttonGroup);\n",
       "            }\n",
       "            buttonGroup = document.createElement('div');\n",
       "            buttonGroup.classList = 'btn-group';\n",
       "            continue;\n",
       "        }\n",
       "\n",
       "        button = fig.buttons[name] = document.createElement('button');\n",
       "        button.classList = 'btn btn-default';\n",
       "        button.href = '#';\n",
       "        button.title = name;\n",
       "        button.innerHTML = '<i class=\"fa ' + image + ' fa-lg\"></i>';\n",
       "        button.addEventListener('click', on_click_closure(method_name));\n",
       "        button.addEventListener('mouseover', on_mouseover_closure(tooltip));\n",
       "        buttonGroup.appendChild(button);\n",
       "    }\n",
       "\n",
       "    if (buttonGroup.hasChildNodes()) {\n",
       "        toolbar.appendChild(buttonGroup);\n",
       "    }\n",
       "\n",
       "    // Add the status bar.\n",
       "    var status_bar = document.createElement('span');\n",
       "    status_bar.classList = 'mpl-message pull-right';\n",
       "    toolbar.appendChild(status_bar);\n",
       "    this.message = status_bar;\n",
       "\n",
       "    // Add the close button to the window.\n",
       "    var buttongrp = document.createElement('div');\n",
       "    buttongrp.classList = 'btn-group inline pull-right';\n",
       "    button = document.createElement('button');\n",
       "    button.classList = 'btn btn-mini btn-primary';\n",
       "    button.href = '#';\n",
       "    button.title = 'Stop Interaction';\n",
       "    button.innerHTML = '<i class=\"fa fa-power-off icon-remove icon-large\"></i>';\n",
       "    button.addEventListener('click', function (_evt) {\n",
       "        fig.handle_close(fig, {});\n",
       "    });\n",
       "    button.addEventListener(\n",
       "        'mouseover',\n",
       "        on_mouseover_closure('Stop Interaction')\n",
       "    );\n",
       "    buttongrp.appendChild(button);\n",
       "    var titlebar = this.root.querySelector('.ui-dialog-titlebar');\n",
       "    titlebar.insertBefore(buttongrp, titlebar.firstChild);\n",
       "};\n",
       "\n",
       "mpl.figure.prototype._remove_fig_handler = function (event) {\n",
       "    var fig = event.data.fig;\n",
       "    if (event.target !== this) {\n",
       "        // Ignore bubbled events from children.\n",
       "        return;\n",
       "    }\n",
       "    fig.close_ws(fig, {});\n",
       "};\n",
       "\n",
       "mpl.figure.prototype._root_extra_style = function (el) {\n",
       "    el.style.boxSizing = 'content-box'; // override notebook setting of border-box.\n",
       "};\n",
       "\n",
       "mpl.figure.prototype._canvas_extra_style = function (el) {\n",
       "    // this is important to make the div 'focusable\n",
       "    el.setAttribute('tabindex', 0);\n",
       "    // reach out to IPython and tell the keyboard manager to turn it's self\n",
       "    // off when our div gets focus\n",
       "\n",
       "    // location in version 3\n",
       "    if (IPython.notebook.keyboard_manager) {\n",
       "        IPython.notebook.keyboard_manager.register_events(el);\n",
       "    } else {\n",
       "        // location in version 2\n",
       "        IPython.keyboard_manager.register_events(el);\n",
       "    }\n",
       "};\n",
       "\n",
       "mpl.figure.prototype._key_event_extra = function (event, _name) {\n",
       "    // Check for shift+enter\n",
       "    if (event.shiftKey && event.which === 13) {\n",
       "        this.canvas_div.blur();\n",
       "        // select the cell after this one\n",
       "        var index = IPython.notebook.find_cell_index(this.cell_info[0]);\n",
       "        IPython.notebook.select(index + 1);\n",
       "    }\n",
       "};\n",
       "\n",
       "mpl.figure.prototype.handle_save = function (fig, _msg) {\n",
       "    fig.ondownload(fig, null);\n",
       "};\n",
       "\n",
       "mpl.find_output_cell = function (html_output) {\n",
       "    // Return the cell and output element which can be found *uniquely* in the notebook.\n",
       "    // Note - this is a bit hacky, but it is done because the \"notebook_saving.Notebook\"\n",
       "    // IPython event is triggered only after the cells have been serialised, which for\n",
       "    // our purposes (turning an active figure into a static one), is too late.\n",
       "    var cells = IPython.notebook.get_cells();\n",
       "    var ncells = cells.length;\n",
       "    for (var i = 0; i < ncells; i++) {\n",
       "        var cell = cells[i];\n",
       "        if (cell.cell_type === 'code') {\n",
       "            for (var j = 0; j < cell.output_area.outputs.length; j++) {\n",
       "                var data = cell.output_area.outputs[j];\n",
       "                if (data.data) {\n",
       "                    // IPython >= 3 moved mimebundle to data attribute of output\n",
       "                    data = data.data;\n",
       "                }\n",
       "                if (data['text/html'] === html_output) {\n",
       "                    return [cell, data, j];\n",
       "                }\n",
       "            }\n",
       "        }\n",
       "    }\n",
       "};\n",
       "\n",
       "// Register the function which deals with the matplotlib target/channel.\n",
       "// The kernel may be null if the page has been refreshed.\n",
       "if (IPython.notebook.kernel !== null) {\n",
       "    IPython.notebook.kernel.comm_manager.register_target(\n",
       "        'matplotlib',\n",
       "        mpl.mpl_figure_comm\n",
       "    );\n",
       "}\n"
      ],
      "text/plain": [
       "<IPython.core.display.Javascript object>"
      ]
     },
     "metadata": {},
     "output_type": "display_data"
    },
    {
     "data": {
      "text/html": [
       "<img src=\"data:image/png;base64,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\" width=\"640\">"
      ],
      "text/plain": [
       "<IPython.core.display.HTML object>"
      ]
     },
     "metadata": {},
     "output_type": "display_data"
    },
    {
     "name": "stdout",
     "output_type": "stream",
     "text": [
      "Left: 49960\n",
      "Right: 50033\n",
      "Collinear: 7\n"
     ]
    }
   ],
   "source": [
    "%matplotlib notebook\n",
    "\n",
    "result(random_points_b, det_2x2, epsilon1)"
   ]
  },
  {
   "cell_type": "markdown",
   "metadata": {
    "pycharm": {
     "name": "#%% md\n"
    }
   },
   "source": [
    "#### Obliczenia wykonane za pomocą przygotowanego wyznacznika 3x3"
   ]
  },
  {
   "cell_type": "code",
   "execution_count": null,
   "metadata": {
    "pycharm": {
     "name": "#%%\n"
    }
   },
   "outputs": [],
   "source": [
    "%matplotlib notebook\n",
    "\n",
    "result(random_points_b, det_3x3, epsilon1)"
   ]
  },
  {
   "cell_type": "markdown",
   "metadata": {
    "pycharm": {
     "name": "#%% md\n"
    }
   },
   "source": [
    "#### Obliczenia wykonane za pomocą bibliotecznego wyznacznika 2x2¶"
   ]
  },
  {
   "cell_type": "code",
   "execution_count": null,
   "metadata": {
    "pycharm": {
     "name": "#%%\n"
    }
   },
   "outputs": [],
   "source": [
    "%matplotlib notebook\n",
    "\n",
    "result(random_points_b, det_2x2_lib, epsilon1)"
   ]
  },
  {
   "cell_type": "markdown",
   "metadata": {
    "pycharm": {
     "name": "#%% md\n"
    }
   },
   "source": [
    "#### Obliczenia wykonane za pomocą bibliotecznego wyznacznika 3x3"
   ]
  },
  {
   "cell_type": "code",
   "execution_count": null,
   "metadata": {
    "pycharm": {
     "name": "#%%\n"
    }
   },
   "outputs": [],
   "source": [
    "%matplotlib notebook\n",
    "\n",
    "result(random_points_b, det_3x3_lib, epsilon1)"
   ]
  },
  {
   "cell_type": "markdown",
   "metadata": {
    "pycharm": {
     "name": "#%% md\n"
    }
   },
   "source": [
    "### epsilon = 10^-12"
   ]
  },
  {
   "cell_type": "markdown",
   "metadata": {
    "pycharm": {
     "name": "#%% md\n"
    }
   },
   "source": [
    "#### Obliczenia wykonane za pomocą przygotowanego wyznacznika 2x2"
   ]
  },
  {
   "cell_type": "code",
   "execution_count": null,
   "metadata": {
    "pycharm": {
     "name": "#%%\n"
    }
   },
   "outputs": [],
   "source": [
    "%matplotlib notebook\n",
    "\n",
    "result(random_points_b, det_2x2, epsilon2)"
   ]
  },
  {
   "cell_type": "markdown",
   "metadata": {
    "pycharm": {
     "name": "#%% md\n"
    }
   },
   "source": [
    "#### Obliczenia wykonane za pomocą przygotowanego wyznacznika 3x3"
   ]
  },
  {
   "cell_type": "code",
   "execution_count": null,
   "metadata": {
    "pycharm": {
     "name": "#%%\n"
    }
   },
   "outputs": [],
   "source": [
    "%matplotlib notebook\n",
    "\n",
    "result(random_points_b, det_3x3, epsilon2)"
   ]
  },
  {
   "cell_type": "markdown",
   "metadata": {
    "pycharm": {
     "name": "#%% md\n"
    }
   },
   "source": [
    "#### Obliczenia wykonane za pomocą bibliotecznego wyznacznika 2x2¶"
   ]
  },
  {
   "cell_type": "code",
   "execution_count": null,
   "metadata": {
    "pycharm": {
     "name": "#%%\n"
    }
   },
   "outputs": [],
   "source": [
    "%matplotlib notebook\n",
    "\n",
    "result(random_points_b, det_2x2_lib, epsilon2)"
   ]
  },
  {
   "cell_type": "markdown",
   "metadata": {
    "pycharm": {
     "name": "#%% md\n"
    }
   },
   "source": [
    "#### Obliczenia wykonane za pomocą bibliotecznego wyznacznika 3x3"
   ]
  },
  {
   "cell_type": "code",
   "execution_count": null,
   "metadata": {
    "pycharm": {
     "name": "#%%\n"
    }
   },
   "outputs": [],
   "source": [
    "%matplotlib notebook\n",
    "\n",
    "result(random_points_b, det_3x3_lib, epsilon2)"
   ]
  },
  {
   "cell_type": "markdown",
   "metadata": {
    "pycharm": {
     "name": "#%% md\n"
    }
   },
   "source": [
    "### epsilon = 10^-14"
   ]
  },
  {
   "cell_type": "markdown",
   "metadata": {
    "pycharm": {
     "name": "#%% md\n"
    }
   },
   "source": [
    "#### Obliczenia wykonane za pomocą przygotowanego wyznacznika 2x2"
   ]
  },
  {
   "cell_type": "code",
   "execution_count": null,
   "metadata": {
    "pycharm": {
     "name": "#%%\n"
    }
   },
   "outputs": [],
   "source": [
    "%matplotlib notebook\n",
    "\n",
    "result(random_points_b, det_2x2, epsilon3)"
   ]
  },
  {
   "cell_type": "markdown",
   "metadata": {
    "pycharm": {
     "name": "#%% md\n"
    }
   },
   "source": [
    "#### Obliczenia wykonane za pomocą przygotowanego wyznacznika 3x3"
   ]
  },
  {
   "cell_type": "code",
   "execution_count": null,
   "metadata": {
    "pycharm": {
     "name": "#%%\n"
    }
   },
   "outputs": [],
   "source": [
    "%matplotlib notebook\n",
    "\n",
    "result(random_points_b, det_3x3, epsilon3)"
   ]
  },
  {
   "cell_type": "markdown",
   "metadata": {
    "pycharm": {
     "name": "#%% md\n"
    }
   },
   "source": [
    "#### Obliczenia wykonane za pomocą bibliotecznego wyznacznika 2x2¶"
   ]
  },
  {
   "cell_type": "code",
   "execution_count": null,
   "metadata": {
    "pycharm": {
     "name": "#%%\n"
    }
   },
   "outputs": [],
   "source": [
    "%matplotlib notebook\n",
    "\n",
    "result(random_points_b, det_2x2_lib, epsilon3)"
   ]
  },
  {
   "cell_type": "markdown",
   "metadata": {
    "pycharm": {
     "name": "#%% md\n"
    }
   },
   "source": [
    "#### Obliczenia wykonane za pomocą bibliotecznego wyznacznika 3x3"
   ]
  },
  {
   "cell_type": "code",
   "execution_count": null,
   "metadata": {
    "pycharm": {
     "name": "#%%\n"
    }
   },
   "outputs": [],
   "source": [
    "%matplotlib notebook\n",
    "\n",
    "result(random_points_b, det_3x3_lib, epsilon3)"
   ]
  },
  {
   "cell_type": "markdown",
   "metadata": {
    "pycharm": {
     "name": "#%% md\n"
    }
   },
   "source": [
    "### epsilon = 10^-16"
   ]
  },
  {
   "cell_type": "markdown",
   "metadata": {
    "pycharm": {
     "name": "#%% md\n"
    }
   },
   "source": [
    "#### Obliczenia wykonane za pomocą przygotowanego wyznacznika 2x2"
   ]
  },
  {
   "cell_type": "code",
   "execution_count": null,
   "metadata": {
    "pycharm": {
     "name": "#%%\n"
    }
   },
   "outputs": [],
   "source": [
    "%matplotlib notebook\n",
    "\n",
    "result(random_points_b, det_2x2, epsilon4)"
   ]
  },
  {
   "cell_type": "markdown",
   "metadata": {
    "pycharm": {
     "name": "#%% md\n"
    }
   },
   "source": [
    "#### Obliczenia wykonane za pomocą przygotowanego wyznacznika 3x3"
   ]
  },
  {
   "cell_type": "code",
   "execution_count": null,
   "metadata": {
    "pycharm": {
     "name": "#%%\n"
    }
   },
   "outputs": [],
   "source": [
    "%matplotlib notebook\n",
    "\n",
    "result(random_points_b, det_3x3, epsilon4)"
   ]
  },
  {
   "cell_type": "markdown",
   "metadata": {
    "pycharm": {
     "name": "#%% md\n"
    }
   },
   "source": [
    "#### Obliczenia wykonane za pomocą bibliotecznego wyznacznika 2x2¶"
   ]
  },
  {
   "cell_type": "code",
   "execution_count": null,
   "metadata": {
    "pycharm": {
     "name": "#%%\n"
    }
   },
   "outputs": [],
   "source": [
    "%matplotlib notebook\n",
    "\n",
    "result(random_points_b, det_2x2_lib, epsilon4)"
   ]
  },
  {
   "cell_type": "markdown",
   "metadata": {
    "pycharm": {
     "name": "#%% md\n"
    }
   },
   "source": [
    "#### Obliczenia wykonane za pomocą bibliotecznego wyznacznika 3x3"
   ]
  },
  {
   "cell_type": "code",
   "execution_count": null,
   "metadata": {
    "pycharm": {
     "name": "#%%\n"
    }
   },
   "outputs": [],
   "source": [
    "%matplotlib notebook\n",
    "\n",
    "result(random_points_b, det_3x3_lib, epsilon4)"
   ]
  },
  {
   "cell_type": "markdown",
   "metadata": {
    "pycharm": {
     "name": "#%% md\n"
    }
   },
   "source": [
    "## Zbiór C"
   ]
  },
  {
   "cell_type": "markdown",
   "metadata": {
    "pycharm": {
     "name": "#%% md\n"
    }
   },
   "source": [
    "### epsilon = 10^-10"
   ]
  },
  {
   "cell_type": "code",
   "execution_count": null,
   "metadata": {
    "pycharm": {
     "name": "#%%\n"
    }
   },
   "outputs": [],
   "source": [
    "#### Obliczenia wykonane za pomocą przygotowanego wyznacznika 2x2"
   ]
  },
  {
   "cell_type": "code",
   "execution_count": null,
   "metadata": {
    "pycharm": {
     "name": "#%%\n"
    }
   },
   "outputs": [],
   "source": [
    "%matplotlib notebook\n",
    "\n",
    "result(random_points_c, det_2x2, epsilon1)"
   ]
  },
  {
   "cell_type": "markdown",
   "metadata": {
    "pycharm": {
     "name": "#%% md\n"
    }
   },
   "source": [
    "#### Obliczenia wykonane za pomocą przygotowanego wyznacznika 3x3"
   ]
  },
  {
   "cell_type": "code",
   "execution_count": null,
   "metadata": {
    "pycharm": {
     "name": "#%%\n"
    }
   },
   "outputs": [],
   "source": [
    "%matplotlib notebook\n",
    "\n",
    "result(random_points_c, det_3x3, epsilon1)"
   ]
  },
  {
   "cell_type": "code",
   "execution_count": null,
   "metadata": {
    "pycharm": {
     "name": "#%%\n"
    }
   },
   "outputs": [],
   "source": [
    "#### Obliczenia wykonane za pomocą bibliotecznego wyznacznika 2x2¶"
   ]
  },
  {
   "cell_type": "code",
   "execution_count": null,
   "metadata": {
    "pycharm": {
     "name": "#%%\n"
    }
   },
   "outputs": [],
   "source": [
    "%matplotlib notebook\n",
    "\n",
    "result(random_points_c, det_2x2_lib, epsilon1)"
   ]
  },
  {
   "cell_type": "markdown",
   "metadata": {
    "pycharm": {
     "name": "#%% md\n"
    }
   },
   "source": [
    "#### Obliczenia wykonane za pomocą bibliotecznego wyznacznika 3x3"
   ]
  },
  {
   "cell_type": "code",
   "execution_count": null,
   "metadata": {
    "pycharm": {
     "name": "#%%\n"
    }
   },
   "outputs": [],
   "source": [
    "%matplotlib notebook\n",
    "\n",
    "result(random_points_c, det_3x3_lib, epsilon1)"
   ]
  },
  {
   "cell_type": "markdown",
   "metadata": {
    "pycharm": {
     "name": "#%% md\n"
    }
   },
   "source": [
    "### epsilon = 10^-12"
   ]
  },
  {
   "cell_type": "markdown",
   "metadata": {
    "pycharm": {
     "name": "#%% md\n"
    }
   },
   "source": [
    "#### Obliczenia wykonane za pomocą przygotowanego wyznacznika 2x2"
   ]
  },
  {
   "cell_type": "code",
   "execution_count": null,
   "metadata": {
    "pycharm": {
     "name": "#%%\n"
    }
   },
   "outputs": [],
   "source": [
    "%matplotlib notebook\n",
    "\n",
    "result(random_points_c, det_2x2, epsilon2)"
   ]
  },
  {
   "cell_type": "markdown",
   "metadata": {
    "pycharm": {
     "name": "#%% md\n"
    }
   },
   "source": [
    "#### Obliczenia wykonane za pomocą przygotowanego wyznacznika 3x3"
   ]
  },
  {
   "cell_type": "code",
   "execution_count": null,
   "metadata": {
    "pycharm": {
     "name": "#%%\n"
    }
   },
   "outputs": [],
   "source": [
    "%matplotlib notebook\n",
    "\n",
    "result(random_points_c, det_3x3, epsilon2)"
   ]
  },
  {
   "cell_type": "markdown",
   "metadata": {
    "pycharm": {
     "name": "#%% md\n"
    }
   },
   "source": [
    "#### Obliczenia wykonane za pomocą bibliotecznego wyznacznika 2x2¶"
   ]
  },
  {
   "cell_type": "code",
   "execution_count": null,
   "metadata": {
    "pycharm": {
     "name": "#%%\n"
    }
   },
   "outputs": [],
   "source": [
    "%matplotlib notebook\n",
    "\n",
    "result(random_points_c, det_2x2_lib, epsilon2)"
   ]
  },
  {
   "cell_type": "markdown",
   "metadata": {
    "pycharm": {
     "name": "#%% md\n"
    }
   },
   "source": [
    "#### Obliczenia wykonane za pomocą bibliotecznego wyznacznika 3x3"
   ]
  },
  {
   "cell_type": "code",
   "execution_count": null,
   "metadata": {
    "pycharm": {
     "name": "#%%\n"
    }
   },
   "outputs": [],
   "source": [
    "%matplotlib notebook\n",
    "\n",
    "result(random_points_c, det_3x3_lib, epsilon2)"
   ]
  },
  {
   "cell_type": "markdown",
   "metadata": {
    "pycharm": {
     "name": "#%% md\n"
    }
   },
   "source": [
    "### epsilon = 10^-14"
   ]
  },
  {
   "cell_type": "markdown",
   "metadata": {
    "pycharm": {
     "name": "#%% md\n"
    }
   },
   "source": [
    "#### Obliczenia wykonane za pomocą przygotowanego wyznacznika 2x2"
   ]
  },
  {
   "cell_type": "code",
   "execution_count": null,
   "metadata": {
    "pycharm": {
     "name": "#%%\n"
    }
   },
   "outputs": [],
   "source": [
    "%matplotlib notebook\n",
    "\n",
    "result(random_points_c, det_2x2, epsilon3)"
   ]
  },
  {
   "cell_type": "markdown",
   "metadata": {
    "pycharm": {
     "name": "#%% md\n"
    }
   },
   "source": [
    "#### Obliczenia wykonane za pomocą przygotowanego wyznacznika 3x3"
   ]
  },
  {
   "cell_type": "code",
   "execution_count": null,
   "metadata": {
    "pycharm": {
     "name": "#%%\n"
    }
   },
   "outputs": [],
   "source": [
    "%matplotlib notebook\n",
    "\n",
    "result(random_points_c, det_3x3, epsilon3)"
   ]
  },
  {
   "cell_type": "markdown",
   "metadata": {
    "pycharm": {
     "name": "#%% md\n"
    }
   },
   "source": [
    "#### Obliczenia wykonane za pomocą bibliotecznego wyznacznika 2x2¶"
   ]
  },
  {
   "cell_type": "code",
   "execution_count": null,
   "metadata": {
    "pycharm": {
     "name": "#%%\n"
    }
   },
   "outputs": [],
   "source": [
    "%matplotlib notebook\n",
    "\n",
    "result(random_points_c, det_2x2_lib, epsilon3)"
   ]
  },
  {
   "cell_type": "markdown",
   "metadata": {
    "pycharm": {
     "name": "#%% md\n"
    }
   },
   "source": [
    "#### Obliczenia wykonane za pomocą bibliotecznego wyznacznika 3x3"
   ]
  },
  {
   "cell_type": "code",
   "execution_count": null,
   "metadata": {
    "pycharm": {
     "name": "#%%\n"
    }
   },
   "outputs": [],
   "source": [
    "%matplotlib notebook\n",
    "\n",
    "result(random_points_c, det_3x3_lib, epsilon3)"
   ]
  },
  {
   "cell_type": "markdown",
   "metadata": {
    "pycharm": {
     "name": "#%% md\n"
    }
   },
   "source": [
    "### epsilon = 10^-16"
   ]
  },
  {
   "cell_type": "markdown",
   "metadata": {
    "pycharm": {
     "name": "#%% md\n"
    }
   },
   "source": [
    "#### Obliczenia wykonane za pomocą przygotowanego wyznacznika 2x2"
   ]
  },
  {
   "cell_type": "code",
   "execution_count": null,
   "metadata": {
    "pycharm": {
     "name": "#%%\n"
    }
   },
   "outputs": [],
   "source": [
    "%matplotlib notebook\n",
    "\n",
    "result(random_points_c, det_2x2, epsilon4)"
   ]
  },
  {
   "cell_type": "markdown",
   "metadata": {
    "pycharm": {
     "name": "#%% md\n"
    }
   },
   "source": [
    "#### Obliczenia wykonane za pomocą przygotowanego wyznacznika 3x3"
   ]
  },
  {
   "cell_type": "code",
   "execution_count": null,
   "metadata": {
    "pycharm": {
     "name": "#%%\n"
    }
   },
   "outputs": [],
   "source": [
    "%matplotlib notebook\n",
    "\n",
    "result(random_points_c, det_3x3, epsilon4)"
   ]
  },
  {
   "cell_type": "markdown",
   "metadata": {
    "pycharm": {
     "name": "#%% md\n"
    }
   },
   "source": [
    "#### Obliczenia wykonane za pomocą bibliotecznego wyznacznika 2x2¶"
   ]
  },
  {
   "cell_type": "code",
   "execution_count": null,
   "metadata": {
    "pycharm": {
     "name": "#%%\n"
    }
   },
   "outputs": [],
   "source": [
    "%matplotlib notebook\n",
    "\n",
    "result(random_points_c, det_2x2_lib, epsilon4)"
   ]
  },
  {
   "cell_type": "markdown",
   "metadata": {
    "pycharm": {
     "name": "#%% md\n"
    }
   },
   "source": [
    "#### Obliczenia wykonane za pomocą bibliotecznego wyznacznika 3x3"
   ]
  },
  {
   "cell_type": "code",
   "execution_count": null,
   "metadata": {
    "pycharm": {
     "name": "#%%\n"
    }
   },
   "outputs": [],
   "source": [
    "%matplotlib notebook\n",
    "\n",
    "result(random_points_c, det_3x3_lib, epsilon4)"
   ]
  },
  {
   "cell_type": "markdown",
   "metadata": {
    "pycharm": {
     "name": "#%% md\n"
    }
   },
   "source": [
    "## Zbiór D"
   ]
  },
  {
   "cell_type": "code",
   "execution_count": null,
   "metadata": {
    "pycharm": {
     "name": "#%%\n"
    }
   },
   "outputs": [],
   "source": [
    "### 1. epsilon = 10^-10"
   ]
  },
  {
   "cell_type": "markdown",
   "metadata": {
    "pycharm": {
     "name": "#%% md\n"
    }
   },
   "source": [
    "#### Obliczenia wykonane za pomocą przygotowanego wyznacznika 2x2"
   ]
  },
  {
   "cell_type": "code",
   "execution_count": null,
   "metadata": {
    "pycharm": {
     "name": "#%%\n"
    }
   },
   "outputs": [],
   "source": [
    "%matplotlib notebook\n",
    "\n",
    "result(random_points_d, det_2x2, epsilon1)"
   ]
  },
  {
   "cell_type": "markdown",
   "metadata": {
    "pycharm": {
     "name": "#%% md\n"
    }
   },
   "source": [
    "#### Obliczenia wykonane za pomocą przygotowanego wyznacznika 3x3"
   ]
  },
  {
   "cell_type": "code",
   "execution_count": null,
   "metadata": {
    "pycharm": {
     "name": "#%%\n"
    }
   },
   "outputs": [],
   "source": [
    "%matplotlib notebook\n",
    "\n",
    "result(random_points_d, det_3x3, epsilon1)"
   ]
  },
  {
   "cell_type": "markdown",
   "metadata": {
    "pycharm": {
     "name": "#%% md\n"
    }
   },
   "source": [
    "#### Obliczenia wykonane za pomocą bibliotecznego wyznacznika 2x2¶"
   ]
  },
  {
   "cell_type": "code",
   "execution_count": null,
   "metadata": {
    "pycharm": {
     "name": "#%%\n"
    }
   },
   "outputs": [],
   "source": [
    "%matplotlib notebook\n",
    "\n",
    "result(random_points_d, det_2x2_lib, epsilon1)"
   ]
  },
  {
   "cell_type": "markdown",
   "metadata": {
    "pycharm": {
     "name": "#%% md\n"
    }
   },
   "source": [
    "#### Obliczenia wykonane za pomocą bibliotecznego wyznacznika 3x3"
   ]
  },
  {
   "cell_type": "code",
   "execution_count": null,
   "metadata": {
    "pycharm": {
     "name": "#%%\n"
    }
   },
   "outputs": [],
   "source": [
    "%matplotlib notebook\n",
    "\n",
    "result(random_points_d, det_3x3_lib, epsilon1)"
   ]
  },
  {
   "cell_type": "markdown",
   "metadata": {
    "pycharm": {
     "name": "#%% md\n"
    }
   },
   "source": [
    "### 2. epsilon = 10^-12"
   ]
  },
  {
   "cell_type": "markdown",
   "metadata": {
    "pycharm": {
     "name": "#%% md\n"
    }
   },
   "source": [
    "#### Obliczenia wykonane za pomocą przygotowanego wyznacznika 2x2"
   ]
  },
  {
   "cell_type": "code",
   "execution_count": null,
   "metadata": {
    "pycharm": {
     "name": "#%%\n"
    }
   },
   "outputs": [],
   "source": [
    "%matplotlib notebook\n",
    "\n",
    "result(random_points_d, det_2x2, epsilon2)"
   ]
  },
  {
   "cell_type": "markdown",
   "metadata": {
    "pycharm": {
     "name": "#%% md\n"
    }
   },
   "source": [
    "#### Obliczenia wykonane za pomocą przygotowanego wyznacznika 3x3"
   ]
  },
  {
   "cell_type": "code",
   "execution_count": null,
   "metadata": {
    "pycharm": {
     "name": "#%%\n"
    }
   },
   "outputs": [],
   "source": [
    "%matplotlib notebook\n",
    "\n",
    "result(random_points_d, det_3x3, epsilon2)"
   ]
  },
  {
   "cell_type": "markdown",
   "metadata": {
    "pycharm": {
     "name": "#%% md\n"
    }
   },
   "source": [
    "#### Obliczenia wykonane za pomocą bibliotecznego wyznacznika 2x2¶"
   ]
  },
  {
   "cell_type": "code",
   "execution_count": null,
   "metadata": {
    "pycharm": {
     "name": "#%%\n"
    }
   },
   "outputs": [],
   "source": [
    "%matplotlib notebook\n",
    "\n",
    "result(random_points_d, det_2x2_lib, epsilon2)"
   ]
  },
  {
   "cell_type": "markdown",
   "metadata": {
    "pycharm": {
     "name": "#%% md\n"
    }
   },
   "source": [
    "#### Obliczenia wykonane za pomocą bibliotecznego wyznacznika 3x3"
   ]
  },
  {
   "cell_type": "code",
   "execution_count": null,
   "metadata": {
    "pycharm": {
     "name": "#%%\n"
    }
   },
   "outputs": [],
   "source": [
    "%matplotlib notebook\n",
    "\n",
    "result(random_points_d, det_3x3_lib, epsilon2)"
   ]
  },
  {
   "cell_type": "markdown",
   "metadata": {
    "pycharm": {
     "name": "#%% md\n"
    }
   },
   "source": [
    "### 3. epsilon = 10^-14"
   ]
  },
  {
   "cell_type": "markdown",
   "metadata": {
    "pycharm": {
     "name": "#%% md\n"
    }
   },
   "source": [
    "#### Obliczenia wykonane za pomocą przygotowanego wyznacznika 2x2"
   ]
  },
  {
   "cell_type": "code",
   "execution_count": null,
   "metadata": {
    "pycharm": {
     "name": "#%%\n"
    }
   },
   "outputs": [],
   "source": [
    "%matplotlib notebook\n",
    "\n",
    "result(random_points_d, det_2x2, epsilon3)"
   ]
  },
  {
   "cell_type": "markdown",
   "metadata": {
    "pycharm": {
     "name": "#%% md\n"
    }
   },
   "source": [
    "#### Obliczenia wykonane za pomocą przygotowanego wyznacznika 3x3"
   ]
  },
  {
   "cell_type": "code",
   "execution_count": null,
   "metadata": {
    "pycharm": {
     "name": "#%%\n"
    }
   },
   "outputs": [],
   "source": [
    "%matplotlib notebook\n",
    "\n",
    "result(random_points_d, det_3x3, epsilon3)"
   ]
  },
  {
   "cell_type": "markdown",
   "metadata": {
    "pycharm": {
     "name": "#%% md\n"
    }
   },
   "source": [
    "#### Obliczenia wykonane za pomocą bibliotecznego wyznacznika 2x2¶"
   ]
  },
  {
   "cell_type": "code",
   "execution_count": null,
   "metadata": {
    "pycharm": {
     "name": "#%%\n"
    }
   },
   "outputs": [],
   "source": [
    "%matplotlib notebook\n",
    "\n",
    "result(random_points_d, det_2x2_lib, epsilon3)"
   ]
  },
  {
   "cell_type": "markdown",
   "metadata": {
    "pycharm": {
     "name": "#%% md\n"
    }
   },
   "source": [
    "#### Obliczenia wykonane za pomocą bibliotecznego wyznacznika 3x3"
   ]
  },
  {
   "cell_type": "code",
   "execution_count": null,
   "metadata": {
    "pycharm": {
     "name": "#%%\n"
    }
   },
   "outputs": [],
   "source": [
    "%matplotlib notebook\n",
    "\n",
    "result(random_points_d, det_3x3_lib, epsilon3)"
   ]
  },
  {
   "cell_type": "markdown",
   "metadata": {
    "pycharm": {
     "name": "#%% md\n"
    }
   },
   "source": [
    "### 4. epsilon = 10^-16"
   ]
  },
  {
   "cell_type": "markdown",
   "metadata": {
    "pycharm": {
     "name": "#%% md\n"
    }
   },
   "source": [
    "#### Obliczenia wykonane za pomocą przygotowanego wyznacznika 2x2"
   ]
  },
  {
   "cell_type": "code",
   "execution_count": null,
   "metadata": {
    "pycharm": {
     "name": "#%%\n"
    }
   },
   "outputs": [],
   "source": [
    "%matplotlib notebook\n",
    "\n",
    "result(random_points_d, det_2x2, epsilon4)"
   ]
  },
  {
   "cell_type": "markdown",
   "metadata": {
    "pycharm": {
     "name": "#%% md\n"
    }
   },
   "source": [
    "#### Obliczenia wykonane za pomocą przygotowanego wyznacznika 3x3"
   ]
  },
  {
   "cell_type": "code",
   "execution_count": null,
   "metadata": {
    "pycharm": {
     "name": "#%%\n"
    }
   },
   "outputs": [],
   "source": [
    "%matplotlib notebook\n",
    "\n",
    "result(random_points_d, det_3x3, epsilon4)"
   ]
  },
  {
   "cell_type": "markdown",
   "metadata": {
    "pycharm": {
     "name": "#%% md\n"
    }
   },
   "source": [
    "#### Obliczenia wykonane za pomocą bibliotecznego wyznacznika 2x2¶"
   ]
  },
  {
   "cell_type": "code",
   "execution_count": null,
   "metadata": {
    "pycharm": {
     "name": "#%%\n"
    }
   },
   "outputs": [],
   "source": [
    "%matplotlib notebook\n",
    "\n",
    "result(random_points_d, det_2x2_lib, epsilon4)"
   ]
  },
  {
   "cell_type": "markdown",
   "metadata": {
    "pycharm": {
     "name": "#%% md\n"
    }
   },
   "source": [
    "#### Obliczenia wykonane za pomocą bibliotecznego wyznacznika 3x3"
   ]
  },
  {
   "cell_type": "code",
   "execution_count": null,
   "metadata": {
    "pycharm": {
     "name": "#%%\n"
    }
   },
   "outputs": [],
   "source": [
    "%matplotlib notebook\n",
    "\n",
    "result(random_points_d, det_3x3_lib, epsilon4)"
   ]
  },
  {
   "cell_type": "markdown",
   "metadata": {
    "pycharm": {
     "name": "#%% md\n"
    }
   },
   "source": [
    "# Zadanie 4"
   ]
  },
  {
   "cell_type": "markdown",
   "metadata": {
    "pycharm": {
     "name": "#%% md\n"
    }
   },
   "source": [
    "## Przygotowanie narzędzia znajdującego i zliczającego różnice w klasyfikacjach zbiorów"
   ]
  },
  {
   "cell_type": "code",
   "execution_count": null,
   "metadata": {
    "pycharm": {
     "name": "#%%\n"
    }
   },
   "outputs": [],
   "source": [
    "def unify_result(result):\n",
    "    sorted_result = [[x, 'c'] for x in result['collinear']]\n",
    "    sorted_result.extend([[x, 'l'] for x in result['left']])\n",
    "    sorted_result.extend([[x, 'r'] for x in result['right']])\n",
    "    \n",
    "    return sorted_result"
   ]
  },
  {
   "cell_type": "code",
   "execution_count": null,
   "metadata": {
    "pycharm": {
     "name": "#%%\n"
    }
   },
   "outputs": [],
   "source": [
    "def diff(points, e1, e2, det1, det2):\n",
    "    diff_tab = []\n",
    "    \n",
    "    res1 = classify_orient(points, det1, e1)\n",
    "    res2 = classify_orient(points, det2, e2)\n",
    "    \n",
    "    res1 = sorted(unify_result(res1))\n",
    "    res2 = sorted(unify_result(res2))\n",
    "    \n",
    "    for i in range(len(points)):\n",
    "        if res1[i] != res2[i]:\n",
    "            diff_tab.append(res1[i][0])\n",
    "                \n",
    "    return diff_tab\n",
    "\n",
    "#%matplotlib notebook\n",
    "#Plot(points=[PointsCollection(diff(POINTS, EPSILON, DET1, DET2))]).draw()"
   ]
  },
  {
   "cell_type": "markdown",
   "metadata": {
    "pycharm": {
     "name": "#%% md\n"
    }
   },
   "source": [
    "## Graficznie różnice w podziale punktów dla różnych wartości epsilon i różnych sposobów liczenia wartości wyznacznika"
   ]
  },
  {
   "cell_type": "markdown",
   "metadata": {
    "pycharm": {
     "name": "#%% md\n"
    }
   },
   "source": [
    "### Zbiór A"
   ]
  },
  {
   "cell_type": "code",
   "execution_count": null,
   "metadata": {
    "pycharm": {
     "name": "#%%\n"
    }
   },
   "outputs": [],
   "source": [
    "print(len(diff(random_points_a, 0.1, 10**-5, det_2x2, det_2x2_lib)))"
   ]
  },
  {
   "cell_type": "code",
   "execution_count": null,
   "metadata": {
    "pycharm": {
     "name": "#%%\n"
    }
   },
   "outputs": [],
   "source": [
    "%matplotlib notebook\n",
    "\n",
    "plot = Plot(points=[PointsCollection(diff(random_points_a, 0.1, 10**-5, det_2x2, det_2x2_lib))])\n",
    "plot.draw()"
   ]
  },
  {
   "cell_type": "markdown",
   "metadata": {
    "pycharm": {
     "name": "#%% md\n"
    }
   },
   "source": [
    "### Zbiór B"
   ]
  },
  {
   "cell_type": "code",
   "execution_count": null,
   "metadata": {
    "pycharm": {
     "name": "#%%\n"
    }
   },
   "outputs": [],
   "source": [
    "print(len(diff(random_points_b, epsilon1, epsilon1, det_2x2, det_2x2_lib)))"
   ]
  },
  {
   "cell_type": "code",
   "execution_count": null,
   "metadata": {
    "pycharm": {
     "name": "#%%\n"
    }
   },
   "outputs": [],
   "source": [
    "%matplotlib notebook\n",
    "\n",
    "plot = Plot(points=[PointsCollection(diff(random_points_b, epsilon1, epsilon1, det_2x2, det_2x2_lib))])\n",
    "plot.draw()"
   ]
  },
  {
   "cell_type": "markdown",
   "metadata": {
    "pycharm": {
     "name": "#%% md\n"
    }
   },
   "source": [
    "### Zbiór C"
   ]
  },
  {
   "cell_type": "code",
   "execution_count": null,
   "metadata": {
    "pycharm": {
     "name": "#%%\n"
    }
   },
   "outputs": [],
   "source": [
    "print(len(diff(random_points_c, epsilon1, epsilon1, det_2x2, det_2x2_lib)))"
   ]
  },
  {
   "cell_type": "code",
   "execution_count": null,
   "metadata": {
    "pycharm": {
     "name": "#%%\n"
    }
   },
   "outputs": [],
   "source": [
    "%matplotlib notebook\n",
    "\n",
    "plot = Plot(points=[PointsCollection(diff(random_points_c, 5, 10**-5, det_2x2, det_3x3_lib))])\n",
    "plot.draw()"
   ]
  },
  {
   "cell_type": "markdown",
   "metadata": {
    "pycharm": {
     "name": "#%% md\n"
    }
   },
   "source": [
    "### Zbiór D"
   ]
  },
  {
   "cell_type": "code",
   "execution_count": null,
   "metadata": {
    "pycharm": {
     "name": "#%%\n"
    }
   },
   "outputs": [],
   "source": [
    "print(len(diff(random_points_d, epsilon1, epsilon1, det_2x2, det_2x2_lib)))"
   ]
  },
  {
   "cell_type": "code",
   "execution_count": null,
   "metadata": {
    "pycharm": {
     "name": "#%%\n"
    }
   },
   "outputs": [],
   "source": [
    "print(len(diff(random_points_d, epsilon2, epsilon2, det_2x2, det_2x2_lib)))"
   ]
  },
  {
   "cell_type": "code",
   "execution_count": null,
   "metadata": {
    "pycharm": {
     "name": "#%%\n"
    }
   },
   "outputs": [],
   "source": [
    "print(len(diff(random_points_d, epsilon3, epsilon3, det_2x2, det_2x2_lib)))"
   ]
  },
  {
   "cell_type": "code",
   "execution_count": null,
   "metadata": {
    "pycharm": {
     "name": "#%%\n"
    }
   },
   "outputs": [],
   "source": [
    "print(len(diff(random_points_d, epsilon4, epsilon4, det_2x2, det_2x2_lib)))"
   ]
  },
  {
   "cell_type": "code",
   "execution_count": null,
   "metadata": {
    "pycharm": {
     "name": "#%%\n"
    }
   },
   "outputs": [],
   "source": [
    "print(len(diff(random_points_d, epsilon1, epsilon1, det_3x3, det_3x3_lib)))"
   ]
  },
  {
   "cell_type": "code",
   "execution_count": null,
   "metadata": {
    "pycharm": {
     "name": "#%%\n"
    }
   },
   "outputs": [],
   "source": [
    "print(len(diff(random_points_d, epsilon2, epsilon2, det_3x3, det_3x3_lib)))"
   ]
  },
  {
   "cell_type": "code",
   "execution_count": null,
   "metadata": {
    "pycharm": {
     "name": "#%%\n"
    }
   },
   "outputs": [],
   "source": [
    "print(len(diff(random_points_d, epsilon3, epsilon3, det_3x3, det_3x3_lib)))"
   ]
  },
  {
   "cell_type": "code",
   "execution_count": null,
   "metadata": {
    "pycharm": {
     "name": "#%%\n"
    }
   },
   "outputs": [],
   "source": [
    "print(len(diff(random_points_d, epsilon4, epsilon4, det_3x3, det_3x3_lib)))"
   ]
  },
  {
   "cell_type": "code",
   "execution_count": null,
   "metadata": {
    "pycharm": {
     "name": "#%%\n"
    }
   },
   "outputs": [],
   "source": [
    "%matplotlib notebook\n",
    "\n",
    "plot = Plot(points=[PointsCollection(diff(random_points_d, epsilon3, epsilon3, det_2x2, det_2x2_lib))])\n",
    "plot.draw()"
   ]
  },
  {
   "cell_type": "code",
   "execution_count": null,
   "metadata": {
    "pycharm": {
     "name": "#%%\n"
    }
   },
   "outputs": [],
   "source": [
    "%matplotlib notebook\n",
    "\n",
    "plot = Plot(points=[PointsCollection(diff(random_points_d, epsilon4, epsilon4, det_2x2, det_2x2_lib))])\n",
    "plot.draw()"
   ]
  },
  {
   "cell_type": "code",
   "execution_count": null,
   "metadata": {
    "pycharm": {
     "name": "#%%\n"
    }
   },
   "outputs": [],
   "source": [
    "%matplotlib notebook\n",
    "\n",
    "plot = Plot(points=[PointsCollection(diff(random_points_d, epsilon3, epsilon3, det_3x3, det_3x3_lib))])\n",
    "plot.draw()"
   ]
  },
  {
   "cell_type": "code",
   "execution_count": null,
   "metadata": {
    "pycharm": {
     "name": "#%%\n"
    }
   },
   "outputs": [],
   "source": [
    "%matplotlib notebook\n",
    "\n",
    "plot = Plot(points=[PointsCollection(diff(random_points_d, epsilon3, epsilon3, det_3x3, det_3x3_lib))])\n",
    "plot.draw()"
   ]
  },
  {
   "cell_type": "code",
   "execution_count": null,
   "metadata": {
    "pycharm": {
     "name": "#%%\n"
    }
   },
   "outputs": [],
   "source": [
    "# Zadanie 5"
   ]
  },
  {
   "cell_type": "code",
   "execution_count": null,
   "metadata": {
    "pycharm": {
     "name": "#%%\n"
    }
   },
   "outputs": [],
   "source": [
    "from time import time\n",
    "\n",
    "start = time()\n",
    "classify_orient(random_points_b, det_2x2, epsilon3)\n",
    "stop = time()\n",
    "print(\"2x2:\", stop - start)\n",
    "\n",
    "start = time()\n",
    "classify_orient(random_points_b, det_2x2_lib, epsilon3)\n",
    "stop = time()\n",
    "print(\"2x2_lib:\", stop - start)\n",
    "\n",
    "start = time()\n",
    "classify_orient(random_points_b, det_3x3, epsilon3)\n",
    "stop = time()\n",
    "print(\"3x3:\", stop - start)\n",
    "\n",
    "start = time()\n",
    "classify_orient(random_points_b, det_3x3_lib, epsilon3)\n",
    "stop = time()\n",
    "print(\"3x3_lib:\", stop - start)"
   ]
  },
  {
   "cell_type": "markdown",
   "metadata": {
    "pycharm": {
     "name": "#%% md\n"
    }
   },
   "source": [
    "## Wnioski"
   ]
  },
  {
   "cell_type": "code",
   "execution_count": 628,
   "metadata": {},
   "outputs": [
    {
     "data": {
      "application/javascript": [
       "/* Put everything inside the global mpl namespace */\n",
       "/* global mpl */\n",
       "window.mpl = {};\n",
       "\n",
       "mpl.get_websocket_type = function () {\n",
       "    if (typeof WebSocket !== 'undefined') {\n",
       "        return WebSocket;\n",
       "    } else if (typeof MozWebSocket !== 'undefined') {\n",
       "        return MozWebSocket;\n",
       "    } else {\n",
       "        alert(\n",
       "            'Your browser does not have WebSocket support. ' +\n",
       "                'Please try Chrome, Safari or Firefox ≥ 6. ' +\n",
       "                'Firefox 4 and 5 are also supported but you ' +\n",
       "                'have to enable WebSockets in about:config.'\n",
       "        );\n",
       "    }\n",
       "};\n",
       "\n",
       "mpl.figure = function (figure_id, websocket, ondownload, parent_element) {\n",
       "    this.id = figure_id;\n",
       "\n",
       "    this.ws = websocket;\n",
       "\n",
       "    this.supports_binary = this.ws.binaryType !== undefined;\n",
       "\n",
       "    if (!this.supports_binary) {\n",
       "        var warnings = document.getElementById('mpl-warnings');\n",
       "        if (warnings) {\n",
       "            warnings.style.display = 'block';\n",
       "            warnings.textContent =\n",
       "                'This browser does not support binary websocket messages. ' +\n",
       "                'Performance may be slow.';\n",
       "        }\n",
       "    }\n",
       "\n",
       "    this.imageObj = new Image();\n",
       "\n",
       "    this.context = undefined;\n",
       "    this.message = undefined;\n",
       "    this.canvas = undefined;\n",
       "    this.rubberband_canvas = undefined;\n",
       "    this.rubberband_context = undefined;\n",
       "    this.format_dropdown = undefined;\n",
       "\n",
       "    this.image_mode = 'full';\n",
       "\n",
       "    this.root = document.createElement('div');\n",
       "    this.root.setAttribute('style', 'display: inline-block');\n",
       "    this._root_extra_style(this.root);\n",
       "\n",
       "    parent_element.appendChild(this.root);\n",
       "\n",
       "    this._init_header(this);\n",
       "    this._init_canvas(this);\n",
       "    this._init_toolbar(this);\n",
       "\n",
       "    var fig = this;\n",
       "\n",
       "    this.waiting = false;\n",
       "\n",
       "    this.ws.onopen = function () {\n",
       "        fig.send_message('supports_binary', { value: fig.supports_binary });\n",
       "        fig.send_message('send_image_mode', {});\n",
       "        if (fig.ratio !== 1) {\n",
       "            fig.send_message('set_device_pixel_ratio', {\n",
       "                device_pixel_ratio: fig.ratio,\n",
       "            });\n",
       "        }\n",
       "        fig.send_message('refresh', {});\n",
       "    };\n",
       "\n",
       "    this.imageObj.onload = function () {\n",
       "        if (fig.image_mode === 'full') {\n",
       "            // Full images could contain transparency (where diff images\n",
       "            // almost always do), so we need to clear the canvas so that\n",
       "            // there is no ghosting.\n",
       "            fig.context.clearRect(0, 0, fig.canvas.width, fig.canvas.height);\n",
       "        }\n",
       "        fig.context.drawImage(fig.imageObj, 0, 0);\n",
       "    };\n",
       "\n",
       "    this.imageObj.onunload = function () {\n",
       "        fig.ws.close();\n",
       "    };\n",
       "\n",
       "    this.ws.onmessage = this._make_on_message_function(this);\n",
       "\n",
       "    this.ondownload = ondownload;\n",
       "};\n",
       "\n",
       "mpl.figure.prototype._init_header = function () {\n",
       "    var titlebar = document.createElement('div');\n",
       "    titlebar.classList =\n",
       "        'ui-dialog-titlebar ui-widget-header ui-corner-all ui-helper-clearfix';\n",
       "    var titletext = document.createElement('div');\n",
       "    titletext.classList = 'ui-dialog-title';\n",
       "    titletext.setAttribute(\n",
       "        'style',\n",
       "        'width: 100%; text-align: center; padding: 3px;'\n",
       "    );\n",
       "    titlebar.appendChild(titletext);\n",
       "    this.root.appendChild(titlebar);\n",
       "    this.header = titletext;\n",
       "};\n",
       "\n",
       "mpl.figure.prototype._canvas_extra_style = function (_canvas_div) {};\n",
       "\n",
       "mpl.figure.prototype._root_extra_style = function (_canvas_div) {};\n",
       "\n",
       "mpl.figure.prototype._init_canvas = function () {\n",
       "    var fig = this;\n",
       "\n",
       "    var canvas_div = (this.canvas_div = document.createElement('div'));\n",
       "    canvas_div.setAttribute(\n",
       "        'style',\n",
       "        'border: 1px solid #ddd;' +\n",
       "            'box-sizing: content-box;' +\n",
       "            'clear: both;' +\n",
       "            'min-height: 1px;' +\n",
       "            'min-width: 1px;' +\n",
       "            'outline: 0;' +\n",
       "            'overflow: hidden;' +\n",
       "            'position: relative;' +\n",
       "            'resize: both;'\n",
       "    );\n",
       "\n",
       "    function on_keyboard_event_closure(name) {\n",
       "        return function (event) {\n",
       "            return fig.key_event(event, name);\n",
       "        };\n",
       "    }\n",
       "\n",
       "    canvas_div.addEventListener(\n",
       "        'keydown',\n",
       "        on_keyboard_event_closure('key_press')\n",
       "    );\n",
       "    canvas_div.addEventListener(\n",
       "        'keyup',\n",
       "        on_keyboard_event_closure('key_release')\n",
       "    );\n",
       "\n",
       "    this._canvas_extra_style(canvas_div);\n",
       "    this.root.appendChild(canvas_div);\n",
       "\n",
       "    var canvas = (this.canvas = document.createElement('canvas'));\n",
       "    canvas.classList.add('mpl-canvas');\n",
       "    canvas.setAttribute('style', 'box-sizing: content-box;');\n",
       "\n",
       "    this.context = canvas.getContext('2d');\n",
       "\n",
       "    var backingStore =\n",
       "        this.context.backingStorePixelRatio ||\n",
       "        this.context.webkitBackingStorePixelRatio ||\n",
       "        this.context.mozBackingStorePixelRatio ||\n",
       "        this.context.msBackingStorePixelRatio ||\n",
       "        this.context.oBackingStorePixelRatio ||\n",
       "        this.context.backingStorePixelRatio ||\n",
       "        1;\n",
       "\n",
       "    this.ratio = (window.devicePixelRatio || 1) / backingStore;\n",
       "\n",
       "    var rubberband_canvas = (this.rubberband_canvas = document.createElement(\n",
       "        'canvas'\n",
       "    ));\n",
       "    rubberband_canvas.setAttribute(\n",
       "        'style',\n",
       "        'box-sizing: content-box; position: absolute; left: 0; top: 0; z-index: 1;'\n",
       "    );\n",
       "\n",
       "    // Apply a ponyfill if ResizeObserver is not implemented by browser.\n",
       "    if (this.ResizeObserver === undefined) {\n",
       "        if (window.ResizeObserver !== undefined) {\n",
       "            this.ResizeObserver = window.ResizeObserver;\n",
       "        } else {\n",
       "            var obs = _JSXTOOLS_RESIZE_OBSERVER({});\n",
       "            this.ResizeObserver = obs.ResizeObserver;\n",
       "        }\n",
       "    }\n",
       "\n",
       "    this.resizeObserverInstance = new this.ResizeObserver(function (entries) {\n",
       "        var nentries = entries.length;\n",
       "        for (var i = 0; i < nentries; i++) {\n",
       "            var entry = entries[i];\n",
       "            var width, height;\n",
       "            if (entry.contentBoxSize) {\n",
       "                if (entry.contentBoxSize instanceof Array) {\n",
       "                    // Chrome 84 implements new version of spec.\n",
       "                    width = entry.contentBoxSize[0].inlineSize;\n",
       "                    height = entry.contentBoxSize[0].blockSize;\n",
       "                } else {\n",
       "                    // Firefox implements old version of spec.\n",
       "                    width = entry.contentBoxSize.inlineSize;\n",
       "                    height = entry.contentBoxSize.blockSize;\n",
       "                }\n",
       "            } else {\n",
       "                // Chrome <84 implements even older version of spec.\n",
       "                width = entry.contentRect.width;\n",
       "                height = entry.contentRect.height;\n",
       "            }\n",
       "\n",
       "            // Keep the size of the canvas and rubber band canvas in sync with\n",
       "            // the canvas container.\n",
       "            if (entry.devicePixelContentBoxSize) {\n",
       "                // Chrome 84 implements new version of spec.\n",
       "                canvas.setAttribute(\n",
       "                    'width',\n",
       "                    entry.devicePixelContentBoxSize[0].inlineSize\n",
       "                );\n",
       "                canvas.setAttribute(\n",
       "                    'height',\n",
       "                    entry.devicePixelContentBoxSize[0].blockSize\n",
       "                );\n",
       "            } else {\n",
       "                canvas.setAttribute('width', width * fig.ratio);\n",
       "                canvas.setAttribute('height', height * fig.ratio);\n",
       "            }\n",
       "            canvas.setAttribute(\n",
       "                'style',\n",
       "                'width: ' + width + 'px; height: ' + height + 'px;'\n",
       "            );\n",
       "\n",
       "            rubberband_canvas.setAttribute('width', width);\n",
       "            rubberband_canvas.setAttribute('height', height);\n",
       "\n",
       "            // And update the size in Python. We ignore the initial 0/0 size\n",
       "            // that occurs as the element is placed into the DOM, which should\n",
       "            // otherwise not happen due to the minimum size styling.\n",
       "            if (fig.ws.readyState == 1 && width != 0 && height != 0) {\n",
       "                fig.request_resize(width, height);\n",
       "            }\n",
       "        }\n",
       "    });\n",
       "    this.resizeObserverInstance.observe(canvas_div);\n",
       "\n",
       "    function on_mouse_event_closure(name) {\n",
       "        return function (event) {\n",
       "            return fig.mouse_event(event, name);\n",
       "        };\n",
       "    }\n",
       "\n",
       "    rubberband_canvas.addEventListener(\n",
       "        'mousedown',\n",
       "        on_mouse_event_closure('button_press')\n",
       "    );\n",
       "    rubberband_canvas.addEventListener(\n",
       "        'mouseup',\n",
       "        on_mouse_event_closure('button_release')\n",
       "    );\n",
       "    rubberband_canvas.addEventListener(\n",
       "        'dblclick',\n",
       "        on_mouse_event_closure('dblclick')\n",
       "    );\n",
       "    // Throttle sequential mouse events to 1 every 20ms.\n",
       "    rubberband_canvas.addEventListener(\n",
       "        'mousemove',\n",
       "        on_mouse_event_closure('motion_notify')\n",
       "    );\n",
       "\n",
       "    rubberband_canvas.addEventListener(\n",
       "        'mouseenter',\n",
       "        on_mouse_event_closure('figure_enter')\n",
       "    );\n",
       "    rubberband_canvas.addEventListener(\n",
       "        'mouseleave',\n",
       "        on_mouse_event_closure('figure_leave')\n",
       "    );\n",
       "\n",
       "    canvas_div.addEventListener('wheel', function (event) {\n",
       "        if (event.deltaY < 0) {\n",
       "            event.step = 1;\n",
       "        } else {\n",
       "            event.step = -1;\n",
       "        }\n",
       "        on_mouse_event_closure('scroll')(event);\n",
       "    });\n",
       "\n",
       "    canvas_div.appendChild(canvas);\n",
       "    canvas_div.appendChild(rubberband_canvas);\n",
       "\n",
       "    this.rubberband_context = rubberband_canvas.getContext('2d');\n",
       "    this.rubberband_context.strokeStyle = '#000000';\n",
       "\n",
       "    this._resize_canvas = function (width, height, forward) {\n",
       "        if (forward) {\n",
       "            canvas_div.style.width = width + 'px';\n",
       "            canvas_div.style.height = height + 'px';\n",
       "        }\n",
       "    };\n",
       "\n",
       "    // Disable right mouse context menu.\n",
       "    this.rubberband_canvas.addEventListener('contextmenu', function (_e) {\n",
       "        event.preventDefault();\n",
       "        return false;\n",
       "    });\n",
       "\n",
       "    function set_focus() {\n",
       "        canvas.focus();\n",
       "        canvas_div.focus();\n",
       "    }\n",
       "\n",
       "    window.setTimeout(set_focus, 100);\n",
       "};\n",
       "\n",
       "mpl.figure.prototype._init_toolbar = function () {\n",
       "    var fig = this;\n",
       "\n",
       "    var toolbar = document.createElement('div');\n",
       "    toolbar.classList = 'mpl-toolbar';\n",
       "    this.root.appendChild(toolbar);\n",
       "\n",
       "    function on_click_closure(name) {\n",
       "        return function (_event) {\n",
       "            return fig.toolbar_button_onclick(name);\n",
       "        };\n",
       "    }\n",
       "\n",
       "    function on_mouseover_closure(tooltip) {\n",
       "        return function (event) {\n",
       "            if (!event.currentTarget.disabled) {\n",
       "                return fig.toolbar_button_onmouseover(tooltip);\n",
       "            }\n",
       "        };\n",
       "    }\n",
       "\n",
       "    fig.buttons = {};\n",
       "    var buttonGroup = document.createElement('div');\n",
       "    buttonGroup.classList = 'mpl-button-group';\n",
       "    for (var toolbar_ind in mpl.toolbar_items) {\n",
       "        var name = mpl.toolbar_items[toolbar_ind][0];\n",
       "        var tooltip = mpl.toolbar_items[toolbar_ind][1];\n",
       "        var image = mpl.toolbar_items[toolbar_ind][2];\n",
       "        var method_name = mpl.toolbar_items[toolbar_ind][3];\n",
       "\n",
       "        if (!name) {\n",
       "            /* Instead of a spacer, we start a new button group. */\n",
       "            if (buttonGroup.hasChildNodes()) {\n",
       "                toolbar.appendChild(buttonGroup);\n",
       "            }\n",
       "            buttonGroup = document.createElement('div');\n",
       "            buttonGroup.classList = 'mpl-button-group';\n",
       "            continue;\n",
       "        }\n",
       "\n",
       "        var button = (fig.buttons[name] = document.createElement('button'));\n",
       "        button.classList = 'mpl-widget';\n",
       "        button.setAttribute('role', 'button');\n",
       "        button.setAttribute('aria-disabled', 'false');\n",
       "        button.addEventListener('click', on_click_closure(method_name));\n",
       "        button.addEventListener('mouseover', on_mouseover_closure(tooltip));\n",
       "\n",
       "        var icon_img = document.createElement('img');\n",
       "        icon_img.src = '_images/' + image + '.png';\n",
       "        icon_img.srcset = '_images/' + image + '_large.png 2x';\n",
       "        icon_img.alt = tooltip;\n",
       "        button.appendChild(icon_img);\n",
       "\n",
       "        buttonGroup.appendChild(button);\n",
       "    }\n",
       "\n",
       "    if (buttonGroup.hasChildNodes()) {\n",
       "        toolbar.appendChild(buttonGroup);\n",
       "    }\n",
       "\n",
       "    var fmt_picker = document.createElement('select');\n",
       "    fmt_picker.classList = 'mpl-widget';\n",
       "    toolbar.appendChild(fmt_picker);\n",
       "    this.format_dropdown = fmt_picker;\n",
       "\n",
       "    for (var ind in mpl.extensions) {\n",
       "        var fmt = mpl.extensions[ind];\n",
       "        var option = document.createElement('option');\n",
       "        option.selected = fmt === mpl.default_extension;\n",
       "        option.innerHTML = fmt;\n",
       "        fmt_picker.appendChild(option);\n",
       "    }\n",
       "\n",
       "    var status_bar = document.createElement('span');\n",
       "    status_bar.classList = 'mpl-message';\n",
       "    toolbar.appendChild(status_bar);\n",
       "    this.message = status_bar;\n",
       "};\n",
       "\n",
       "mpl.figure.prototype.request_resize = function (x_pixels, y_pixels) {\n",
       "    // Request matplotlib to resize the figure. Matplotlib will then trigger a resize in the client,\n",
       "    // which will in turn request a refresh of the image.\n",
       "    this.send_message('resize', { width: x_pixels, height: y_pixels });\n",
       "};\n",
       "\n",
       "mpl.figure.prototype.send_message = function (type, properties) {\n",
       "    properties['type'] = type;\n",
       "    properties['figure_id'] = this.id;\n",
       "    this.ws.send(JSON.stringify(properties));\n",
       "};\n",
       "\n",
       "mpl.figure.prototype.send_draw_message = function () {\n",
       "    if (!this.waiting) {\n",
       "        this.waiting = true;\n",
       "        this.ws.send(JSON.stringify({ type: 'draw', figure_id: this.id }));\n",
       "    }\n",
       "};\n",
       "\n",
       "mpl.figure.prototype.handle_save = function (fig, _msg) {\n",
       "    var format_dropdown = fig.format_dropdown;\n",
       "    var format = format_dropdown.options[format_dropdown.selectedIndex].value;\n",
       "    fig.ondownload(fig, format);\n",
       "};\n",
       "\n",
       "mpl.figure.prototype.handle_resize = function (fig, msg) {\n",
       "    var size = msg['size'];\n",
       "    if (size[0] !== fig.canvas.width || size[1] !== fig.canvas.height) {\n",
       "        fig._resize_canvas(size[0], size[1], msg['forward']);\n",
       "        fig.send_message('refresh', {});\n",
       "    }\n",
       "};\n",
       "\n",
       "mpl.figure.prototype.handle_rubberband = function (fig, msg) {\n",
       "    var x0 = msg['x0'] / fig.ratio;\n",
       "    var y0 = (fig.canvas.height - msg['y0']) / fig.ratio;\n",
       "    var x1 = msg['x1'] / fig.ratio;\n",
       "    var y1 = (fig.canvas.height - msg['y1']) / fig.ratio;\n",
       "    x0 = Math.floor(x0) + 0.5;\n",
       "    y0 = Math.floor(y0) + 0.5;\n",
       "    x1 = Math.floor(x1) + 0.5;\n",
       "    y1 = Math.floor(y1) + 0.5;\n",
       "    var min_x = Math.min(x0, x1);\n",
       "    var min_y = Math.min(y0, y1);\n",
       "    var width = Math.abs(x1 - x0);\n",
       "    var height = Math.abs(y1 - y0);\n",
       "\n",
       "    fig.rubberband_context.clearRect(\n",
       "        0,\n",
       "        0,\n",
       "        fig.canvas.width / fig.ratio,\n",
       "        fig.canvas.height / fig.ratio\n",
       "    );\n",
       "\n",
       "    fig.rubberband_context.strokeRect(min_x, min_y, width, height);\n",
       "};\n",
       "\n",
       "mpl.figure.prototype.handle_figure_label = function (fig, msg) {\n",
       "    // Updates the figure title.\n",
       "    fig.header.textContent = msg['label'];\n",
       "};\n",
       "\n",
       "mpl.figure.prototype.handle_cursor = function (fig, msg) {\n",
       "    fig.rubberband_canvas.style.cursor = msg['cursor'];\n",
       "};\n",
       "\n",
       "mpl.figure.prototype.handle_message = function (fig, msg) {\n",
       "    fig.message.textContent = msg['message'];\n",
       "};\n",
       "\n",
       "mpl.figure.prototype.handle_draw = function (fig, _msg) {\n",
       "    // Request the server to send over a new figure.\n",
       "    fig.send_draw_message();\n",
       "};\n",
       "\n",
       "mpl.figure.prototype.handle_image_mode = function (fig, msg) {\n",
       "    fig.image_mode = msg['mode'];\n",
       "};\n",
       "\n",
       "mpl.figure.prototype.handle_history_buttons = function (fig, msg) {\n",
       "    for (var key in msg) {\n",
       "        if (!(key in fig.buttons)) {\n",
       "            continue;\n",
       "        }\n",
       "        fig.buttons[key].disabled = !msg[key];\n",
       "        fig.buttons[key].setAttribute('aria-disabled', !msg[key]);\n",
       "    }\n",
       "};\n",
       "\n",
       "mpl.figure.prototype.handle_navigate_mode = function (fig, msg) {\n",
       "    if (msg['mode'] === 'PAN') {\n",
       "        fig.buttons['Pan'].classList.add('active');\n",
       "        fig.buttons['Zoom'].classList.remove('active');\n",
       "    } else if (msg['mode'] === 'ZOOM') {\n",
       "        fig.buttons['Pan'].classList.remove('active');\n",
       "        fig.buttons['Zoom'].classList.add('active');\n",
       "    } else {\n",
       "        fig.buttons['Pan'].classList.remove('active');\n",
       "        fig.buttons['Zoom'].classList.remove('active');\n",
       "    }\n",
       "};\n",
       "\n",
       "mpl.figure.prototype.updated_canvas_event = function () {\n",
       "    // Called whenever the canvas gets updated.\n",
       "    this.send_message('ack', {});\n",
       "};\n",
       "\n",
       "// A function to construct a web socket function for onmessage handling.\n",
       "// Called in the figure constructor.\n",
       "mpl.figure.prototype._make_on_message_function = function (fig) {\n",
       "    return function socket_on_message(evt) {\n",
       "        if (evt.data instanceof Blob) {\n",
       "            var img = evt.data;\n",
       "            if (img.type !== 'image/png') {\n",
       "                /* FIXME: We get \"Resource interpreted as Image but\n",
       "                 * transferred with MIME type text/plain:\" errors on\n",
       "                 * Chrome.  But how to set the MIME type?  It doesn't seem\n",
       "                 * to be part of the websocket stream */\n",
       "                img.type = 'image/png';\n",
       "            }\n",
       "\n",
       "            /* Free the memory for the previous frames */\n",
       "            if (fig.imageObj.src) {\n",
       "                (window.URL || window.webkitURL).revokeObjectURL(\n",
       "                    fig.imageObj.src\n",
       "                );\n",
       "            }\n",
       "\n",
       "            fig.imageObj.src = (window.URL || window.webkitURL).createObjectURL(\n",
       "                img\n",
       "            );\n",
       "            fig.updated_canvas_event();\n",
       "            fig.waiting = false;\n",
       "            return;\n",
       "        } else if (\n",
       "            typeof evt.data === 'string' &&\n",
       "            evt.data.slice(0, 21) === 'data:image/png;base64'\n",
       "        ) {\n",
       "            fig.imageObj.src = evt.data;\n",
       "            fig.updated_canvas_event();\n",
       "            fig.waiting = false;\n",
       "            return;\n",
       "        }\n",
       "\n",
       "        var msg = JSON.parse(evt.data);\n",
       "        var msg_type = msg['type'];\n",
       "\n",
       "        // Call the  \"handle_{type}\" callback, which takes\n",
       "        // the figure and JSON message as its only arguments.\n",
       "        try {\n",
       "            var callback = fig['handle_' + msg_type];\n",
       "        } catch (e) {\n",
       "            console.log(\n",
       "                \"No handler for the '\" + msg_type + \"' message type: \",\n",
       "                msg\n",
       "            );\n",
       "            return;\n",
       "        }\n",
       "\n",
       "        if (callback) {\n",
       "            try {\n",
       "                // console.log(\"Handling '\" + msg_type + \"' message: \", msg);\n",
       "                callback(fig, msg);\n",
       "            } catch (e) {\n",
       "                console.log(\n",
       "                    \"Exception inside the 'handler_\" + msg_type + \"' callback:\",\n",
       "                    e,\n",
       "                    e.stack,\n",
       "                    msg\n",
       "                );\n",
       "            }\n",
       "        }\n",
       "    };\n",
       "};\n",
       "\n",
       "// from https://stackoverflow.com/questions/1114465/getting-mouse-location-in-canvas\n",
       "mpl.findpos = function (e) {\n",
       "    //this section is from http://www.quirksmode.org/js/events_properties.html\n",
       "    var targ;\n",
       "    if (!e) {\n",
       "        e = window.event;\n",
       "    }\n",
       "    if (e.target) {\n",
       "        targ = e.target;\n",
       "    } else if (e.srcElement) {\n",
       "        targ = e.srcElement;\n",
       "    }\n",
       "    if (targ.nodeType === 3) {\n",
       "        // defeat Safari bug\n",
       "        targ = targ.parentNode;\n",
       "    }\n",
       "\n",
       "    // pageX,Y are the mouse positions relative to the document\n",
       "    var boundingRect = targ.getBoundingClientRect();\n",
       "    var x = e.pageX - (boundingRect.left + document.body.scrollLeft);\n",
       "    var y = e.pageY - (boundingRect.top + document.body.scrollTop);\n",
       "\n",
       "    return { x: x, y: y };\n",
       "};\n",
       "\n",
       "/*\n",
       " * return a copy of an object with only non-object keys\n",
       " * we need this to avoid circular references\n",
       " * https://stackoverflow.com/a/24161582/3208463\n",
       " */\n",
       "function simpleKeys(original) {\n",
       "    return Object.keys(original).reduce(function (obj, key) {\n",
       "        if (typeof original[key] !== 'object') {\n",
       "            obj[key] = original[key];\n",
       "        }\n",
       "        return obj;\n",
       "    }, {});\n",
       "}\n",
       "\n",
       "mpl.figure.prototype.mouse_event = function (event, name) {\n",
       "    var canvas_pos = mpl.findpos(event);\n",
       "\n",
       "    if (name === 'button_press') {\n",
       "        this.canvas.focus();\n",
       "        this.canvas_div.focus();\n",
       "    }\n",
       "\n",
       "    var x = canvas_pos.x * this.ratio;\n",
       "    var y = canvas_pos.y * this.ratio;\n",
       "\n",
       "    this.send_message(name, {\n",
       "        x: x,\n",
       "        y: y,\n",
       "        button: event.button,\n",
       "        step: event.step,\n",
       "        guiEvent: simpleKeys(event),\n",
       "    });\n",
       "\n",
       "    /* This prevents the web browser from automatically changing to\n",
       "     * the text insertion cursor when the button is pressed.  We want\n",
       "     * to control all of the cursor setting manually through the\n",
       "     * 'cursor' event from matplotlib */\n",
       "    event.preventDefault();\n",
       "    return false;\n",
       "};\n",
       "\n",
       "mpl.figure.prototype._key_event_extra = function (_event, _name) {\n",
       "    // Handle any extra behaviour associated with a key event\n",
       "};\n",
       "\n",
       "mpl.figure.prototype.key_event = function (event, name) {\n",
       "    // Prevent repeat events\n",
       "    if (name === 'key_press') {\n",
       "        if (event.key === this._key) {\n",
       "            return;\n",
       "        } else {\n",
       "            this._key = event.key;\n",
       "        }\n",
       "    }\n",
       "    if (name === 'key_release') {\n",
       "        this._key = null;\n",
       "    }\n",
       "\n",
       "    var value = '';\n",
       "    if (event.ctrlKey && event.key !== 'Control') {\n",
       "        value += 'ctrl+';\n",
       "    }\n",
       "    else if (event.altKey && event.key !== 'Alt') {\n",
       "        value += 'alt+';\n",
       "    }\n",
       "    else if (event.shiftKey && event.key !== 'Shift') {\n",
       "        value += 'shift+';\n",
       "    }\n",
       "\n",
       "    value += 'k' + event.key;\n",
       "\n",
       "    this._key_event_extra(event, name);\n",
       "\n",
       "    this.send_message(name, { key: value, guiEvent: simpleKeys(event) });\n",
       "    return false;\n",
       "};\n",
       "\n",
       "mpl.figure.prototype.toolbar_button_onclick = function (name) {\n",
       "    if (name === 'download') {\n",
       "        this.handle_save(this, null);\n",
       "    } else {\n",
       "        this.send_message('toolbar_button', { name: name });\n",
       "    }\n",
       "};\n",
       "\n",
       "mpl.figure.prototype.toolbar_button_onmouseover = function (tooltip) {\n",
       "    this.message.textContent = tooltip;\n",
       "};\n",
       "\n",
       "///////////////// REMAINING CONTENT GENERATED BY embed_js.py /////////////////\n",
       "// prettier-ignore\n",
       "var _JSXTOOLS_RESIZE_OBSERVER=function(A){var t,i=new WeakMap,n=new WeakMap,a=new WeakMap,r=new WeakMap,o=new Set;function s(e){if(!(this instanceof s))throw new TypeError(\"Constructor requires 'new' operator\");i.set(this,e)}function h(){throw new TypeError(\"Function is not a constructor\")}function c(e,t,i,n){e=0 in arguments?Number(arguments[0]):0,t=1 in arguments?Number(arguments[1]):0,i=2 in arguments?Number(arguments[2]):0,n=3 in arguments?Number(arguments[3]):0,this.right=(this.x=this.left=e)+(this.width=i),this.bottom=(this.y=this.top=t)+(this.height=n),Object.freeze(this)}function d(){t=requestAnimationFrame(d);var s=new WeakMap,p=new Set;o.forEach((function(t){r.get(t).forEach((function(i){var r=t instanceof window.SVGElement,o=a.get(t),d=r?0:parseFloat(o.paddingTop),f=r?0:parseFloat(o.paddingRight),l=r?0:parseFloat(o.paddingBottom),u=r?0:parseFloat(o.paddingLeft),g=r?0:parseFloat(o.borderTopWidth),m=r?0:parseFloat(o.borderRightWidth),w=r?0:parseFloat(o.borderBottomWidth),b=u+f,F=d+l,v=(r?0:parseFloat(o.borderLeftWidth))+m,W=g+w,y=r?0:t.offsetHeight-W-t.clientHeight,E=r?0:t.offsetWidth-v-t.clientWidth,R=b+v,z=F+W,M=r?t.width:parseFloat(o.width)-R-E,O=r?t.height:parseFloat(o.height)-z-y;if(n.has(t)){var k=n.get(t);if(k[0]===M&&k[1]===O)return}n.set(t,[M,O]);var S=Object.create(h.prototype);S.target=t,S.contentRect=new c(u,d,M,O),s.has(i)||(s.set(i,[]),p.add(i)),s.get(i).push(S)}))})),p.forEach((function(e){i.get(e).call(e,s.get(e),e)}))}return s.prototype.observe=function(i){if(i instanceof window.Element){r.has(i)||(r.set(i,new Set),o.add(i),a.set(i,window.getComputedStyle(i)));var n=r.get(i);n.has(this)||n.add(this),cancelAnimationFrame(t),t=requestAnimationFrame(d)}},s.prototype.unobserve=function(i){if(i instanceof window.Element&&r.has(i)){var n=r.get(i);n.has(this)&&(n.delete(this),n.size||(r.delete(i),o.delete(i))),n.size||r.delete(i),o.size||cancelAnimationFrame(t)}},A.DOMRectReadOnly=c,A.ResizeObserver=s,A.ResizeObserverEntry=h,A}; // eslint-disable-line\n",
       "mpl.toolbar_items = [[\"Home\", \"Reset original view\", \"fa fa-home icon-home\", \"home\"], [\"Back\", \"Back to previous view\", \"fa fa-arrow-left icon-arrow-left\", \"back\"], [\"Forward\", \"Forward to next view\", \"fa fa-arrow-right icon-arrow-right\", \"forward\"], [\"\", \"\", \"\", \"\"], [\"Pan\", \"Left button pans, Right button zooms\\nx/y fixes axis, CTRL fixes aspect\", \"fa fa-arrows icon-move\", \"pan\"], [\"Zoom\", \"Zoom to rectangle\\nx/y fixes axis\", \"fa fa-square-o icon-check-empty\", \"zoom\"], [\"\", \"\", \"\", \"\"], [\"Download\", \"Download plot\", \"fa fa-floppy-o icon-save\", \"download\"]];\n",
       "\n",
       "mpl.extensions = [\"eps\", \"jpeg\", \"pgf\", \"pdf\", \"png\", \"ps\", \"raw\", \"svg\", \"tif\"];\n",
       "\n",
       "mpl.default_extension = \"png\";/* global mpl */\n",
       "\n",
       "var comm_websocket_adapter = function (comm) {\n",
       "    // Create a \"websocket\"-like object which calls the given IPython comm\n",
       "    // object with the appropriate methods. Currently this is a non binary\n",
       "    // socket, so there is still some room for performance tuning.\n",
       "    var ws = {};\n",
       "\n",
       "    ws.binaryType = comm.kernel.ws.binaryType;\n",
       "    ws.readyState = comm.kernel.ws.readyState;\n",
       "    function updateReadyState(_event) {\n",
       "        if (comm.kernel.ws) {\n",
       "            ws.readyState = comm.kernel.ws.readyState;\n",
       "        } else {\n",
       "            ws.readyState = 3; // Closed state.\n",
       "        }\n",
       "    }\n",
       "    comm.kernel.ws.addEventListener('open', updateReadyState);\n",
       "    comm.kernel.ws.addEventListener('close', updateReadyState);\n",
       "    comm.kernel.ws.addEventListener('error', updateReadyState);\n",
       "\n",
       "    ws.close = function () {\n",
       "        comm.close();\n",
       "    };\n",
       "    ws.send = function (m) {\n",
       "        //console.log('sending', m);\n",
       "        comm.send(m);\n",
       "    };\n",
       "    // Register the callback with on_msg.\n",
       "    comm.on_msg(function (msg) {\n",
       "        //console.log('receiving', msg['content']['data'], msg);\n",
       "        var data = msg['content']['data'];\n",
       "        if (data['blob'] !== undefined) {\n",
       "            data = {\n",
       "                data: new Blob(msg['buffers'], { type: data['blob'] }),\n",
       "            };\n",
       "        }\n",
       "        // Pass the mpl event to the overridden (by mpl) onmessage function.\n",
       "        ws.onmessage(data);\n",
       "    });\n",
       "    return ws;\n",
       "};\n",
       "\n",
       "mpl.mpl_figure_comm = function (comm, msg) {\n",
       "    // This is the function which gets called when the mpl process\n",
       "    // starts-up an IPython Comm through the \"matplotlib\" channel.\n",
       "\n",
       "    var id = msg.content.data.id;\n",
       "    // Get hold of the div created by the display call when the Comm\n",
       "    // socket was opened in Python.\n",
       "    var element = document.getElementById(id);\n",
       "    var ws_proxy = comm_websocket_adapter(comm);\n",
       "\n",
       "    function ondownload(figure, _format) {\n",
       "        window.open(figure.canvas.toDataURL());\n",
       "    }\n",
       "\n",
       "    var fig = new mpl.figure(id, ws_proxy, ondownload, element);\n",
       "\n",
       "    // Call onopen now - mpl needs it, as it is assuming we've passed it a real\n",
       "    // web socket which is closed, not our websocket->open comm proxy.\n",
       "    ws_proxy.onopen();\n",
       "\n",
       "    fig.parent_element = element;\n",
       "    fig.cell_info = mpl.find_output_cell(\"<div id='\" + id + \"'></div>\");\n",
       "    if (!fig.cell_info) {\n",
       "        console.error('Failed to find cell for figure', id, fig);\n",
       "        return;\n",
       "    }\n",
       "    fig.cell_info[0].output_area.element.on(\n",
       "        'cleared',\n",
       "        { fig: fig },\n",
       "        fig._remove_fig_handler\n",
       "    );\n",
       "};\n",
       "\n",
       "mpl.figure.prototype.handle_close = function (fig, msg) {\n",
       "    var width = fig.canvas.width / fig.ratio;\n",
       "    fig.cell_info[0].output_area.element.off(\n",
       "        'cleared',\n",
       "        fig._remove_fig_handler\n",
       "    );\n",
       "    fig.resizeObserverInstance.unobserve(fig.canvas_div);\n",
       "\n",
       "    // Update the output cell to use the data from the current canvas.\n",
       "    fig.push_to_output();\n",
       "    var dataURL = fig.canvas.toDataURL();\n",
       "    // Re-enable the keyboard manager in IPython - without this line, in FF,\n",
       "    // the notebook keyboard shortcuts fail.\n",
       "    IPython.keyboard_manager.enable();\n",
       "    fig.parent_element.innerHTML =\n",
       "        '<img src=\"' + dataURL + '\" width=\"' + width + '\">';\n",
       "    fig.close_ws(fig, msg);\n",
       "};\n",
       "\n",
       "mpl.figure.prototype.close_ws = function (fig, msg) {\n",
       "    fig.send_message('closing', msg);\n",
       "    // fig.ws.close()\n",
       "};\n",
       "\n",
       "mpl.figure.prototype.push_to_output = function (_remove_interactive) {\n",
       "    // Turn the data on the canvas into data in the output cell.\n",
       "    var width = this.canvas.width / this.ratio;\n",
       "    var dataURL = this.canvas.toDataURL();\n",
       "    this.cell_info[1]['text/html'] =\n",
       "        '<img src=\"' + dataURL + '\" width=\"' + width + '\">';\n",
       "};\n",
       "\n",
       "mpl.figure.prototype.updated_canvas_event = function () {\n",
       "    // Tell IPython that the notebook contents must change.\n",
       "    IPython.notebook.set_dirty(true);\n",
       "    this.send_message('ack', {});\n",
       "    var fig = this;\n",
       "    // Wait a second, then push the new image to the DOM so\n",
       "    // that it is saved nicely (might be nice to debounce this).\n",
       "    setTimeout(function () {\n",
       "        fig.push_to_output();\n",
       "    }, 1000);\n",
       "};\n",
       "\n",
       "mpl.figure.prototype._init_toolbar = function () {\n",
       "    var fig = this;\n",
       "\n",
       "    var toolbar = document.createElement('div');\n",
       "    toolbar.classList = 'btn-toolbar';\n",
       "    this.root.appendChild(toolbar);\n",
       "\n",
       "    function on_click_closure(name) {\n",
       "        return function (_event) {\n",
       "            return fig.toolbar_button_onclick(name);\n",
       "        };\n",
       "    }\n",
       "\n",
       "    function on_mouseover_closure(tooltip) {\n",
       "        return function (event) {\n",
       "            if (!event.currentTarget.disabled) {\n",
       "                return fig.toolbar_button_onmouseover(tooltip);\n",
       "            }\n",
       "        };\n",
       "    }\n",
       "\n",
       "    fig.buttons = {};\n",
       "    var buttonGroup = document.createElement('div');\n",
       "    buttonGroup.classList = 'btn-group';\n",
       "    var button;\n",
       "    for (var toolbar_ind in mpl.toolbar_items) {\n",
       "        var name = mpl.toolbar_items[toolbar_ind][0];\n",
       "        var tooltip = mpl.toolbar_items[toolbar_ind][1];\n",
       "        var image = mpl.toolbar_items[toolbar_ind][2];\n",
       "        var method_name = mpl.toolbar_items[toolbar_ind][3];\n",
       "\n",
       "        if (!name) {\n",
       "            /* Instead of a spacer, we start a new button group. */\n",
       "            if (buttonGroup.hasChildNodes()) {\n",
       "                toolbar.appendChild(buttonGroup);\n",
       "            }\n",
       "            buttonGroup = document.createElement('div');\n",
       "            buttonGroup.classList = 'btn-group';\n",
       "            continue;\n",
       "        }\n",
       "\n",
       "        button = fig.buttons[name] = document.createElement('button');\n",
       "        button.classList = 'btn btn-default';\n",
       "        button.href = '#';\n",
       "        button.title = name;\n",
       "        button.innerHTML = '<i class=\"fa ' + image + ' fa-lg\"></i>';\n",
       "        button.addEventListener('click', on_click_closure(method_name));\n",
       "        button.addEventListener('mouseover', on_mouseover_closure(tooltip));\n",
       "        buttonGroup.appendChild(button);\n",
       "    }\n",
       "\n",
       "    if (buttonGroup.hasChildNodes()) {\n",
       "        toolbar.appendChild(buttonGroup);\n",
       "    }\n",
       "\n",
       "    // Add the status bar.\n",
       "    var status_bar = document.createElement('span');\n",
       "    status_bar.classList = 'mpl-message pull-right';\n",
       "    toolbar.appendChild(status_bar);\n",
       "    this.message = status_bar;\n",
       "\n",
       "    // Add the close button to the window.\n",
       "    var buttongrp = document.createElement('div');\n",
       "    buttongrp.classList = 'btn-group inline pull-right';\n",
       "    button = document.createElement('button');\n",
       "    button.classList = 'btn btn-mini btn-primary';\n",
       "    button.href = '#';\n",
       "    button.title = 'Stop Interaction';\n",
       "    button.innerHTML = '<i class=\"fa fa-power-off icon-remove icon-large\"></i>';\n",
       "    button.addEventListener('click', function (_evt) {\n",
       "        fig.handle_close(fig, {});\n",
       "    });\n",
       "    button.addEventListener(\n",
       "        'mouseover',\n",
       "        on_mouseover_closure('Stop Interaction')\n",
       "    );\n",
       "    buttongrp.appendChild(button);\n",
       "    var titlebar = this.root.querySelector('.ui-dialog-titlebar');\n",
       "    titlebar.insertBefore(buttongrp, titlebar.firstChild);\n",
       "};\n",
       "\n",
       "mpl.figure.prototype._remove_fig_handler = function (event) {\n",
       "    var fig = event.data.fig;\n",
       "    if (event.target !== this) {\n",
       "        // Ignore bubbled events from children.\n",
       "        return;\n",
       "    }\n",
       "    fig.close_ws(fig, {});\n",
       "};\n",
       "\n",
       "mpl.figure.prototype._root_extra_style = function (el) {\n",
       "    el.style.boxSizing = 'content-box'; // override notebook setting of border-box.\n",
       "};\n",
       "\n",
       "mpl.figure.prototype._canvas_extra_style = function (el) {\n",
       "    // this is important to make the div 'focusable\n",
       "    el.setAttribute('tabindex', 0);\n",
       "    // reach out to IPython and tell the keyboard manager to turn it's self\n",
       "    // off when our div gets focus\n",
       "\n",
       "    // location in version 3\n",
       "    if (IPython.notebook.keyboard_manager) {\n",
       "        IPython.notebook.keyboard_manager.register_events(el);\n",
       "    } else {\n",
       "        // location in version 2\n",
       "        IPython.keyboard_manager.register_events(el);\n",
       "    }\n",
       "};\n",
       "\n",
       "mpl.figure.prototype._key_event_extra = function (event, _name) {\n",
       "    // Check for shift+enter\n",
       "    if (event.shiftKey && event.which === 13) {\n",
       "        this.canvas_div.blur();\n",
       "        // select the cell after this one\n",
       "        var index = IPython.notebook.find_cell_index(this.cell_info[0]);\n",
       "        IPython.notebook.select(index + 1);\n",
       "    }\n",
       "};\n",
       "\n",
       "mpl.figure.prototype.handle_save = function (fig, _msg) {\n",
       "    fig.ondownload(fig, null);\n",
       "};\n",
       "\n",
       "mpl.find_output_cell = function (html_output) {\n",
       "    // Return the cell and output element which can be found *uniquely* in the notebook.\n",
       "    // Note - this is a bit hacky, but it is done because the \"notebook_saving.Notebook\"\n",
       "    // IPython event is triggered only after the cells have been serialised, which for\n",
       "    // our purposes (turning an active figure into a static one), is too late.\n",
       "    var cells = IPython.notebook.get_cells();\n",
       "    var ncells = cells.length;\n",
       "    for (var i = 0; i < ncells; i++) {\n",
       "        var cell = cells[i];\n",
       "        if (cell.cell_type === 'code') {\n",
       "            for (var j = 0; j < cell.output_area.outputs.length; j++) {\n",
       "                var data = cell.output_area.outputs[j];\n",
       "                if (data.data) {\n",
       "                    // IPython >= 3 moved mimebundle to data attribute of output\n",
       "                    data = data.data;\n",
       "                }\n",
       "                if (data['text/html'] === html_output) {\n",
       "                    return [cell, data, j];\n",
       "                }\n",
       "            }\n",
       "        }\n",
       "    }\n",
       "};\n",
       "\n",
       "// Register the function which deals with the matplotlib target/channel.\n",
       "// The kernel may be null if the page has been refreshed.\n",
       "if (IPython.notebook.kernel !== null) {\n",
       "    IPython.notebook.kernel.comm_manager.register_target(\n",
       "        'matplotlib',\n",
       "        mpl.mpl_figure_comm\n",
       "    );\n",
       "}\n"
      ],
      "text/plain": [
       "<IPython.core.display.Javascript object>"
      ]
     },
     "metadata": {},
     "output_type": "display_data"
    },
    {
     "data": {
      "text/html": [
       "<img src=\"data:image/png;base64,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\" width=\"640\">"
      ],
      "text/plain": [
       "<IPython.core.display.HTML object>"
      ]
     },
     "metadata": {},
     "output_type": "display_data"
    }
   ],
   "source": [
    "%matplotlib notebook\n",
    "\n",
    "plot = Plot(points=[PointsCollection(diff(random_points_d, epsilon4, epsilon4, det_2x2, det_2x2_lib))])\n",
    "plot.draw()"
   ]
  },
  {
   "cell_type": "code",
   "execution_count": 629,
   "metadata": {},
   "outputs": [
    {
     "data": {
      "application/javascript": [
       "/* Put everything inside the global mpl namespace */\n",
       "/* global mpl */\n",
       "window.mpl = {};\n",
       "\n",
       "mpl.get_websocket_type = function () {\n",
       "    if (typeof WebSocket !== 'undefined') {\n",
       "        return WebSocket;\n",
       "    } else if (typeof MozWebSocket !== 'undefined') {\n",
       "        return MozWebSocket;\n",
       "    } else {\n",
       "        alert(\n",
       "            'Your browser does not have WebSocket support. ' +\n",
       "                'Please try Chrome, Safari or Firefox ≥ 6. ' +\n",
       "                'Firefox 4 and 5 are also supported but you ' +\n",
       "                'have to enable WebSockets in about:config.'\n",
       "        );\n",
       "    }\n",
       "};\n",
       "\n",
       "mpl.figure = function (figure_id, websocket, ondownload, parent_element) {\n",
       "    this.id = figure_id;\n",
       "\n",
       "    this.ws = websocket;\n",
       "\n",
       "    this.supports_binary = this.ws.binaryType !== undefined;\n",
       "\n",
       "    if (!this.supports_binary) {\n",
       "        var warnings = document.getElementById('mpl-warnings');\n",
       "        if (warnings) {\n",
       "            warnings.style.display = 'block';\n",
       "            warnings.textContent =\n",
       "                'This browser does not support binary websocket messages. ' +\n",
       "                'Performance may be slow.';\n",
       "        }\n",
       "    }\n",
       "\n",
       "    this.imageObj = new Image();\n",
       "\n",
       "    this.context = undefined;\n",
       "    this.message = undefined;\n",
       "    this.canvas = undefined;\n",
       "    this.rubberband_canvas = undefined;\n",
       "    this.rubberband_context = undefined;\n",
       "    this.format_dropdown = undefined;\n",
       "\n",
       "    this.image_mode = 'full';\n",
       "\n",
       "    this.root = document.createElement('div');\n",
       "    this.root.setAttribute('style', 'display: inline-block');\n",
       "    this._root_extra_style(this.root);\n",
       "\n",
       "    parent_element.appendChild(this.root);\n",
       "\n",
       "    this._init_header(this);\n",
       "    this._init_canvas(this);\n",
       "    this._init_toolbar(this);\n",
       "\n",
       "    var fig = this;\n",
       "\n",
       "    this.waiting = false;\n",
       "\n",
       "    this.ws.onopen = function () {\n",
       "        fig.send_message('supports_binary', { value: fig.supports_binary });\n",
       "        fig.send_message('send_image_mode', {});\n",
       "        if (fig.ratio !== 1) {\n",
       "            fig.send_message('set_device_pixel_ratio', {\n",
       "                device_pixel_ratio: fig.ratio,\n",
       "            });\n",
       "        }\n",
       "        fig.send_message('refresh', {});\n",
       "    };\n",
       "\n",
       "    this.imageObj.onload = function () {\n",
       "        if (fig.image_mode === 'full') {\n",
       "            // Full images could contain transparency (where diff images\n",
       "            // almost always do), so we need to clear the canvas so that\n",
       "            // there is no ghosting.\n",
       "            fig.context.clearRect(0, 0, fig.canvas.width, fig.canvas.height);\n",
       "        }\n",
       "        fig.context.drawImage(fig.imageObj, 0, 0);\n",
       "    };\n",
       "\n",
       "    this.imageObj.onunload = function () {\n",
       "        fig.ws.close();\n",
       "    };\n",
       "\n",
       "    this.ws.onmessage = this._make_on_message_function(this);\n",
       "\n",
       "    this.ondownload = ondownload;\n",
       "};\n",
       "\n",
       "mpl.figure.prototype._init_header = function () {\n",
       "    var titlebar = document.createElement('div');\n",
       "    titlebar.classList =\n",
       "        'ui-dialog-titlebar ui-widget-header ui-corner-all ui-helper-clearfix';\n",
       "    var titletext = document.createElement('div');\n",
       "    titletext.classList = 'ui-dialog-title';\n",
       "    titletext.setAttribute(\n",
       "        'style',\n",
       "        'width: 100%; text-align: center; padding: 3px;'\n",
       "    );\n",
       "    titlebar.appendChild(titletext);\n",
       "    this.root.appendChild(titlebar);\n",
       "    this.header = titletext;\n",
       "};\n",
       "\n",
       "mpl.figure.prototype._canvas_extra_style = function (_canvas_div) {};\n",
       "\n",
       "mpl.figure.prototype._root_extra_style = function (_canvas_div) {};\n",
       "\n",
       "mpl.figure.prototype._init_canvas = function () {\n",
       "    var fig = this;\n",
       "\n",
       "    var canvas_div = (this.canvas_div = document.createElement('div'));\n",
       "    canvas_div.setAttribute(\n",
       "        'style',\n",
       "        'border: 1px solid #ddd;' +\n",
       "            'box-sizing: content-box;' +\n",
       "            'clear: both;' +\n",
       "            'min-height: 1px;' +\n",
       "            'min-width: 1px;' +\n",
       "            'outline: 0;' +\n",
       "            'overflow: hidden;' +\n",
       "            'position: relative;' +\n",
       "            'resize: both;'\n",
       "    );\n",
       "\n",
       "    function on_keyboard_event_closure(name) {\n",
       "        return function (event) {\n",
       "            return fig.key_event(event, name);\n",
       "        };\n",
       "    }\n",
       "\n",
       "    canvas_div.addEventListener(\n",
       "        'keydown',\n",
       "        on_keyboard_event_closure('key_press')\n",
       "    );\n",
       "    canvas_div.addEventListener(\n",
       "        'keyup',\n",
       "        on_keyboard_event_closure('key_release')\n",
       "    );\n",
       "\n",
       "    this._canvas_extra_style(canvas_div);\n",
       "    this.root.appendChild(canvas_div);\n",
       "\n",
       "    var canvas = (this.canvas = document.createElement('canvas'));\n",
       "    canvas.classList.add('mpl-canvas');\n",
       "    canvas.setAttribute('style', 'box-sizing: content-box;');\n",
       "\n",
       "    this.context = canvas.getContext('2d');\n",
       "\n",
       "    var backingStore =\n",
       "        this.context.backingStorePixelRatio ||\n",
       "        this.context.webkitBackingStorePixelRatio ||\n",
       "        this.context.mozBackingStorePixelRatio ||\n",
       "        this.context.msBackingStorePixelRatio ||\n",
       "        this.context.oBackingStorePixelRatio ||\n",
       "        this.context.backingStorePixelRatio ||\n",
       "        1;\n",
       "\n",
       "    this.ratio = (window.devicePixelRatio || 1) / backingStore;\n",
       "\n",
       "    var rubberband_canvas = (this.rubberband_canvas = document.createElement(\n",
       "        'canvas'\n",
       "    ));\n",
       "    rubberband_canvas.setAttribute(\n",
       "        'style',\n",
       "        'box-sizing: content-box; position: absolute; left: 0; top: 0; z-index: 1;'\n",
       "    );\n",
       "\n",
       "    // Apply a ponyfill if ResizeObserver is not implemented by browser.\n",
       "    if (this.ResizeObserver === undefined) {\n",
       "        if (window.ResizeObserver !== undefined) {\n",
       "            this.ResizeObserver = window.ResizeObserver;\n",
       "        } else {\n",
       "            var obs = _JSXTOOLS_RESIZE_OBSERVER({});\n",
       "            this.ResizeObserver = obs.ResizeObserver;\n",
       "        }\n",
       "    }\n",
       "\n",
       "    this.resizeObserverInstance = new this.ResizeObserver(function (entries) {\n",
       "        var nentries = entries.length;\n",
       "        for (var i = 0; i < nentries; i++) {\n",
       "            var entry = entries[i];\n",
       "            var width, height;\n",
       "            if (entry.contentBoxSize) {\n",
       "                if (entry.contentBoxSize instanceof Array) {\n",
       "                    // Chrome 84 implements new version of spec.\n",
       "                    width = entry.contentBoxSize[0].inlineSize;\n",
       "                    height = entry.contentBoxSize[0].blockSize;\n",
       "                } else {\n",
       "                    // Firefox implements old version of spec.\n",
       "                    width = entry.contentBoxSize.inlineSize;\n",
       "                    height = entry.contentBoxSize.blockSize;\n",
       "                }\n",
       "            } else {\n",
       "                // Chrome <84 implements even older version of spec.\n",
       "                width = entry.contentRect.width;\n",
       "                height = entry.contentRect.height;\n",
       "            }\n",
       "\n",
       "            // Keep the size of the canvas and rubber band canvas in sync with\n",
       "            // the canvas container.\n",
       "            if (entry.devicePixelContentBoxSize) {\n",
       "                // Chrome 84 implements new version of spec.\n",
       "                canvas.setAttribute(\n",
       "                    'width',\n",
       "                    entry.devicePixelContentBoxSize[0].inlineSize\n",
       "                );\n",
       "                canvas.setAttribute(\n",
       "                    'height',\n",
       "                    entry.devicePixelContentBoxSize[0].blockSize\n",
       "                );\n",
       "            } else {\n",
       "                canvas.setAttribute('width', width * fig.ratio);\n",
       "                canvas.setAttribute('height', height * fig.ratio);\n",
       "            }\n",
       "            canvas.setAttribute(\n",
       "                'style',\n",
       "                'width: ' + width + 'px; height: ' + height + 'px;'\n",
       "            );\n",
       "\n",
       "            rubberband_canvas.setAttribute('width', width);\n",
       "            rubberband_canvas.setAttribute('height', height);\n",
       "\n",
       "            // And update the size in Python. We ignore the initial 0/0 size\n",
       "            // that occurs as the element is placed into the DOM, which should\n",
       "            // otherwise not happen due to the minimum size styling.\n",
       "            if (fig.ws.readyState == 1 && width != 0 && height != 0) {\n",
       "                fig.request_resize(width, height);\n",
       "            }\n",
       "        }\n",
       "    });\n",
       "    this.resizeObserverInstance.observe(canvas_div);\n",
       "\n",
       "    function on_mouse_event_closure(name) {\n",
       "        return function (event) {\n",
       "            return fig.mouse_event(event, name);\n",
       "        };\n",
       "    }\n",
       "\n",
       "    rubberband_canvas.addEventListener(\n",
       "        'mousedown',\n",
       "        on_mouse_event_closure('button_press')\n",
       "    );\n",
       "    rubberband_canvas.addEventListener(\n",
       "        'mouseup',\n",
       "        on_mouse_event_closure('button_release')\n",
       "    );\n",
       "    rubberband_canvas.addEventListener(\n",
       "        'dblclick',\n",
       "        on_mouse_event_closure('dblclick')\n",
       "    );\n",
       "    // Throttle sequential mouse events to 1 every 20ms.\n",
       "    rubberband_canvas.addEventListener(\n",
       "        'mousemove',\n",
       "        on_mouse_event_closure('motion_notify')\n",
       "    );\n",
       "\n",
       "    rubberband_canvas.addEventListener(\n",
       "        'mouseenter',\n",
       "        on_mouse_event_closure('figure_enter')\n",
       "    );\n",
       "    rubberband_canvas.addEventListener(\n",
       "        'mouseleave',\n",
       "        on_mouse_event_closure('figure_leave')\n",
       "    );\n",
       "\n",
       "    canvas_div.addEventListener('wheel', function (event) {\n",
       "        if (event.deltaY < 0) {\n",
       "            event.step = 1;\n",
       "        } else {\n",
       "            event.step = -1;\n",
       "        }\n",
       "        on_mouse_event_closure('scroll')(event);\n",
       "    });\n",
       "\n",
       "    canvas_div.appendChild(canvas);\n",
       "    canvas_div.appendChild(rubberband_canvas);\n",
       "\n",
       "    this.rubberband_context = rubberband_canvas.getContext('2d');\n",
       "    this.rubberband_context.strokeStyle = '#000000';\n",
       "\n",
       "    this._resize_canvas = function (width, height, forward) {\n",
       "        if (forward) {\n",
       "            canvas_div.style.width = width + 'px';\n",
       "            canvas_div.style.height = height + 'px';\n",
       "        }\n",
       "    };\n",
       "\n",
       "    // Disable right mouse context menu.\n",
       "    this.rubberband_canvas.addEventListener('contextmenu', function (_e) {\n",
       "        event.preventDefault();\n",
       "        return false;\n",
       "    });\n",
       "\n",
       "    function set_focus() {\n",
       "        canvas.focus();\n",
       "        canvas_div.focus();\n",
       "    }\n",
       "\n",
       "    window.setTimeout(set_focus, 100);\n",
       "};\n",
       "\n",
       "mpl.figure.prototype._init_toolbar = function () {\n",
       "    var fig = this;\n",
       "\n",
       "    var toolbar = document.createElement('div');\n",
       "    toolbar.classList = 'mpl-toolbar';\n",
       "    this.root.appendChild(toolbar);\n",
       "\n",
       "    function on_click_closure(name) {\n",
       "        return function (_event) {\n",
       "            return fig.toolbar_button_onclick(name);\n",
       "        };\n",
       "    }\n",
       "\n",
       "    function on_mouseover_closure(tooltip) {\n",
       "        return function (event) {\n",
       "            if (!event.currentTarget.disabled) {\n",
       "                return fig.toolbar_button_onmouseover(tooltip);\n",
       "            }\n",
       "        };\n",
       "    }\n",
       "\n",
       "    fig.buttons = {};\n",
       "    var buttonGroup = document.createElement('div');\n",
       "    buttonGroup.classList = 'mpl-button-group';\n",
       "    for (var toolbar_ind in mpl.toolbar_items) {\n",
       "        var name = mpl.toolbar_items[toolbar_ind][0];\n",
       "        var tooltip = mpl.toolbar_items[toolbar_ind][1];\n",
       "        var image = mpl.toolbar_items[toolbar_ind][2];\n",
       "        var method_name = mpl.toolbar_items[toolbar_ind][3];\n",
       "\n",
       "        if (!name) {\n",
       "            /* Instead of a spacer, we start a new button group. */\n",
       "            if (buttonGroup.hasChildNodes()) {\n",
       "                toolbar.appendChild(buttonGroup);\n",
       "            }\n",
       "            buttonGroup = document.createElement('div');\n",
       "            buttonGroup.classList = 'mpl-button-group';\n",
       "            continue;\n",
       "        }\n",
       "\n",
       "        var button = (fig.buttons[name] = document.createElement('button'));\n",
       "        button.classList = 'mpl-widget';\n",
       "        button.setAttribute('role', 'button');\n",
       "        button.setAttribute('aria-disabled', 'false');\n",
       "        button.addEventListener('click', on_click_closure(method_name));\n",
       "        button.addEventListener('mouseover', on_mouseover_closure(tooltip));\n",
       "\n",
       "        var icon_img = document.createElement('img');\n",
       "        icon_img.src = '_images/' + image + '.png';\n",
       "        icon_img.srcset = '_images/' + image + '_large.png 2x';\n",
       "        icon_img.alt = tooltip;\n",
       "        button.appendChild(icon_img);\n",
       "\n",
       "        buttonGroup.appendChild(button);\n",
       "    }\n",
       "\n",
       "    if (buttonGroup.hasChildNodes()) {\n",
       "        toolbar.appendChild(buttonGroup);\n",
       "    }\n",
       "\n",
       "    var fmt_picker = document.createElement('select');\n",
       "    fmt_picker.classList = 'mpl-widget';\n",
       "    toolbar.appendChild(fmt_picker);\n",
       "    this.format_dropdown = fmt_picker;\n",
       "\n",
       "    for (var ind in mpl.extensions) {\n",
       "        var fmt = mpl.extensions[ind];\n",
       "        var option = document.createElement('option');\n",
       "        option.selected = fmt === mpl.default_extension;\n",
       "        option.innerHTML = fmt;\n",
       "        fmt_picker.appendChild(option);\n",
       "    }\n",
       "\n",
       "    var status_bar = document.createElement('span');\n",
       "    status_bar.classList = 'mpl-message';\n",
       "    toolbar.appendChild(status_bar);\n",
       "    this.message = status_bar;\n",
       "};\n",
       "\n",
       "mpl.figure.prototype.request_resize = function (x_pixels, y_pixels) {\n",
       "    // Request matplotlib to resize the figure. Matplotlib will then trigger a resize in the client,\n",
       "    // which will in turn request a refresh of the image.\n",
       "    this.send_message('resize', { width: x_pixels, height: y_pixels });\n",
       "};\n",
       "\n",
       "mpl.figure.prototype.send_message = function (type, properties) {\n",
       "    properties['type'] = type;\n",
       "    properties['figure_id'] = this.id;\n",
       "    this.ws.send(JSON.stringify(properties));\n",
       "};\n",
       "\n",
       "mpl.figure.prototype.send_draw_message = function () {\n",
       "    if (!this.waiting) {\n",
       "        this.waiting = true;\n",
       "        this.ws.send(JSON.stringify({ type: 'draw', figure_id: this.id }));\n",
       "    }\n",
       "};\n",
       "\n",
       "mpl.figure.prototype.handle_save = function (fig, _msg) {\n",
       "    var format_dropdown = fig.format_dropdown;\n",
       "    var format = format_dropdown.options[format_dropdown.selectedIndex].value;\n",
       "    fig.ondownload(fig, format);\n",
       "};\n",
       "\n",
       "mpl.figure.prototype.handle_resize = function (fig, msg) {\n",
       "    var size = msg['size'];\n",
       "    if (size[0] !== fig.canvas.width || size[1] !== fig.canvas.height) {\n",
       "        fig._resize_canvas(size[0], size[1], msg['forward']);\n",
       "        fig.send_message('refresh', {});\n",
       "    }\n",
       "};\n",
       "\n",
       "mpl.figure.prototype.handle_rubberband = function (fig, msg) {\n",
       "    var x0 = msg['x0'] / fig.ratio;\n",
       "    var y0 = (fig.canvas.height - msg['y0']) / fig.ratio;\n",
       "    var x1 = msg['x1'] / fig.ratio;\n",
       "    var y1 = (fig.canvas.height - msg['y1']) / fig.ratio;\n",
       "    x0 = Math.floor(x0) + 0.5;\n",
       "    y0 = Math.floor(y0) + 0.5;\n",
       "    x1 = Math.floor(x1) + 0.5;\n",
       "    y1 = Math.floor(y1) + 0.5;\n",
       "    var min_x = Math.min(x0, x1);\n",
       "    var min_y = Math.min(y0, y1);\n",
       "    var width = Math.abs(x1 - x0);\n",
       "    var height = Math.abs(y1 - y0);\n",
       "\n",
       "    fig.rubberband_context.clearRect(\n",
       "        0,\n",
       "        0,\n",
       "        fig.canvas.width / fig.ratio,\n",
       "        fig.canvas.height / fig.ratio\n",
       "    );\n",
       "\n",
       "    fig.rubberband_context.strokeRect(min_x, min_y, width, height);\n",
       "};\n",
       "\n",
       "mpl.figure.prototype.handle_figure_label = function (fig, msg) {\n",
       "    // Updates the figure title.\n",
       "    fig.header.textContent = msg['label'];\n",
       "};\n",
       "\n",
       "mpl.figure.prototype.handle_cursor = function (fig, msg) {\n",
       "    fig.rubberband_canvas.style.cursor = msg['cursor'];\n",
       "};\n",
       "\n",
       "mpl.figure.prototype.handle_message = function (fig, msg) {\n",
       "    fig.message.textContent = msg['message'];\n",
       "};\n",
       "\n",
       "mpl.figure.prototype.handle_draw = function (fig, _msg) {\n",
       "    // Request the server to send over a new figure.\n",
       "    fig.send_draw_message();\n",
       "};\n",
       "\n",
       "mpl.figure.prototype.handle_image_mode = function (fig, msg) {\n",
       "    fig.image_mode = msg['mode'];\n",
       "};\n",
       "\n",
       "mpl.figure.prototype.handle_history_buttons = function (fig, msg) {\n",
       "    for (var key in msg) {\n",
       "        if (!(key in fig.buttons)) {\n",
       "            continue;\n",
       "        }\n",
       "        fig.buttons[key].disabled = !msg[key];\n",
       "        fig.buttons[key].setAttribute('aria-disabled', !msg[key]);\n",
       "    }\n",
       "};\n",
       "\n",
       "mpl.figure.prototype.handle_navigate_mode = function (fig, msg) {\n",
       "    if (msg['mode'] === 'PAN') {\n",
       "        fig.buttons['Pan'].classList.add('active');\n",
       "        fig.buttons['Zoom'].classList.remove('active');\n",
       "    } else if (msg['mode'] === 'ZOOM') {\n",
       "        fig.buttons['Pan'].classList.remove('active');\n",
       "        fig.buttons['Zoom'].classList.add('active');\n",
       "    } else {\n",
       "        fig.buttons['Pan'].classList.remove('active');\n",
       "        fig.buttons['Zoom'].classList.remove('active');\n",
       "    }\n",
       "};\n",
       "\n",
       "mpl.figure.prototype.updated_canvas_event = function () {\n",
       "    // Called whenever the canvas gets updated.\n",
       "    this.send_message('ack', {});\n",
       "};\n",
       "\n",
       "// A function to construct a web socket function for onmessage handling.\n",
       "// Called in the figure constructor.\n",
       "mpl.figure.prototype._make_on_message_function = function (fig) {\n",
       "    return function socket_on_message(evt) {\n",
       "        if (evt.data instanceof Blob) {\n",
       "            var img = evt.data;\n",
       "            if (img.type !== 'image/png') {\n",
       "                /* FIXME: We get \"Resource interpreted as Image but\n",
       "                 * transferred with MIME type text/plain:\" errors on\n",
       "                 * Chrome.  But how to set the MIME type?  It doesn't seem\n",
       "                 * to be part of the websocket stream */\n",
       "                img.type = 'image/png';\n",
       "            }\n",
       "\n",
       "            /* Free the memory for the previous frames */\n",
       "            if (fig.imageObj.src) {\n",
       "                (window.URL || window.webkitURL).revokeObjectURL(\n",
       "                    fig.imageObj.src\n",
       "                );\n",
       "            }\n",
       "\n",
       "            fig.imageObj.src = (window.URL || window.webkitURL).createObjectURL(\n",
       "                img\n",
       "            );\n",
       "            fig.updated_canvas_event();\n",
       "            fig.waiting = false;\n",
       "            return;\n",
       "        } else if (\n",
       "            typeof evt.data === 'string' &&\n",
       "            evt.data.slice(0, 21) === 'data:image/png;base64'\n",
       "        ) {\n",
       "            fig.imageObj.src = evt.data;\n",
       "            fig.updated_canvas_event();\n",
       "            fig.waiting = false;\n",
       "            return;\n",
       "        }\n",
       "\n",
       "        var msg = JSON.parse(evt.data);\n",
       "        var msg_type = msg['type'];\n",
       "\n",
       "        // Call the  \"handle_{type}\" callback, which takes\n",
       "        // the figure and JSON message as its only arguments.\n",
       "        try {\n",
       "            var callback = fig['handle_' + msg_type];\n",
       "        } catch (e) {\n",
       "            console.log(\n",
       "                \"No handler for the '\" + msg_type + \"' message type: \",\n",
       "                msg\n",
       "            );\n",
       "            return;\n",
       "        }\n",
       "\n",
       "        if (callback) {\n",
       "            try {\n",
       "                // console.log(\"Handling '\" + msg_type + \"' message: \", msg);\n",
       "                callback(fig, msg);\n",
       "            } catch (e) {\n",
       "                console.log(\n",
       "                    \"Exception inside the 'handler_\" + msg_type + \"' callback:\",\n",
       "                    e,\n",
       "                    e.stack,\n",
       "                    msg\n",
       "                );\n",
       "            }\n",
       "        }\n",
       "    };\n",
       "};\n",
       "\n",
       "// from https://stackoverflow.com/questions/1114465/getting-mouse-location-in-canvas\n",
       "mpl.findpos = function (e) {\n",
       "    //this section is from http://www.quirksmode.org/js/events_properties.html\n",
       "    var targ;\n",
       "    if (!e) {\n",
       "        e = window.event;\n",
       "    }\n",
       "    if (e.target) {\n",
       "        targ = e.target;\n",
       "    } else if (e.srcElement) {\n",
       "        targ = e.srcElement;\n",
       "    }\n",
       "    if (targ.nodeType === 3) {\n",
       "        // defeat Safari bug\n",
       "        targ = targ.parentNode;\n",
       "    }\n",
       "\n",
       "    // pageX,Y are the mouse positions relative to the document\n",
       "    var boundingRect = targ.getBoundingClientRect();\n",
       "    var x = e.pageX - (boundingRect.left + document.body.scrollLeft);\n",
       "    var y = e.pageY - (boundingRect.top + document.body.scrollTop);\n",
       "\n",
       "    return { x: x, y: y };\n",
       "};\n",
       "\n",
       "/*\n",
       " * return a copy of an object with only non-object keys\n",
       " * we need this to avoid circular references\n",
       " * https://stackoverflow.com/a/24161582/3208463\n",
       " */\n",
       "function simpleKeys(original) {\n",
       "    return Object.keys(original).reduce(function (obj, key) {\n",
       "        if (typeof original[key] !== 'object') {\n",
       "            obj[key] = original[key];\n",
       "        }\n",
       "        return obj;\n",
       "    }, {});\n",
       "}\n",
       "\n",
       "mpl.figure.prototype.mouse_event = function (event, name) {\n",
       "    var canvas_pos = mpl.findpos(event);\n",
       "\n",
       "    if (name === 'button_press') {\n",
       "        this.canvas.focus();\n",
       "        this.canvas_div.focus();\n",
       "    }\n",
       "\n",
       "    var x = canvas_pos.x * this.ratio;\n",
       "    var y = canvas_pos.y * this.ratio;\n",
       "\n",
       "    this.send_message(name, {\n",
       "        x: x,\n",
       "        y: y,\n",
       "        button: event.button,\n",
       "        step: event.step,\n",
       "        guiEvent: simpleKeys(event),\n",
       "    });\n",
       "\n",
       "    /* This prevents the web browser from automatically changing to\n",
       "     * the text insertion cursor when the button is pressed.  We want\n",
       "     * to control all of the cursor setting manually through the\n",
       "     * 'cursor' event from matplotlib */\n",
       "    event.preventDefault();\n",
       "    return false;\n",
       "};\n",
       "\n",
       "mpl.figure.prototype._key_event_extra = function (_event, _name) {\n",
       "    // Handle any extra behaviour associated with a key event\n",
       "};\n",
       "\n",
       "mpl.figure.prototype.key_event = function (event, name) {\n",
       "    // Prevent repeat events\n",
       "    if (name === 'key_press') {\n",
       "        if (event.key === this._key) {\n",
       "            return;\n",
       "        } else {\n",
       "            this._key = event.key;\n",
       "        }\n",
       "    }\n",
       "    if (name === 'key_release') {\n",
       "        this._key = null;\n",
       "    }\n",
       "\n",
       "    var value = '';\n",
       "    if (event.ctrlKey && event.key !== 'Control') {\n",
       "        value += 'ctrl+';\n",
       "    }\n",
       "    else if (event.altKey && event.key !== 'Alt') {\n",
       "        value += 'alt+';\n",
       "    }\n",
       "    else if (event.shiftKey && event.key !== 'Shift') {\n",
       "        value += 'shift+';\n",
       "    }\n",
       "\n",
       "    value += 'k' + event.key;\n",
       "\n",
       "    this._key_event_extra(event, name);\n",
       "\n",
       "    this.send_message(name, { key: value, guiEvent: simpleKeys(event) });\n",
       "    return false;\n",
       "};\n",
       "\n",
       "mpl.figure.prototype.toolbar_button_onclick = function (name) {\n",
       "    if (name === 'download') {\n",
       "        this.handle_save(this, null);\n",
       "    } else {\n",
       "        this.send_message('toolbar_button', { name: name });\n",
       "    }\n",
       "};\n",
       "\n",
       "mpl.figure.prototype.toolbar_button_onmouseover = function (tooltip) {\n",
       "    this.message.textContent = tooltip;\n",
       "};\n",
       "\n",
       "///////////////// REMAINING CONTENT GENERATED BY embed_js.py /////////////////\n",
       "// prettier-ignore\n",
       "var _JSXTOOLS_RESIZE_OBSERVER=function(A){var t,i=new WeakMap,n=new WeakMap,a=new WeakMap,r=new WeakMap,o=new Set;function s(e){if(!(this instanceof s))throw new TypeError(\"Constructor requires 'new' operator\");i.set(this,e)}function h(){throw new TypeError(\"Function is not a constructor\")}function c(e,t,i,n){e=0 in arguments?Number(arguments[0]):0,t=1 in arguments?Number(arguments[1]):0,i=2 in arguments?Number(arguments[2]):0,n=3 in arguments?Number(arguments[3]):0,this.right=(this.x=this.left=e)+(this.width=i),this.bottom=(this.y=this.top=t)+(this.height=n),Object.freeze(this)}function d(){t=requestAnimationFrame(d);var s=new WeakMap,p=new Set;o.forEach((function(t){r.get(t).forEach((function(i){var r=t instanceof window.SVGElement,o=a.get(t),d=r?0:parseFloat(o.paddingTop),f=r?0:parseFloat(o.paddingRight),l=r?0:parseFloat(o.paddingBottom),u=r?0:parseFloat(o.paddingLeft),g=r?0:parseFloat(o.borderTopWidth),m=r?0:parseFloat(o.borderRightWidth),w=r?0:parseFloat(o.borderBottomWidth),b=u+f,F=d+l,v=(r?0:parseFloat(o.borderLeftWidth))+m,W=g+w,y=r?0:t.offsetHeight-W-t.clientHeight,E=r?0:t.offsetWidth-v-t.clientWidth,R=b+v,z=F+W,M=r?t.width:parseFloat(o.width)-R-E,O=r?t.height:parseFloat(o.height)-z-y;if(n.has(t)){var k=n.get(t);if(k[0]===M&&k[1]===O)return}n.set(t,[M,O]);var S=Object.create(h.prototype);S.target=t,S.contentRect=new c(u,d,M,O),s.has(i)||(s.set(i,[]),p.add(i)),s.get(i).push(S)}))})),p.forEach((function(e){i.get(e).call(e,s.get(e),e)}))}return s.prototype.observe=function(i){if(i instanceof window.Element){r.has(i)||(r.set(i,new Set),o.add(i),a.set(i,window.getComputedStyle(i)));var n=r.get(i);n.has(this)||n.add(this),cancelAnimationFrame(t),t=requestAnimationFrame(d)}},s.prototype.unobserve=function(i){if(i instanceof window.Element&&r.has(i)){var n=r.get(i);n.has(this)&&(n.delete(this),n.size||(r.delete(i),o.delete(i))),n.size||r.delete(i),o.size||cancelAnimationFrame(t)}},A.DOMRectReadOnly=c,A.ResizeObserver=s,A.ResizeObserverEntry=h,A}; // eslint-disable-line\n",
       "mpl.toolbar_items = [[\"Home\", \"Reset original view\", \"fa fa-home icon-home\", \"home\"], [\"Back\", \"Back to previous view\", \"fa fa-arrow-left icon-arrow-left\", \"back\"], [\"Forward\", \"Forward to next view\", \"fa fa-arrow-right icon-arrow-right\", \"forward\"], [\"\", \"\", \"\", \"\"], [\"Pan\", \"Left button pans, Right button zooms\\nx/y fixes axis, CTRL fixes aspect\", \"fa fa-arrows icon-move\", \"pan\"], [\"Zoom\", \"Zoom to rectangle\\nx/y fixes axis\", \"fa fa-square-o icon-check-empty\", \"zoom\"], [\"\", \"\", \"\", \"\"], [\"Download\", \"Download plot\", \"fa fa-floppy-o icon-save\", \"download\"]];\n",
       "\n",
       "mpl.extensions = [\"eps\", \"jpeg\", \"pgf\", \"pdf\", \"png\", \"ps\", \"raw\", \"svg\", \"tif\"];\n",
       "\n",
       "mpl.default_extension = \"png\";/* global mpl */\n",
       "\n",
       "var comm_websocket_adapter = function (comm) {\n",
       "    // Create a \"websocket\"-like object which calls the given IPython comm\n",
       "    // object with the appropriate methods. Currently this is a non binary\n",
       "    // socket, so there is still some room for performance tuning.\n",
       "    var ws = {};\n",
       "\n",
       "    ws.binaryType = comm.kernel.ws.binaryType;\n",
       "    ws.readyState = comm.kernel.ws.readyState;\n",
       "    function updateReadyState(_event) {\n",
       "        if (comm.kernel.ws) {\n",
       "            ws.readyState = comm.kernel.ws.readyState;\n",
       "        } else {\n",
       "            ws.readyState = 3; // Closed state.\n",
       "        }\n",
       "    }\n",
       "    comm.kernel.ws.addEventListener('open', updateReadyState);\n",
       "    comm.kernel.ws.addEventListener('close', updateReadyState);\n",
       "    comm.kernel.ws.addEventListener('error', updateReadyState);\n",
       "\n",
       "    ws.close = function () {\n",
       "        comm.close();\n",
       "    };\n",
       "    ws.send = function (m) {\n",
       "        //console.log('sending', m);\n",
       "        comm.send(m);\n",
       "    };\n",
       "    // Register the callback with on_msg.\n",
       "    comm.on_msg(function (msg) {\n",
       "        //console.log('receiving', msg['content']['data'], msg);\n",
       "        var data = msg['content']['data'];\n",
       "        if (data['blob'] !== undefined) {\n",
       "            data = {\n",
       "                data: new Blob(msg['buffers'], { type: data['blob'] }),\n",
       "            };\n",
       "        }\n",
       "        // Pass the mpl event to the overridden (by mpl) onmessage function.\n",
       "        ws.onmessage(data);\n",
       "    });\n",
       "    return ws;\n",
       "};\n",
       "\n",
       "mpl.mpl_figure_comm = function (comm, msg) {\n",
       "    // This is the function which gets called when the mpl process\n",
       "    // starts-up an IPython Comm through the \"matplotlib\" channel.\n",
       "\n",
       "    var id = msg.content.data.id;\n",
       "    // Get hold of the div created by the display call when the Comm\n",
       "    // socket was opened in Python.\n",
       "    var element = document.getElementById(id);\n",
       "    var ws_proxy = comm_websocket_adapter(comm);\n",
       "\n",
       "    function ondownload(figure, _format) {\n",
       "        window.open(figure.canvas.toDataURL());\n",
       "    }\n",
       "\n",
       "    var fig = new mpl.figure(id, ws_proxy, ondownload, element);\n",
       "\n",
       "    // Call onopen now - mpl needs it, as it is assuming we've passed it a real\n",
       "    // web socket which is closed, not our websocket->open comm proxy.\n",
       "    ws_proxy.onopen();\n",
       "\n",
       "    fig.parent_element = element;\n",
       "    fig.cell_info = mpl.find_output_cell(\"<div id='\" + id + \"'></div>\");\n",
       "    if (!fig.cell_info) {\n",
       "        console.error('Failed to find cell for figure', id, fig);\n",
       "        return;\n",
       "    }\n",
       "    fig.cell_info[0].output_area.element.on(\n",
       "        'cleared',\n",
       "        { fig: fig },\n",
       "        fig._remove_fig_handler\n",
       "    );\n",
       "};\n",
       "\n",
       "mpl.figure.prototype.handle_close = function (fig, msg) {\n",
       "    var width = fig.canvas.width / fig.ratio;\n",
       "    fig.cell_info[0].output_area.element.off(\n",
       "        'cleared',\n",
       "        fig._remove_fig_handler\n",
       "    );\n",
       "    fig.resizeObserverInstance.unobserve(fig.canvas_div);\n",
       "\n",
       "    // Update the output cell to use the data from the current canvas.\n",
       "    fig.push_to_output();\n",
       "    var dataURL = fig.canvas.toDataURL();\n",
       "    // Re-enable the keyboard manager in IPython - without this line, in FF,\n",
       "    // the notebook keyboard shortcuts fail.\n",
       "    IPython.keyboard_manager.enable();\n",
       "    fig.parent_element.innerHTML =\n",
       "        '<img src=\"' + dataURL + '\" width=\"' + width + '\">';\n",
       "    fig.close_ws(fig, msg);\n",
       "};\n",
       "\n",
       "mpl.figure.prototype.close_ws = function (fig, msg) {\n",
       "    fig.send_message('closing', msg);\n",
       "    // fig.ws.close()\n",
       "};\n",
       "\n",
       "mpl.figure.prototype.push_to_output = function (_remove_interactive) {\n",
       "    // Turn the data on the canvas into data in the output cell.\n",
       "    var width = this.canvas.width / this.ratio;\n",
       "    var dataURL = this.canvas.toDataURL();\n",
       "    this.cell_info[1]['text/html'] =\n",
       "        '<img src=\"' + dataURL + '\" width=\"' + width + '\">';\n",
       "};\n",
       "\n",
       "mpl.figure.prototype.updated_canvas_event = function () {\n",
       "    // Tell IPython that the notebook contents must change.\n",
       "    IPython.notebook.set_dirty(true);\n",
       "    this.send_message('ack', {});\n",
       "    var fig = this;\n",
       "    // Wait a second, then push the new image to the DOM so\n",
       "    // that it is saved nicely (might be nice to debounce this).\n",
       "    setTimeout(function () {\n",
       "        fig.push_to_output();\n",
       "    }, 1000);\n",
       "};\n",
       "\n",
       "mpl.figure.prototype._init_toolbar = function () {\n",
       "    var fig = this;\n",
       "\n",
       "    var toolbar = document.createElement('div');\n",
       "    toolbar.classList = 'btn-toolbar';\n",
       "    this.root.appendChild(toolbar);\n",
       "\n",
       "    function on_click_closure(name) {\n",
       "        return function (_event) {\n",
       "            return fig.toolbar_button_onclick(name);\n",
       "        };\n",
       "    }\n",
       "\n",
       "    function on_mouseover_closure(tooltip) {\n",
       "        return function (event) {\n",
       "            if (!event.currentTarget.disabled) {\n",
       "                return fig.toolbar_button_onmouseover(tooltip);\n",
       "            }\n",
       "        };\n",
       "    }\n",
       "\n",
       "    fig.buttons = {};\n",
       "    var buttonGroup = document.createElement('div');\n",
       "    buttonGroup.classList = 'btn-group';\n",
       "    var button;\n",
       "    for (var toolbar_ind in mpl.toolbar_items) {\n",
       "        var name = mpl.toolbar_items[toolbar_ind][0];\n",
       "        var tooltip = mpl.toolbar_items[toolbar_ind][1];\n",
       "        var image = mpl.toolbar_items[toolbar_ind][2];\n",
       "        var method_name = mpl.toolbar_items[toolbar_ind][3];\n",
       "\n",
       "        if (!name) {\n",
       "            /* Instead of a spacer, we start a new button group. */\n",
       "            if (buttonGroup.hasChildNodes()) {\n",
       "                toolbar.appendChild(buttonGroup);\n",
       "            }\n",
       "            buttonGroup = document.createElement('div');\n",
       "            buttonGroup.classList = 'btn-group';\n",
       "            continue;\n",
       "        }\n",
       "\n",
       "        button = fig.buttons[name] = document.createElement('button');\n",
       "        button.classList = 'btn btn-default';\n",
       "        button.href = '#';\n",
       "        button.title = name;\n",
       "        button.innerHTML = '<i class=\"fa ' + image + ' fa-lg\"></i>';\n",
       "        button.addEventListener('click', on_click_closure(method_name));\n",
       "        button.addEventListener('mouseover', on_mouseover_closure(tooltip));\n",
       "        buttonGroup.appendChild(button);\n",
       "    }\n",
       "\n",
       "    if (buttonGroup.hasChildNodes()) {\n",
       "        toolbar.appendChild(buttonGroup);\n",
       "    }\n",
       "\n",
       "    // Add the status bar.\n",
       "    var status_bar = document.createElement('span');\n",
       "    status_bar.classList = 'mpl-message pull-right';\n",
       "    toolbar.appendChild(status_bar);\n",
       "    this.message = status_bar;\n",
       "\n",
       "    // Add the close button to the window.\n",
       "    var buttongrp = document.createElement('div');\n",
       "    buttongrp.classList = 'btn-group inline pull-right';\n",
       "    button = document.createElement('button');\n",
       "    button.classList = 'btn btn-mini btn-primary';\n",
       "    button.href = '#';\n",
       "    button.title = 'Stop Interaction';\n",
       "    button.innerHTML = '<i class=\"fa fa-power-off icon-remove icon-large\"></i>';\n",
       "    button.addEventListener('click', function (_evt) {\n",
       "        fig.handle_close(fig, {});\n",
       "    });\n",
       "    button.addEventListener(\n",
       "        'mouseover',\n",
       "        on_mouseover_closure('Stop Interaction')\n",
       "    );\n",
       "    buttongrp.appendChild(button);\n",
       "    var titlebar = this.root.querySelector('.ui-dialog-titlebar');\n",
       "    titlebar.insertBefore(buttongrp, titlebar.firstChild);\n",
       "};\n",
       "\n",
       "mpl.figure.prototype._remove_fig_handler = function (event) {\n",
       "    var fig = event.data.fig;\n",
       "    if (event.target !== this) {\n",
       "        // Ignore bubbled events from children.\n",
       "        return;\n",
       "    }\n",
       "    fig.close_ws(fig, {});\n",
       "};\n",
       "\n",
       "mpl.figure.prototype._root_extra_style = function (el) {\n",
       "    el.style.boxSizing = 'content-box'; // override notebook setting of border-box.\n",
       "};\n",
       "\n",
       "mpl.figure.prototype._canvas_extra_style = function (el) {\n",
       "    // this is important to make the div 'focusable\n",
       "    el.setAttribute('tabindex', 0);\n",
       "    // reach out to IPython and tell the keyboard manager to turn it's self\n",
       "    // off when our div gets focus\n",
       "\n",
       "    // location in version 3\n",
       "    if (IPython.notebook.keyboard_manager) {\n",
       "        IPython.notebook.keyboard_manager.register_events(el);\n",
       "    } else {\n",
       "        // location in version 2\n",
       "        IPython.keyboard_manager.register_events(el);\n",
       "    }\n",
       "};\n",
       "\n",
       "mpl.figure.prototype._key_event_extra = function (event, _name) {\n",
       "    // Check for shift+enter\n",
       "    if (event.shiftKey && event.which === 13) {\n",
       "        this.canvas_div.blur();\n",
       "        // select the cell after this one\n",
       "        var index = IPython.notebook.find_cell_index(this.cell_info[0]);\n",
       "        IPython.notebook.select(index + 1);\n",
       "    }\n",
       "};\n",
       "\n",
       "mpl.figure.prototype.handle_save = function (fig, _msg) {\n",
       "    fig.ondownload(fig, null);\n",
       "};\n",
       "\n",
       "mpl.find_output_cell = function (html_output) {\n",
       "    // Return the cell and output element which can be found *uniquely* in the notebook.\n",
       "    // Note - this is a bit hacky, but it is done because the \"notebook_saving.Notebook\"\n",
       "    // IPython event is triggered only after the cells have been serialised, which for\n",
       "    // our purposes (turning an active figure into a static one), is too late.\n",
       "    var cells = IPython.notebook.get_cells();\n",
       "    var ncells = cells.length;\n",
       "    for (var i = 0; i < ncells; i++) {\n",
       "        var cell = cells[i];\n",
       "        if (cell.cell_type === 'code') {\n",
       "            for (var j = 0; j < cell.output_area.outputs.length; j++) {\n",
       "                var data = cell.output_area.outputs[j];\n",
       "                if (data.data) {\n",
       "                    // IPython >= 3 moved mimebundle to data attribute of output\n",
       "                    data = data.data;\n",
       "                }\n",
       "                if (data['text/html'] === html_output) {\n",
       "                    return [cell, data, j];\n",
       "                }\n",
       "            }\n",
       "        }\n",
       "    }\n",
       "};\n",
       "\n",
       "// Register the function which deals with the matplotlib target/channel.\n",
       "// The kernel may be null if the page has been refreshed.\n",
       "if (IPython.notebook.kernel !== null) {\n",
       "    IPython.notebook.kernel.comm_manager.register_target(\n",
       "        'matplotlib',\n",
       "        mpl.mpl_figure_comm\n",
       "    );\n",
       "}\n"
      ],
      "text/plain": [
       "<IPython.core.display.Javascript object>"
      ]
     },
     "metadata": {},
     "output_type": "display_data"
    },
    {
     "data": {
      "text/html": [
       "<img src=\"data:image/png;base64,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\" width=\"640\">"
      ],
      "text/plain": [
       "<IPython.core.display.HTML object>"
      ]
     },
     "metadata": {},
     "output_type": "display_data"
    }
   ],
   "source": [
    "%matplotlib notebook\n",
    "\n",
    "plot = Plot(points=[PointsCollection(diff(random_points_d, epsilon3, epsilon3, det_3x3, det_3x3_lib))])\n",
    "plot.draw()"
   ]
  },
  {
   "cell_type": "code",
   "execution_count": 630,
   "metadata": {},
   "outputs": [
    {
     "data": {
      "application/javascript": [
       "/* Put everything inside the global mpl namespace */\n",
       "/* global mpl */\n",
       "window.mpl = {};\n",
       "\n",
       "mpl.get_websocket_type = function () {\n",
       "    if (typeof WebSocket !== 'undefined') {\n",
       "        return WebSocket;\n",
       "    } else if (typeof MozWebSocket !== 'undefined') {\n",
       "        return MozWebSocket;\n",
       "    } else {\n",
       "        alert(\n",
       "            'Your browser does not have WebSocket support. ' +\n",
       "                'Please try Chrome, Safari or Firefox ≥ 6. ' +\n",
       "                'Firefox 4 and 5 are also supported but you ' +\n",
       "                'have to enable WebSockets in about:config.'\n",
       "        );\n",
       "    }\n",
       "};\n",
       "\n",
       "mpl.figure = function (figure_id, websocket, ondownload, parent_element) {\n",
       "    this.id = figure_id;\n",
       "\n",
       "    this.ws = websocket;\n",
       "\n",
       "    this.supports_binary = this.ws.binaryType !== undefined;\n",
       "\n",
       "    if (!this.supports_binary) {\n",
       "        var warnings = document.getElementById('mpl-warnings');\n",
       "        if (warnings) {\n",
       "            warnings.style.display = 'block';\n",
       "            warnings.textContent =\n",
       "                'This browser does not support binary websocket messages. ' +\n",
       "                'Performance may be slow.';\n",
       "        }\n",
       "    }\n",
       "\n",
       "    this.imageObj = new Image();\n",
       "\n",
       "    this.context = undefined;\n",
       "    this.message = undefined;\n",
       "    this.canvas = undefined;\n",
       "    this.rubberband_canvas = undefined;\n",
       "    this.rubberband_context = undefined;\n",
       "    this.format_dropdown = undefined;\n",
       "\n",
       "    this.image_mode = 'full';\n",
       "\n",
       "    this.root = document.createElement('div');\n",
       "    this.root.setAttribute('style', 'display: inline-block');\n",
       "    this._root_extra_style(this.root);\n",
       "\n",
       "    parent_element.appendChild(this.root);\n",
       "\n",
       "    this._init_header(this);\n",
       "    this._init_canvas(this);\n",
       "    this._init_toolbar(this);\n",
       "\n",
       "    var fig = this;\n",
       "\n",
       "    this.waiting = false;\n",
       "\n",
       "    this.ws.onopen = function () {\n",
       "        fig.send_message('supports_binary', { value: fig.supports_binary });\n",
       "        fig.send_message('send_image_mode', {});\n",
       "        if (fig.ratio !== 1) {\n",
       "            fig.send_message('set_device_pixel_ratio', {\n",
       "                device_pixel_ratio: fig.ratio,\n",
       "            });\n",
       "        }\n",
       "        fig.send_message('refresh', {});\n",
       "    };\n",
       "\n",
       "    this.imageObj.onload = function () {\n",
       "        if (fig.image_mode === 'full') {\n",
       "            // Full images could contain transparency (where diff images\n",
       "            // almost always do), so we need to clear the canvas so that\n",
       "            // there is no ghosting.\n",
       "            fig.context.clearRect(0, 0, fig.canvas.width, fig.canvas.height);\n",
       "        }\n",
       "        fig.context.drawImage(fig.imageObj, 0, 0);\n",
       "    };\n",
       "\n",
       "    this.imageObj.onunload = function () {\n",
       "        fig.ws.close();\n",
       "    };\n",
       "\n",
       "    this.ws.onmessage = this._make_on_message_function(this);\n",
       "\n",
       "    this.ondownload = ondownload;\n",
       "};\n",
       "\n",
       "mpl.figure.prototype._init_header = function () {\n",
       "    var titlebar = document.createElement('div');\n",
       "    titlebar.classList =\n",
       "        'ui-dialog-titlebar ui-widget-header ui-corner-all ui-helper-clearfix';\n",
       "    var titletext = document.createElement('div');\n",
       "    titletext.classList = 'ui-dialog-title';\n",
       "    titletext.setAttribute(\n",
       "        'style',\n",
       "        'width: 100%; text-align: center; padding: 3px;'\n",
       "    );\n",
       "    titlebar.appendChild(titletext);\n",
       "    this.root.appendChild(titlebar);\n",
       "    this.header = titletext;\n",
       "};\n",
       "\n",
       "mpl.figure.prototype._canvas_extra_style = function (_canvas_div) {};\n",
       "\n",
       "mpl.figure.prototype._root_extra_style = function (_canvas_div) {};\n",
       "\n",
       "mpl.figure.prototype._init_canvas = function () {\n",
       "    var fig = this;\n",
       "\n",
       "    var canvas_div = (this.canvas_div = document.createElement('div'));\n",
       "    canvas_div.setAttribute(\n",
       "        'style',\n",
       "        'border: 1px solid #ddd;' +\n",
       "            'box-sizing: content-box;' +\n",
       "            'clear: both;' +\n",
       "            'min-height: 1px;' +\n",
       "            'min-width: 1px;' +\n",
       "            'outline: 0;' +\n",
       "            'overflow: hidden;' +\n",
       "            'position: relative;' +\n",
       "            'resize: both;'\n",
       "    );\n",
       "\n",
       "    function on_keyboard_event_closure(name) {\n",
       "        return function (event) {\n",
       "            return fig.key_event(event, name);\n",
       "        };\n",
       "    }\n",
       "\n",
       "    canvas_div.addEventListener(\n",
       "        'keydown',\n",
       "        on_keyboard_event_closure('key_press')\n",
       "    );\n",
       "    canvas_div.addEventListener(\n",
       "        'keyup',\n",
       "        on_keyboard_event_closure('key_release')\n",
       "    );\n",
       "\n",
       "    this._canvas_extra_style(canvas_div);\n",
       "    this.root.appendChild(canvas_div);\n",
       "\n",
       "    var canvas = (this.canvas = document.createElement('canvas'));\n",
       "    canvas.classList.add('mpl-canvas');\n",
       "    canvas.setAttribute('style', 'box-sizing: content-box;');\n",
       "\n",
       "    this.context = canvas.getContext('2d');\n",
       "\n",
       "    var backingStore =\n",
       "        this.context.backingStorePixelRatio ||\n",
       "        this.context.webkitBackingStorePixelRatio ||\n",
       "        this.context.mozBackingStorePixelRatio ||\n",
       "        this.context.msBackingStorePixelRatio ||\n",
       "        this.context.oBackingStorePixelRatio ||\n",
       "        this.context.backingStorePixelRatio ||\n",
       "        1;\n",
       "\n",
       "    this.ratio = (window.devicePixelRatio || 1) / backingStore;\n",
       "\n",
       "    var rubberband_canvas = (this.rubberband_canvas = document.createElement(\n",
       "        'canvas'\n",
       "    ));\n",
       "    rubberband_canvas.setAttribute(\n",
       "        'style',\n",
       "        'box-sizing: content-box; position: absolute; left: 0; top: 0; z-index: 1;'\n",
       "    );\n",
       "\n",
       "    // Apply a ponyfill if ResizeObserver is not implemented by browser.\n",
       "    if (this.ResizeObserver === undefined) {\n",
       "        if (window.ResizeObserver !== undefined) {\n",
       "            this.ResizeObserver = window.ResizeObserver;\n",
       "        } else {\n",
       "            var obs = _JSXTOOLS_RESIZE_OBSERVER({});\n",
       "            this.ResizeObserver = obs.ResizeObserver;\n",
       "        }\n",
       "    }\n",
       "\n",
       "    this.resizeObserverInstance = new this.ResizeObserver(function (entries) {\n",
       "        var nentries = entries.length;\n",
       "        for (var i = 0; i < nentries; i++) {\n",
       "            var entry = entries[i];\n",
       "            var width, height;\n",
       "            if (entry.contentBoxSize) {\n",
       "                if (entry.contentBoxSize instanceof Array) {\n",
       "                    // Chrome 84 implements new version of spec.\n",
       "                    width = entry.contentBoxSize[0].inlineSize;\n",
       "                    height = entry.contentBoxSize[0].blockSize;\n",
       "                } else {\n",
       "                    // Firefox implements old version of spec.\n",
       "                    width = entry.contentBoxSize.inlineSize;\n",
       "                    height = entry.contentBoxSize.blockSize;\n",
       "                }\n",
       "            } else {\n",
       "                // Chrome <84 implements even older version of spec.\n",
       "                width = entry.contentRect.width;\n",
       "                height = entry.contentRect.height;\n",
       "            }\n",
       "\n",
       "            // Keep the size of the canvas and rubber band canvas in sync with\n",
       "            // the canvas container.\n",
       "            if (entry.devicePixelContentBoxSize) {\n",
       "                // Chrome 84 implements new version of spec.\n",
       "                canvas.setAttribute(\n",
       "                    'width',\n",
       "                    entry.devicePixelContentBoxSize[0].inlineSize\n",
       "                );\n",
       "                canvas.setAttribute(\n",
       "                    'height',\n",
       "                    entry.devicePixelContentBoxSize[0].blockSize\n",
       "                );\n",
       "            } else {\n",
       "                canvas.setAttribute('width', width * fig.ratio);\n",
       "                canvas.setAttribute('height', height * fig.ratio);\n",
       "            }\n",
       "            canvas.setAttribute(\n",
       "                'style',\n",
       "                'width: ' + width + 'px; height: ' + height + 'px;'\n",
       "            );\n",
       "\n",
       "            rubberband_canvas.setAttribute('width', width);\n",
       "            rubberband_canvas.setAttribute('height', height);\n",
       "\n",
       "            // And update the size in Python. We ignore the initial 0/0 size\n",
       "            // that occurs as the element is placed into the DOM, which should\n",
       "            // otherwise not happen due to the minimum size styling.\n",
       "            if (fig.ws.readyState == 1 && width != 0 && height != 0) {\n",
       "                fig.request_resize(width, height);\n",
       "            }\n",
       "        }\n",
       "    });\n",
       "    this.resizeObserverInstance.observe(canvas_div);\n",
       "\n",
       "    function on_mouse_event_closure(name) {\n",
       "        return function (event) {\n",
       "            return fig.mouse_event(event, name);\n",
       "        };\n",
       "    }\n",
       "\n",
       "    rubberband_canvas.addEventListener(\n",
       "        'mousedown',\n",
       "        on_mouse_event_closure('button_press')\n",
       "    );\n",
       "    rubberband_canvas.addEventListener(\n",
       "        'mouseup',\n",
       "        on_mouse_event_closure('button_release')\n",
       "    );\n",
       "    rubberband_canvas.addEventListener(\n",
       "        'dblclick',\n",
       "        on_mouse_event_closure('dblclick')\n",
       "    );\n",
       "    // Throttle sequential mouse events to 1 every 20ms.\n",
       "    rubberband_canvas.addEventListener(\n",
       "        'mousemove',\n",
       "        on_mouse_event_closure('motion_notify')\n",
       "    );\n",
       "\n",
       "    rubberband_canvas.addEventListener(\n",
       "        'mouseenter',\n",
       "        on_mouse_event_closure('figure_enter')\n",
       "    );\n",
       "    rubberband_canvas.addEventListener(\n",
       "        'mouseleave',\n",
       "        on_mouse_event_closure('figure_leave')\n",
       "    );\n",
       "\n",
       "    canvas_div.addEventListener('wheel', function (event) {\n",
       "        if (event.deltaY < 0) {\n",
       "            event.step = 1;\n",
       "        } else {\n",
       "            event.step = -1;\n",
       "        }\n",
       "        on_mouse_event_closure('scroll')(event);\n",
       "    });\n",
       "\n",
       "    canvas_div.appendChild(canvas);\n",
       "    canvas_div.appendChild(rubberband_canvas);\n",
       "\n",
       "    this.rubberband_context = rubberband_canvas.getContext('2d');\n",
       "    this.rubberband_context.strokeStyle = '#000000';\n",
       "\n",
       "    this._resize_canvas = function (width, height, forward) {\n",
       "        if (forward) {\n",
       "            canvas_div.style.width = width + 'px';\n",
       "            canvas_div.style.height = height + 'px';\n",
       "        }\n",
       "    };\n",
       "\n",
       "    // Disable right mouse context menu.\n",
       "    this.rubberband_canvas.addEventListener('contextmenu', function (_e) {\n",
       "        event.preventDefault();\n",
       "        return false;\n",
       "    });\n",
       "\n",
       "    function set_focus() {\n",
       "        canvas.focus();\n",
       "        canvas_div.focus();\n",
       "    }\n",
       "\n",
       "    window.setTimeout(set_focus, 100);\n",
       "};\n",
       "\n",
       "mpl.figure.prototype._init_toolbar = function () {\n",
       "    var fig = this;\n",
       "\n",
       "    var toolbar = document.createElement('div');\n",
       "    toolbar.classList = 'mpl-toolbar';\n",
       "    this.root.appendChild(toolbar);\n",
       "\n",
       "    function on_click_closure(name) {\n",
       "        return function (_event) {\n",
       "            return fig.toolbar_button_onclick(name);\n",
       "        };\n",
       "    }\n",
       "\n",
       "    function on_mouseover_closure(tooltip) {\n",
       "        return function (event) {\n",
       "            if (!event.currentTarget.disabled) {\n",
       "                return fig.toolbar_button_onmouseover(tooltip);\n",
       "            }\n",
       "        };\n",
       "    }\n",
       "\n",
       "    fig.buttons = {};\n",
       "    var buttonGroup = document.createElement('div');\n",
       "    buttonGroup.classList = 'mpl-button-group';\n",
       "    for (var toolbar_ind in mpl.toolbar_items) {\n",
       "        var name = mpl.toolbar_items[toolbar_ind][0];\n",
       "        var tooltip = mpl.toolbar_items[toolbar_ind][1];\n",
       "        var image = mpl.toolbar_items[toolbar_ind][2];\n",
       "        var method_name = mpl.toolbar_items[toolbar_ind][3];\n",
       "\n",
       "        if (!name) {\n",
       "            /* Instead of a spacer, we start a new button group. */\n",
       "            if (buttonGroup.hasChildNodes()) {\n",
       "                toolbar.appendChild(buttonGroup);\n",
       "            }\n",
       "            buttonGroup = document.createElement('div');\n",
       "            buttonGroup.classList = 'mpl-button-group';\n",
       "            continue;\n",
       "        }\n",
       "\n",
       "        var button = (fig.buttons[name] = document.createElement('button'));\n",
       "        button.classList = 'mpl-widget';\n",
       "        button.setAttribute('role', 'button');\n",
       "        button.setAttribute('aria-disabled', 'false');\n",
       "        button.addEventListener('click', on_click_closure(method_name));\n",
       "        button.addEventListener('mouseover', on_mouseover_closure(tooltip));\n",
       "\n",
       "        var icon_img = document.createElement('img');\n",
       "        icon_img.src = '_images/' + image + '.png';\n",
       "        icon_img.srcset = '_images/' + image + '_large.png 2x';\n",
       "        icon_img.alt = tooltip;\n",
       "        button.appendChild(icon_img);\n",
       "\n",
       "        buttonGroup.appendChild(button);\n",
       "    }\n",
       "\n",
       "    if (buttonGroup.hasChildNodes()) {\n",
       "        toolbar.appendChild(buttonGroup);\n",
       "    }\n",
       "\n",
       "    var fmt_picker = document.createElement('select');\n",
       "    fmt_picker.classList = 'mpl-widget';\n",
       "    toolbar.appendChild(fmt_picker);\n",
       "    this.format_dropdown = fmt_picker;\n",
       "\n",
       "    for (var ind in mpl.extensions) {\n",
       "        var fmt = mpl.extensions[ind];\n",
       "        var option = document.createElement('option');\n",
       "        option.selected = fmt === mpl.default_extension;\n",
       "        option.innerHTML = fmt;\n",
       "        fmt_picker.appendChild(option);\n",
       "    }\n",
       "\n",
       "    var status_bar = document.createElement('span');\n",
       "    status_bar.classList = 'mpl-message';\n",
       "    toolbar.appendChild(status_bar);\n",
       "    this.message = status_bar;\n",
       "};\n",
       "\n",
       "mpl.figure.prototype.request_resize = function (x_pixels, y_pixels) {\n",
       "    // Request matplotlib to resize the figure. Matplotlib will then trigger a resize in the client,\n",
       "    // which will in turn request a refresh of the image.\n",
       "    this.send_message('resize', { width: x_pixels, height: y_pixels });\n",
       "};\n",
       "\n",
       "mpl.figure.prototype.send_message = function (type, properties) {\n",
       "    properties['type'] = type;\n",
       "    properties['figure_id'] = this.id;\n",
       "    this.ws.send(JSON.stringify(properties));\n",
       "};\n",
       "\n",
       "mpl.figure.prototype.send_draw_message = function () {\n",
       "    if (!this.waiting) {\n",
       "        this.waiting = true;\n",
       "        this.ws.send(JSON.stringify({ type: 'draw', figure_id: this.id }));\n",
       "    }\n",
       "};\n",
       "\n",
       "mpl.figure.prototype.handle_save = function (fig, _msg) {\n",
       "    var format_dropdown = fig.format_dropdown;\n",
       "    var format = format_dropdown.options[format_dropdown.selectedIndex].value;\n",
       "    fig.ondownload(fig, format);\n",
       "};\n",
       "\n",
       "mpl.figure.prototype.handle_resize = function (fig, msg) {\n",
       "    var size = msg['size'];\n",
       "    if (size[0] !== fig.canvas.width || size[1] !== fig.canvas.height) {\n",
       "        fig._resize_canvas(size[0], size[1], msg['forward']);\n",
       "        fig.send_message('refresh', {});\n",
       "    }\n",
       "};\n",
       "\n",
       "mpl.figure.prototype.handle_rubberband = function (fig, msg) {\n",
       "    var x0 = msg['x0'] / fig.ratio;\n",
       "    var y0 = (fig.canvas.height - msg['y0']) / fig.ratio;\n",
       "    var x1 = msg['x1'] / fig.ratio;\n",
       "    var y1 = (fig.canvas.height - msg['y1']) / fig.ratio;\n",
       "    x0 = Math.floor(x0) + 0.5;\n",
       "    y0 = Math.floor(y0) + 0.5;\n",
       "    x1 = Math.floor(x1) + 0.5;\n",
       "    y1 = Math.floor(y1) + 0.5;\n",
       "    var min_x = Math.min(x0, x1);\n",
       "    var min_y = Math.min(y0, y1);\n",
       "    var width = Math.abs(x1 - x0);\n",
       "    var height = Math.abs(y1 - y0);\n",
       "\n",
       "    fig.rubberband_context.clearRect(\n",
       "        0,\n",
       "        0,\n",
       "        fig.canvas.width / fig.ratio,\n",
       "        fig.canvas.height / fig.ratio\n",
       "    );\n",
       "\n",
       "    fig.rubberband_context.strokeRect(min_x, min_y, width, height);\n",
       "};\n",
       "\n",
       "mpl.figure.prototype.handle_figure_label = function (fig, msg) {\n",
       "    // Updates the figure title.\n",
       "    fig.header.textContent = msg['label'];\n",
       "};\n",
       "\n",
       "mpl.figure.prototype.handle_cursor = function (fig, msg) {\n",
       "    fig.rubberband_canvas.style.cursor = msg['cursor'];\n",
       "};\n",
       "\n",
       "mpl.figure.prototype.handle_message = function (fig, msg) {\n",
       "    fig.message.textContent = msg['message'];\n",
       "};\n",
       "\n",
       "mpl.figure.prototype.handle_draw = function (fig, _msg) {\n",
       "    // Request the server to send over a new figure.\n",
       "    fig.send_draw_message();\n",
       "};\n",
       "\n",
       "mpl.figure.prototype.handle_image_mode = function (fig, msg) {\n",
       "    fig.image_mode = msg['mode'];\n",
       "};\n",
       "\n",
       "mpl.figure.prototype.handle_history_buttons = function (fig, msg) {\n",
       "    for (var key in msg) {\n",
       "        if (!(key in fig.buttons)) {\n",
       "            continue;\n",
       "        }\n",
       "        fig.buttons[key].disabled = !msg[key];\n",
       "        fig.buttons[key].setAttribute('aria-disabled', !msg[key]);\n",
       "    }\n",
       "};\n",
       "\n",
       "mpl.figure.prototype.handle_navigate_mode = function (fig, msg) {\n",
       "    if (msg['mode'] === 'PAN') {\n",
       "        fig.buttons['Pan'].classList.add('active');\n",
       "        fig.buttons['Zoom'].classList.remove('active');\n",
       "    } else if (msg['mode'] === 'ZOOM') {\n",
       "        fig.buttons['Pan'].classList.remove('active');\n",
       "        fig.buttons['Zoom'].classList.add('active');\n",
       "    } else {\n",
       "        fig.buttons['Pan'].classList.remove('active');\n",
       "        fig.buttons['Zoom'].classList.remove('active');\n",
       "    }\n",
       "};\n",
       "\n",
       "mpl.figure.prototype.updated_canvas_event = function () {\n",
       "    // Called whenever the canvas gets updated.\n",
       "    this.send_message('ack', {});\n",
       "};\n",
       "\n",
       "// A function to construct a web socket function for onmessage handling.\n",
       "// Called in the figure constructor.\n",
       "mpl.figure.prototype._make_on_message_function = function (fig) {\n",
       "    return function socket_on_message(evt) {\n",
       "        if (evt.data instanceof Blob) {\n",
       "            var img = evt.data;\n",
       "            if (img.type !== 'image/png') {\n",
       "                /* FIXME: We get \"Resource interpreted as Image but\n",
       "                 * transferred with MIME type text/plain:\" errors on\n",
       "                 * Chrome.  But how to set the MIME type?  It doesn't seem\n",
       "                 * to be part of the websocket stream */\n",
       "                img.type = 'image/png';\n",
       "            }\n",
       "\n",
       "            /* Free the memory for the previous frames */\n",
       "            if (fig.imageObj.src) {\n",
       "                (window.URL || window.webkitURL).revokeObjectURL(\n",
       "                    fig.imageObj.src\n",
       "                );\n",
       "            }\n",
       "\n",
       "            fig.imageObj.src = (window.URL || window.webkitURL).createObjectURL(\n",
       "                img\n",
       "            );\n",
       "            fig.updated_canvas_event();\n",
       "            fig.waiting = false;\n",
       "            return;\n",
       "        } else if (\n",
       "            typeof evt.data === 'string' &&\n",
       "            evt.data.slice(0, 21) === 'data:image/png;base64'\n",
       "        ) {\n",
       "            fig.imageObj.src = evt.data;\n",
       "            fig.updated_canvas_event();\n",
       "            fig.waiting = false;\n",
       "            return;\n",
       "        }\n",
       "\n",
       "        var msg = JSON.parse(evt.data);\n",
       "        var msg_type = msg['type'];\n",
       "\n",
       "        // Call the  \"handle_{type}\" callback, which takes\n",
       "        // the figure and JSON message as its only arguments.\n",
       "        try {\n",
       "            var callback = fig['handle_' + msg_type];\n",
       "        } catch (e) {\n",
       "            console.log(\n",
       "                \"No handler for the '\" + msg_type + \"' message type: \",\n",
       "                msg\n",
       "            );\n",
       "            return;\n",
       "        }\n",
       "\n",
       "        if (callback) {\n",
       "            try {\n",
       "                // console.log(\"Handling '\" + msg_type + \"' message: \", msg);\n",
       "                callback(fig, msg);\n",
       "            } catch (e) {\n",
       "                console.log(\n",
       "                    \"Exception inside the 'handler_\" + msg_type + \"' callback:\",\n",
       "                    e,\n",
       "                    e.stack,\n",
       "                    msg\n",
       "                );\n",
       "            }\n",
       "        }\n",
       "    };\n",
       "};\n",
       "\n",
       "// from https://stackoverflow.com/questions/1114465/getting-mouse-location-in-canvas\n",
       "mpl.findpos = function (e) {\n",
       "    //this section is from http://www.quirksmode.org/js/events_properties.html\n",
       "    var targ;\n",
       "    if (!e) {\n",
       "        e = window.event;\n",
       "    }\n",
       "    if (e.target) {\n",
       "        targ = e.target;\n",
       "    } else if (e.srcElement) {\n",
       "        targ = e.srcElement;\n",
       "    }\n",
       "    if (targ.nodeType === 3) {\n",
       "        // defeat Safari bug\n",
       "        targ = targ.parentNode;\n",
       "    }\n",
       "\n",
       "    // pageX,Y are the mouse positions relative to the document\n",
       "    var boundingRect = targ.getBoundingClientRect();\n",
       "    var x = e.pageX - (boundingRect.left + document.body.scrollLeft);\n",
       "    var y = e.pageY - (boundingRect.top + document.body.scrollTop);\n",
       "\n",
       "    return { x: x, y: y };\n",
       "};\n",
       "\n",
       "/*\n",
       " * return a copy of an object with only non-object keys\n",
       " * we need this to avoid circular references\n",
       " * https://stackoverflow.com/a/24161582/3208463\n",
       " */\n",
       "function simpleKeys(original) {\n",
       "    return Object.keys(original).reduce(function (obj, key) {\n",
       "        if (typeof original[key] !== 'object') {\n",
       "            obj[key] = original[key];\n",
       "        }\n",
       "        return obj;\n",
       "    }, {});\n",
       "}\n",
       "\n",
       "mpl.figure.prototype.mouse_event = function (event, name) {\n",
       "    var canvas_pos = mpl.findpos(event);\n",
       "\n",
       "    if (name === 'button_press') {\n",
       "        this.canvas.focus();\n",
       "        this.canvas_div.focus();\n",
       "    }\n",
       "\n",
       "    var x = canvas_pos.x * this.ratio;\n",
       "    var y = canvas_pos.y * this.ratio;\n",
       "\n",
       "    this.send_message(name, {\n",
       "        x: x,\n",
       "        y: y,\n",
       "        button: event.button,\n",
       "        step: event.step,\n",
       "        guiEvent: simpleKeys(event),\n",
       "    });\n",
       "\n",
       "    /* This prevents the web browser from automatically changing to\n",
       "     * the text insertion cursor when the button is pressed.  We want\n",
       "     * to control all of the cursor setting manually through the\n",
       "     * 'cursor' event from matplotlib */\n",
       "    event.preventDefault();\n",
       "    return false;\n",
       "};\n",
       "\n",
       "mpl.figure.prototype._key_event_extra = function (_event, _name) {\n",
       "    // Handle any extra behaviour associated with a key event\n",
       "};\n",
       "\n",
       "mpl.figure.prototype.key_event = function (event, name) {\n",
       "    // Prevent repeat events\n",
       "    if (name === 'key_press') {\n",
       "        if (event.key === this._key) {\n",
       "            return;\n",
       "        } else {\n",
       "            this._key = event.key;\n",
       "        }\n",
       "    }\n",
       "    if (name === 'key_release') {\n",
       "        this._key = null;\n",
       "    }\n",
       "\n",
       "    var value = '';\n",
       "    if (event.ctrlKey && event.key !== 'Control') {\n",
       "        value += 'ctrl+';\n",
       "    }\n",
       "    else if (event.altKey && event.key !== 'Alt') {\n",
       "        value += 'alt+';\n",
       "    }\n",
       "    else if (event.shiftKey && event.key !== 'Shift') {\n",
       "        value += 'shift+';\n",
       "    }\n",
       "\n",
       "    value += 'k' + event.key;\n",
       "\n",
       "    this._key_event_extra(event, name);\n",
       "\n",
       "    this.send_message(name, { key: value, guiEvent: simpleKeys(event) });\n",
       "    return false;\n",
       "};\n",
       "\n",
       "mpl.figure.prototype.toolbar_button_onclick = function (name) {\n",
       "    if (name === 'download') {\n",
       "        this.handle_save(this, null);\n",
       "    } else {\n",
       "        this.send_message('toolbar_button', { name: name });\n",
       "    }\n",
       "};\n",
       "\n",
       "mpl.figure.prototype.toolbar_button_onmouseover = function (tooltip) {\n",
       "    this.message.textContent = tooltip;\n",
       "};\n",
       "\n",
       "///////////////// REMAINING CONTENT GENERATED BY embed_js.py /////////////////\n",
       "// prettier-ignore\n",
       "var _JSXTOOLS_RESIZE_OBSERVER=function(A){var t,i=new WeakMap,n=new WeakMap,a=new WeakMap,r=new WeakMap,o=new Set;function s(e){if(!(this instanceof s))throw new TypeError(\"Constructor requires 'new' operator\");i.set(this,e)}function h(){throw new TypeError(\"Function is not a constructor\")}function c(e,t,i,n){e=0 in arguments?Number(arguments[0]):0,t=1 in arguments?Number(arguments[1]):0,i=2 in arguments?Number(arguments[2]):0,n=3 in arguments?Number(arguments[3]):0,this.right=(this.x=this.left=e)+(this.width=i),this.bottom=(this.y=this.top=t)+(this.height=n),Object.freeze(this)}function d(){t=requestAnimationFrame(d);var s=new WeakMap,p=new Set;o.forEach((function(t){r.get(t).forEach((function(i){var r=t instanceof window.SVGElement,o=a.get(t),d=r?0:parseFloat(o.paddingTop),f=r?0:parseFloat(o.paddingRight),l=r?0:parseFloat(o.paddingBottom),u=r?0:parseFloat(o.paddingLeft),g=r?0:parseFloat(o.borderTopWidth),m=r?0:parseFloat(o.borderRightWidth),w=r?0:parseFloat(o.borderBottomWidth),b=u+f,F=d+l,v=(r?0:parseFloat(o.borderLeftWidth))+m,W=g+w,y=r?0:t.offsetHeight-W-t.clientHeight,E=r?0:t.offsetWidth-v-t.clientWidth,R=b+v,z=F+W,M=r?t.width:parseFloat(o.width)-R-E,O=r?t.height:parseFloat(o.height)-z-y;if(n.has(t)){var k=n.get(t);if(k[0]===M&&k[1]===O)return}n.set(t,[M,O]);var S=Object.create(h.prototype);S.target=t,S.contentRect=new c(u,d,M,O),s.has(i)||(s.set(i,[]),p.add(i)),s.get(i).push(S)}))})),p.forEach((function(e){i.get(e).call(e,s.get(e),e)}))}return s.prototype.observe=function(i){if(i instanceof window.Element){r.has(i)||(r.set(i,new Set),o.add(i),a.set(i,window.getComputedStyle(i)));var n=r.get(i);n.has(this)||n.add(this),cancelAnimationFrame(t),t=requestAnimationFrame(d)}},s.prototype.unobserve=function(i){if(i instanceof window.Element&&r.has(i)){var n=r.get(i);n.has(this)&&(n.delete(this),n.size||(r.delete(i),o.delete(i))),n.size||r.delete(i),o.size||cancelAnimationFrame(t)}},A.DOMRectReadOnly=c,A.ResizeObserver=s,A.ResizeObserverEntry=h,A}; // eslint-disable-line\n",
       "mpl.toolbar_items = [[\"Home\", \"Reset original view\", \"fa fa-home icon-home\", \"home\"], [\"Back\", \"Back to previous view\", \"fa fa-arrow-left icon-arrow-left\", \"back\"], [\"Forward\", \"Forward to next view\", \"fa fa-arrow-right icon-arrow-right\", \"forward\"], [\"\", \"\", \"\", \"\"], [\"Pan\", \"Left button pans, Right button zooms\\nx/y fixes axis, CTRL fixes aspect\", \"fa fa-arrows icon-move\", \"pan\"], [\"Zoom\", \"Zoom to rectangle\\nx/y fixes axis\", \"fa fa-square-o icon-check-empty\", \"zoom\"], [\"\", \"\", \"\", \"\"], [\"Download\", \"Download plot\", \"fa fa-floppy-o icon-save\", \"download\"]];\n",
       "\n",
       "mpl.extensions = [\"eps\", \"jpeg\", \"pgf\", \"pdf\", \"png\", \"ps\", \"raw\", \"svg\", \"tif\"];\n",
       "\n",
       "mpl.default_extension = \"png\";/* global mpl */\n",
       "\n",
       "var comm_websocket_adapter = function (comm) {\n",
       "    // Create a \"websocket\"-like object which calls the given IPython comm\n",
       "    // object with the appropriate methods. Currently this is a non binary\n",
       "    // socket, so there is still some room for performance tuning.\n",
       "    var ws = {};\n",
       "\n",
       "    ws.binaryType = comm.kernel.ws.binaryType;\n",
       "    ws.readyState = comm.kernel.ws.readyState;\n",
       "    function updateReadyState(_event) {\n",
       "        if (comm.kernel.ws) {\n",
       "            ws.readyState = comm.kernel.ws.readyState;\n",
       "        } else {\n",
       "            ws.readyState = 3; // Closed state.\n",
       "        }\n",
       "    }\n",
       "    comm.kernel.ws.addEventListener('open', updateReadyState);\n",
       "    comm.kernel.ws.addEventListener('close', updateReadyState);\n",
       "    comm.kernel.ws.addEventListener('error', updateReadyState);\n",
       "\n",
       "    ws.close = function () {\n",
       "        comm.close();\n",
       "    };\n",
       "    ws.send = function (m) {\n",
       "        //console.log('sending', m);\n",
       "        comm.send(m);\n",
       "    };\n",
       "    // Register the callback with on_msg.\n",
       "    comm.on_msg(function (msg) {\n",
       "        //console.log('receiving', msg['content']['data'], msg);\n",
       "        var data = msg['content']['data'];\n",
       "        if (data['blob'] !== undefined) {\n",
       "            data = {\n",
       "                data: new Blob(msg['buffers'], { type: data['blob'] }),\n",
       "            };\n",
       "        }\n",
       "        // Pass the mpl event to the overridden (by mpl) onmessage function.\n",
       "        ws.onmessage(data);\n",
       "    });\n",
       "    return ws;\n",
       "};\n",
       "\n",
       "mpl.mpl_figure_comm = function (comm, msg) {\n",
       "    // This is the function which gets called when the mpl process\n",
       "    // starts-up an IPython Comm through the \"matplotlib\" channel.\n",
       "\n",
       "    var id = msg.content.data.id;\n",
       "    // Get hold of the div created by the display call when the Comm\n",
       "    // socket was opened in Python.\n",
       "    var element = document.getElementById(id);\n",
       "    var ws_proxy = comm_websocket_adapter(comm);\n",
       "\n",
       "    function ondownload(figure, _format) {\n",
       "        window.open(figure.canvas.toDataURL());\n",
       "    }\n",
       "\n",
       "    var fig = new mpl.figure(id, ws_proxy, ondownload, element);\n",
       "\n",
       "    // Call onopen now - mpl needs it, as it is assuming we've passed it a real\n",
       "    // web socket which is closed, not our websocket->open comm proxy.\n",
       "    ws_proxy.onopen();\n",
       "\n",
       "    fig.parent_element = element;\n",
       "    fig.cell_info = mpl.find_output_cell(\"<div id='\" + id + \"'></div>\");\n",
       "    if (!fig.cell_info) {\n",
       "        console.error('Failed to find cell for figure', id, fig);\n",
       "        return;\n",
       "    }\n",
       "    fig.cell_info[0].output_area.element.on(\n",
       "        'cleared',\n",
       "        { fig: fig },\n",
       "        fig._remove_fig_handler\n",
       "    );\n",
       "};\n",
       "\n",
       "mpl.figure.prototype.handle_close = function (fig, msg) {\n",
       "    var width = fig.canvas.width / fig.ratio;\n",
       "    fig.cell_info[0].output_area.element.off(\n",
       "        'cleared',\n",
       "        fig._remove_fig_handler\n",
       "    );\n",
       "    fig.resizeObserverInstance.unobserve(fig.canvas_div);\n",
       "\n",
       "    // Update the output cell to use the data from the current canvas.\n",
       "    fig.push_to_output();\n",
       "    var dataURL = fig.canvas.toDataURL();\n",
       "    // Re-enable the keyboard manager in IPython - without this line, in FF,\n",
       "    // the notebook keyboard shortcuts fail.\n",
       "    IPython.keyboard_manager.enable();\n",
       "    fig.parent_element.innerHTML =\n",
       "        '<img src=\"' + dataURL + '\" width=\"' + width + '\">';\n",
       "    fig.close_ws(fig, msg);\n",
       "};\n",
       "\n",
       "mpl.figure.prototype.close_ws = function (fig, msg) {\n",
       "    fig.send_message('closing', msg);\n",
       "    // fig.ws.close()\n",
       "};\n",
       "\n",
       "mpl.figure.prototype.push_to_output = function (_remove_interactive) {\n",
       "    // Turn the data on the canvas into data in the output cell.\n",
       "    var width = this.canvas.width / this.ratio;\n",
       "    var dataURL = this.canvas.toDataURL();\n",
       "    this.cell_info[1]['text/html'] =\n",
       "        '<img src=\"' + dataURL + '\" width=\"' + width + '\">';\n",
       "};\n",
       "\n",
       "mpl.figure.prototype.updated_canvas_event = function () {\n",
       "    // Tell IPython that the notebook contents must change.\n",
       "    IPython.notebook.set_dirty(true);\n",
       "    this.send_message('ack', {});\n",
       "    var fig = this;\n",
       "    // Wait a second, then push the new image to the DOM so\n",
       "    // that it is saved nicely (might be nice to debounce this).\n",
       "    setTimeout(function () {\n",
       "        fig.push_to_output();\n",
       "    }, 1000);\n",
       "};\n",
       "\n",
       "mpl.figure.prototype._init_toolbar = function () {\n",
       "    var fig = this;\n",
       "\n",
       "    var toolbar = document.createElement('div');\n",
       "    toolbar.classList = 'btn-toolbar';\n",
       "    this.root.appendChild(toolbar);\n",
       "\n",
       "    function on_click_closure(name) {\n",
       "        return function (_event) {\n",
       "            return fig.toolbar_button_onclick(name);\n",
       "        };\n",
       "    }\n",
       "\n",
       "    function on_mouseover_closure(tooltip) {\n",
       "        return function (event) {\n",
       "            if (!event.currentTarget.disabled) {\n",
       "                return fig.toolbar_button_onmouseover(tooltip);\n",
       "            }\n",
       "        };\n",
       "    }\n",
       "\n",
       "    fig.buttons = {};\n",
       "    var buttonGroup = document.createElement('div');\n",
       "    buttonGroup.classList = 'btn-group';\n",
       "    var button;\n",
       "    for (var toolbar_ind in mpl.toolbar_items) {\n",
       "        var name = mpl.toolbar_items[toolbar_ind][0];\n",
       "        var tooltip = mpl.toolbar_items[toolbar_ind][1];\n",
       "        var image = mpl.toolbar_items[toolbar_ind][2];\n",
       "        var method_name = mpl.toolbar_items[toolbar_ind][3];\n",
       "\n",
       "        if (!name) {\n",
       "            /* Instead of a spacer, we start a new button group. */\n",
       "            if (buttonGroup.hasChildNodes()) {\n",
       "                toolbar.appendChild(buttonGroup);\n",
       "            }\n",
       "            buttonGroup = document.createElement('div');\n",
       "            buttonGroup.classList = 'btn-group';\n",
       "            continue;\n",
       "        }\n",
       "\n",
       "        button = fig.buttons[name] = document.createElement('button');\n",
       "        button.classList = 'btn btn-default';\n",
       "        button.href = '#';\n",
       "        button.title = name;\n",
       "        button.innerHTML = '<i class=\"fa ' + image + ' fa-lg\"></i>';\n",
       "        button.addEventListener('click', on_click_closure(method_name));\n",
       "        button.addEventListener('mouseover', on_mouseover_closure(tooltip));\n",
       "        buttonGroup.appendChild(button);\n",
       "    }\n",
       "\n",
       "    if (buttonGroup.hasChildNodes()) {\n",
       "        toolbar.appendChild(buttonGroup);\n",
       "    }\n",
       "\n",
       "    // Add the status bar.\n",
       "    var status_bar = document.createElement('span');\n",
       "    status_bar.classList = 'mpl-message pull-right';\n",
       "    toolbar.appendChild(status_bar);\n",
       "    this.message = status_bar;\n",
       "\n",
       "    // Add the close button to the window.\n",
       "    var buttongrp = document.createElement('div');\n",
       "    buttongrp.classList = 'btn-group inline pull-right';\n",
       "    button = document.createElement('button');\n",
       "    button.classList = 'btn btn-mini btn-primary';\n",
       "    button.href = '#';\n",
       "    button.title = 'Stop Interaction';\n",
       "    button.innerHTML = '<i class=\"fa fa-power-off icon-remove icon-large\"></i>';\n",
       "    button.addEventListener('click', function (_evt) {\n",
       "        fig.handle_close(fig, {});\n",
       "    });\n",
       "    button.addEventListener(\n",
       "        'mouseover',\n",
       "        on_mouseover_closure('Stop Interaction')\n",
       "    );\n",
       "    buttongrp.appendChild(button);\n",
       "    var titlebar = this.root.querySelector('.ui-dialog-titlebar');\n",
       "    titlebar.insertBefore(buttongrp, titlebar.firstChild);\n",
       "};\n",
       "\n",
       "mpl.figure.prototype._remove_fig_handler = function (event) {\n",
       "    var fig = event.data.fig;\n",
       "    if (event.target !== this) {\n",
       "        // Ignore bubbled events from children.\n",
       "        return;\n",
       "    }\n",
       "    fig.close_ws(fig, {});\n",
       "};\n",
       "\n",
       "mpl.figure.prototype._root_extra_style = function (el) {\n",
       "    el.style.boxSizing = 'content-box'; // override notebook setting of border-box.\n",
       "};\n",
       "\n",
       "mpl.figure.prototype._canvas_extra_style = function (el) {\n",
       "    // this is important to make the div 'focusable\n",
       "    el.setAttribute('tabindex', 0);\n",
       "    // reach out to IPython and tell the keyboard manager to turn it's self\n",
       "    // off when our div gets focus\n",
       "\n",
       "    // location in version 3\n",
       "    if (IPython.notebook.keyboard_manager) {\n",
       "        IPython.notebook.keyboard_manager.register_events(el);\n",
       "    } else {\n",
       "        // location in version 2\n",
       "        IPython.keyboard_manager.register_events(el);\n",
       "    }\n",
       "};\n",
       "\n",
       "mpl.figure.prototype._key_event_extra = function (event, _name) {\n",
       "    // Check for shift+enter\n",
       "    if (event.shiftKey && event.which === 13) {\n",
       "        this.canvas_div.blur();\n",
       "        // select the cell after this one\n",
       "        var index = IPython.notebook.find_cell_index(this.cell_info[0]);\n",
       "        IPython.notebook.select(index + 1);\n",
       "    }\n",
       "};\n",
       "\n",
       "mpl.figure.prototype.handle_save = function (fig, _msg) {\n",
       "    fig.ondownload(fig, null);\n",
       "};\n",
       "\n",
       "mpl.find_output_cell = function (html_output) {\n",
       "    // Return the cell and output element which can be found *uniquely* in the notebook.\n",
       "    // Note - this is a bit hacky, but it is done because the \"notebook_saving.Notebook\"\n",
       "    // IPython event is triggered only after the cells have been serialised, which for\n",
       "    // our purposes (turning an active figure into a static one), is too late.\n",
       "    var cells = IPython.notebook.get_cells();\n",
       "    var ncells = cells.length;\n",
       "    for (var i = 0; i < ncells; i++) {\n",
       "        var cell = cells[i];\n",
       "        if (cell.cell_type === 'code') {\n",
       "            for (var j = 0; j < cell.output_area.outputs.length; j++) {\n",
       "                var data = cell.output_area.outputs[j];\n",
       "                if (data.data) {\n",
       "                    // IPython >= 3 moved mimebundle to data attribute of output\n",
       "                    data = data.data;\n",
       "                }\n",
       "                if (data['text/html'] === html_output) {\n",
       "                    return [cell, data, j];\n",
       "                }\n",
       "            }\n",
       "        }\n",
       "    }\n",
       "};\n",
       "\n",
       "// Register the function which deals with the matplotlib target/channel.\n",
       "// The kernel may be null if the page has been refreshed.\n",
       "if (IPython.notebook.kernel !== null) {\n",
       "    IPython.notebook.kernel.comm_manager.register_target(\n",
       "        'matplotlib',\n",
       "        mpl.mpl_figure_comm\n",
       "    );\n",
       "}\n"
      ],
      "text/plain": [
       "<IPython.core.display.Javascript object>"
      ]
     },
     "metadata": {},
     "output_type": "display_data"
    },
    {
     "data": {
      "text/html": [
       "<img src=\"data:image/png;base64,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\" width=\"640\">"
      ],
      "text/plain": [
       "<IPython.core.display.HTML object>"
      ]
     },
     "metadata": {},
     "output_type": "display_data"
    }
   ],
   "source": [
    "%matplotlib notebook\n",
    "\n",
    "plot = Plot(points=[PointsCollection(diff(random_points_d, epsilon3, epsilon3, det_3x3, det_3x3_lib))])\n",
    "plot.draw()"
   ]
  },
  {
   "cell_type": "markdown",
   "metadata": {
    "pycharm": {
     "name": "#%%\n"
    }
   },
   "source": [
    "# Zadanie 5"
   ]
  },
  {
   "cell_type": "code",
   "execution_count": null,
   "metadata": {
    "pycharm": {
     "name": "#%%\n"
    }
   },
   "outputs": [],
   "source": [
    "from time import time\n",
    "\n",
    "start = time()\n",
    "classify_orient(random_points_b, det_2x2, epsilon3)\n",
    "stop = time()\n",
    "print(\"2x2:\", stop - start)\n",
    "\n",
    "start = time()\n",
    "classify_orient(random_points_b, det_2x2_lib, epsilon3)\n",
    "stop = time()\n",
    "print(\"2x2_lib:\", stop - start)\n",
    "\n",
    "start = time()\n",
    "classify_orient(random_points_b, det_3x3, epsilon3)\n",
    "stop = time()\n",
    "print(\"3x3:\", stop - start)\n",
    "\n",
    "start = time()\n",
    "classify_orient(random_points_b, det_3x3_lib, epsilon3)\n",
    "stop = time()\n",
    "print(\"3x3_lib:\", stop - start)"
   ]
  },
  {
   "cell_type": "markdown",
   "metadata": {
    "pycharm": {
     "name": "#%% md\n"
    }
   },
   "source": [
    "## Wnioski"
   ]
  },
  {
   "cell_type": "markdown",
   "metadata": {
    "pycharm": {
     "is_executing": true,
     "name": "#%%\n"
    }
   },
   "source": [
    "Wybór sposobu liczenia wyznacznika ma wpływ na klasyfikację punktów, jednak większe znaczenie ma wybór wartości epsilon. Można także zauważyć, że dla większych zbiorów wyniki są bardziej podatne na zmiany wartości parametrówmi sposobów obliczeń, wynika to z dystrybucji wylosowanych punktów."
   ]
  },
  {
   "cell_type": "code",
   "execution_count": null,
   "metadata": {},
   "outputs": [],
   "source": []
  }
 ],
 "metadata": {
  "kernelspec": {
   "display_name": "Python 3 (ipykernel)",
   "language": "python",
   "name": "python3"
  },
  "language_info": {
   "codemirror_mode": {
    "name": "ipython",
    "version": 3
   },
   "file_extension": ".py",
   "mimetype": "text/x-python",
   "name": "python",
   "nbconvert_exporter": "python",
   "pygments_lexer": "ipython3",
   "version": "3.9.12"
  }
 },
 "nbformat": 4,
 "nbformat_minor": 1
}
